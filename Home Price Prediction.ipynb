{
 "cells": [
  {
   "cell_type": "code",
   "execution_count": 1,
   "id": "central-mercury",
   "metadata": {},
   "outputs": [],
   "source": [
    "import numpy as np\n",
    "import pandas as pd\n",
    "import matplotlib.pyplot as plt\n",
    "import seaborn as sns\n",
    "%matplotlib inline"
   ]
  },
  {
   "cell_type": "code",
   "execution_count": 2,
   "id": "maritime-ebony",
   "metadata": {},
   "outputs": [],
   "source": [
    "data = pd.read_csv(\"MagicBricks.csv\")"
   ]
  },
  {
   "cell_type": "code",
   "execution_count": 3,
   "id": "collaborative-virgin",
   "metadata": {},
   "outputs": [
    {
     "data": {
      "text/html": [
       "<div>\n",
       "<style scoped>\n",
       "    .dataframe tbody tr th:only-of-type {\n",
       "        vertical-align: middle;\n",
       "    }\n",
       "\n",
       "    .dataframe tbody tr th {\n",
       "        vertical-align: top;\n",
       "    }\n",
       "\n",
       "    .dataframe thead th {\n",
       "        text-align: right;\n",
       "    }\n",
       "</style>\n",
       "<table border=\"1\" class=\"dataframe\">\n",
       "  <thead>\n",
       "    <tr style=\"text-align: right;\">\n",
       "      <th></th>\n",
       "      <th>Area</th>\n",
       "      <th>BHK</th>\n",
       "      <th>Bathroom</th>\n",
       "      <th>Furnishing</th>\n",
       "      <th>Locality</th>\n",
       "      <th>Parking</th>\n",
       "      <th>Price</th>\n",
       "      <th>Status</th>\n",
       "      <th>Transaction</th>\n",
       "      <th>Type</th>\n",
       "      <th>Per_Sqft</th>\n",
       "    </tr>\n",
       "  </thead>\n",
       "  <tbody>\n",
       "    <tr>\n",
       "      <th>0</th>\n",
       "      <td>800.0</td>\n",
       "      <td>3</td>\n",
       "      <td>2.0</td>\n",
       "      <td>Semi-Furnished</td>\n",
       "      <td>Rohini Sector 25</td>\n",
       "      <td>1.0</td>\n",
       "      <td>6500000</td>\n",
       "      <td>Ready_to_move</td>\n",
       "      <td>New_Property</td>\n",
       "      <td>Builder_Floor</td>\n",
       "      <td>NaN</td>\n",
       "    </tr>\n",
       "    <tr>\n",
       "      <th>1</th>\n",
       "      <td>750.0</td>\n",
       "      <td>2</td>\n",
       "      <td>2.0</td>\n",
       "      <td>Semi-Furnished</td>\n",
       "      <td>J R Designers Floors, Rohini Sector 24</td>\n",
       "      <td>1.0</td>\n",
       "      <td>5000000</td>\n",
       "      <td>Ready_to_move</td>\n",
       "      <td>New_Property</td>\n",
       "      <td>Apartment</td>\n",
       "      <td>6667.0</td>\n",
       "    </tr>\n",
       "    <tr>\n",
       "      <th>2</th>\n",
       "      <td>950.0</td>\n",
       "      <td>2</td>\n",
       "      <td>2.0</td>\n",
       "      <td>Furnished</td>\n",
       "      <td>Citizen Apartment, Rohini Sector 13</td>\n",
       "      <td>1.0</td>\n",
       "      <td>15500000</td>\n",
       "      <td>Ready_to_move</td>\n",
       "      <td>Resale</td>\n",
       "      <td>Apartment</td>\n",
       "      <td>6667.0</td>\n",
       "    </tr>\n",
       "    <tr>\n",
       "      <th>3</th>\n",
       "      <td>600.0</td>\n",
       "      <td>2</td>\n",
       "      <td>2.0</td>\n",
       "      <td>Semi-Furnished</td>\n",
       "      <td>Rohini Sector 24</td>\n",
       "      <td>1.0</td>\n",
       "      <td>4200000</td>\n",
       "      <td>Ready_to_move</td>\n",
       "      <td>Resale</td>\n",
       "      <td>Builder_Floor</td>\n",
       "      <td>6667.0</td>\n",
       "    </tr>\n",
       "    <tr>\n",
       "      <th>4</th>\n",
       "      <td>650.0</td>\n",
       "      <td>2</td>\n",
       "      <td>2.0</td>\n",
       "      <td>Semi-Furnished</td>\n",
       "      <td>Rohini Sector 24 carpet area 650 sqft status R...</td>\n",
       "      <td>1.0</td>\n",
       "      <td>6200000</td>\n",
       "      <td>Ready_to_move</td>\n",
       "      <td>New_Property</td>\n",
       "      <td>Builder_Floor</td>\n",
       "      <td>6667.0</td>\n",
       "    </tr>\n",
       "  </tbody>\n",
       "</table>\n",
       "</div>"
      ],
      "text/plain": [
       "    Area  BHK  Bathroom      Furnishing  \\\n",
       "0  800.0    3       2.0  Semi-Furnished   \n",
       "1  750.0    2       2.0  Semi-Furnished   \n",
       "2  950.0    2       2.0       Furnished   \n",
       "3  600.0    2       2.0  Semi-Furnished   \n",
       "4  650.0    2       2.0  Semi-Furnished   \n",
       "\n",
       "                                            Locality  Parking     Price  \\\n",
       "0                                   Rohini Sector 25      1.0   6500000   \n",
       "1             J R Designers Floors, Rohini Sector 24      1.0   5000000   \n",
       "2                Citizen Apartment, Rohini Sector 13      1.0  15500000   \n",
       "3                                   Rohini Sector 24      1.0   4200000   \n",
       "4  Rohini Sector 24 carpet area 650 sqft status R...      1.0   6200000   \n",
       "\n",
       "          Status   Transaction           Type  Per_Sqft  \n",
       "0  Ready_to_move  New_Property  Builder_Floor       NaN  \n",
       "1  Ready_to_move  New_Property      Apartment    6667.0  \n",
       "2  Ready_to_move        Resale      Apartment    6667.0  \n",
       "3  Ready_to_move        Resale  Builder_Floor    6667.0  \n",
       "4  Ready_to_move  New_Property  Builder_Floor    6667.0  "
      ]
     },
     "execution_count": 3,
     "metadata": {},
     "output_type": "execute_result"
    }
   ],
   "source": [
    "data.head()"
   ]
  },
  {
   "cell_type": "code",
   "execution_count": 4,
   "id": "twenty-simple",
   "metadata": {},
   "outputs": [
    {
     "data": {
      "text/plain": [
       "(1259, 11)"
      ]
     },
     "execution_count": 4,
     "metadata": {},
     "output_type": "execute_result"
    }
   ],
   "source": [
    "data.shape"
   ]
  },
  {
   "cell_type": "code",
   "execution_count": 5,
   "id": "preceding-warning",
   "metadata": {},
   "outputs": [
    {
     "data": {
      "text/plain": [
       "Index(['Area', 'BHK', 'Bathroom', 'Furnishing', 'Locality', 'Parking', 'Price',\n",
       "       'Status', 'Transaction', 'Type', 'Per_Sqft'],\n",
       "      dtype='object')"
      ]
     },
     "execution_count": 5,
     "metadata": {},
     "output_type": "execute_result"
    }
   ],
   "source": [
    "data.columns"
   ]
  },
  {
   "cell_type": "markdown",
   "id": "cordless-nutrition",
   "metadata": {},
   "source": [
    "#### Area = Area of the Property in square feet\n",
    "#### BHK = No. of Bedrooms along with 1 Hall and 1 kitchen\n",
    "#### Bathroom = No. of Bathrooms\n",
    "#### Furnishing = Whether listed property is furnished , unfurnished or semi furnished\n",
    "#### Locality = Locality in which property lies\n",
    "#### Parking = No. of parking available\n",
    "#### Price = This is the Price of property in INR\n",
    "#### Status = property's status as in 'ready to move' or still under construction\n",
    "#### Transaction = Its a new property or being re-sold\n",
    "#### Type = Its an Apartment or Builder Floor\n",
    "#### Per_Sqft = Price per square feet"
   ]
  },
  {
   "cell_type": "code",
   "execution_count": 6,
   "id": "standing-guide",
   "metadata": {},
   "outputs": [
    {
     "name": "stdout",
     "output_type": "stream",
     "text": [
      "<class 'pandas.core.frame.DataFrame'>\n",
      "RangeIndex: 1259 entries, 0 to 1258\n",
      "Data columns (total 11 columns):\n",
      " #   Column       Non-Null Count  Dtype  \n",
      "---  ------       --------------  -----  \n",
      " 0   Area         1259 non-null   float64\n",
      " 1   BHK          1259 non-null   int64  \n",
      " 2   Bathroom     1257 non-null   float64\n",
      " 3   Furnishing   1254 non-null   object \n",
      " 4   Locality     1259 non-null   object \n",
      " 5   Parking      1226 non-null   float64\n",
      " 6   Price        1259 non-null   int64  \n",
      " 7   Status       1259 non-null   object \n",
      " 8   Transaction  1259 non-null   object \n",
      " 9   Type         1254 non-null   object \n",
      " 10  Per_Sqft     1018 non-null   float64\n",
      "dtypes: float64(4), int64(2), object(5)\n",
      "memory usage: 108.3+ KB\n"
     ]
    }
   ],
   "source": [
    "data.info()"
   ]
  },
  {
   "cell_type": "markdown",
   "id": "requested-kingdom",
   "metadata": {},
   "source": [
    "## Handling Null Values"
   ]
  },
  {
   "cell_type": "code",
   "execution_count": 7,
   "id": "expected-delight",
   "metadata": {},
   "outputs": [
    {
     "data": {
      "text/plain": [
       "Area           False\n",
       "BHK            False\n",
       "Bathroom        True\n",
       "Furnishing      True\n",
       "Locality       False\n",
       "Parking         True\n",
       "Price          False\n",
       "Status         False\n",
       "Transaction    False\n",
       "Type            True\n",
       "Per_Sqft        True\n",
       "dtype: bool"
      ]
     },
     "execution_count": 7,
     "metadata": {},
     "output_type": "execute_result"
    }
   ],
   "source": [
    "data.isna().any()"
   ]
  },
  {
   "cell_type": "markdown",
   "id": "whole-union",
   "metadata": {},
   "source": [
    "### handling null values from numeric data"
   ]
  },
  {
   "cell_type": "code",
   "execution_count": 8,
   "id": "domestic-running",
   "metadata": {},
   "outputs": [
    {
     "data": {
      "text/plain": [
       "Area        float64\n",
       "BHK           int64\n",
       "Bathroom    float64\n",
       "Parking     float64\n",
       "Price         int64\n",
       "Per_Sqft    float64\n",
       "dtype: object"
      ]
     },
     "execution_count": 8,
     "metadata": {},
     "output_type": "execute_result"
    }
   ],
   "source": [
    "columns_numeric = data.select_dtypes(include=[np.number])\n",
    "columns_numeric.dtypes"
   ]
  },
  {
   "cell_type": "code",
   "execution_count": 9,
   "id": "geographic-terry",
   "metadata": {},
   "outputs": [
    {
     "data": {
      "text/plain": [
       "Area          0\n",
       "BHK           0\n",
       "Bathroom      2\n",
       "Parking      33\n",
       "Price         0\n",
       "Per_Sqft    241\n",
       "dtype: int64"
      ]
     },
     "execution_count": 9,
     "metadata": {},
     "output_type": "execute_result"
    }
   ],
   "source": [
    "columns_numeric.isna().sum()"
   ]
  },
  {
   "cell_type": "code",
   "execution_count": 10,
   "id": "union-router",
   "metadata": {},
   "outputs": [
    {
     "data": {
      "text/html": [
       "<div>\n",
       "<style scoped>\n",
       "    .dataframe tbody tr th:only-of-type {\n",
       "        vertical-align: middle;\n",
       "    }\n",
       "\n",
       "    .dataframe tbody tr th {\n",
       "        vertical-align: top;\n",
       "    }\n",
       "\n",
       "    .dataframe thead th {\n",
       "        text-align: right;\n",
       "    }\n",
       "</style>\n",
       "<table border=\"1\" class=\"dataframe\">\n",
       "  <thead>\n",
       "    <tr style=\"text-align: right;\">\n",
       "      <th></th>\n",
       "      <th>Area</th>\n",
       "      <th>BHK</th>\n",
       "      <th>Bathroom</th>\n",
       "      <th>Parking</th>\n",
       "      <th>Price</th>\n",
       "      <th>Per_Sqft</th>\n",
       "    </tr>\n",
       "  </thead>\n",
       "  <tbody>\n",
       "    <tr>\n",
       "      <th>count</th>\n",
       "      <td>1259.000000</td>\n",
       "      <td>1259.000000</td>\n",
       "      <td>1257.000000</td>\n",
       "      <td>1226.000000</td>\n",
       "      <td>1.259000e+03</td>\n",
       "      <td>1018.000000</td>\n",
       "    </tr>\n",
       "    <tr>\n",
       "      <th>mean</th>\n",
       "      <td>1466.452724</td>\n",
       "      <td>2.796664</td>\n",
       "      <td>2.556086</td>\n",
       "      <td>1.935563</td>\n",
       "      <td>2.130670e+07</td>\n",
       "      <td>15690.136542</td>\n",
       "    </tr>\n",
       "    <tr>\n",
       "      <th>std</th>\n",
       "      <td>1568.055040</td>\n",
       "      <td>0.954425</td>\n",
       "      <td>1.042220</td>\n",
       "      <td>6.279212</td>\n",
       "      <td>2.560115e+07</td>\n",
       "      <td>21134.738568</td>\n",
       "    </tr>\n",
       "    <tr>\n",
       "      <th>min</th>\n",
       "      <td>28.000000</td>\n",
       "      <td>1.000000</td>\n",
       "      <td>1.000000</td>\n",
       "      <td>1.000000</td>\n",
       "      <td>1.000000e+06</td>\n",
       "      <td>1259.000000</td>\n",
       "    </tr>\n",
       "    <tr>\n",
       "      <th>25%</th>\n",
       "      <td>800.000000</td>\n",
       "      <td>2.000000</td>\n",
       "      <td>2.000000</td>\n",
       "      <td>1.000000</td>\n",
       "      <td>5.700000e+06</td>\n",
       "      <td>6364.000000</td>\n",
       "    </tr>\n",
       "    <tr>\n",
       "      <th>50%</th>\n",
       "      <td>1200.000000</td>\n",
       "      <td>3.000000</td>\n",
       "      <td>2.000000</td>\n",
       "      <td>1.000000</td>\n",
       "      <td>1.420000e+07</td>\n",
       "      <td>11291.500000</td>\n",
       "    </tr>\n",
       "    <tr>\n",
       "      <th>75%</th>\n",
       "      <td>1700.000000</td>\n",
       "      <td>3.000000</td>\n",
       "      <td>3.000000</td>\n",
       "      <td>2.000000</td>\n",
       "      <td>2.550000e+07</td>\n",
       "      <td>18000.000000</td>\n",
       "    </tr>\n",
       "    <tr>\n",
       "      <th>max</th>\n",
       "      <td>24300.000000</td>\n",
       "      <td>10.000000</td>\n",
       "      <td>7.000000</td>\n",
       "      <td>114.000000</td>\n",
       "      <td>2.400000e+08</td>\n",
       "      <td>183333.000000</td>\n",
       "    </tr>\n",
       "  </tbody>\n",
       "</table>\n",
       "</div>"
      ],
      "text/plain": [
       "               Area          BHK     Bathroom      Parking         Price  \\\n",
       "count   1259.000000  1259.000000  1257.000000  1226.000000  1.259000e+03   \n",
       "mean    1466.452724     2.796664     2.556086     1.935563  2.130670e+07   \n",
       "std     1568.055040     0.954425     1.042220     6.279212  2.560115e+07   \n",
       "min       28.000000     1.000000     1.000000     1.000000  1.000000e+06   \n",
       "25%      800.000000     2.000000     2.000000     1.000000  5.700000e+06   \n",
       "50%     1200.000000     3.000000     2.000000     1.000000  1.420000e+07   \n",
       "75%     1700.000000     3.000000     3.000000     2.000000  2.550000e+07   \n",
       "max    24300.000000    10.000000     7.000000   114.000000  2.400000e+08   \n",
       "\n",
       "            Per_Sqft  \n",
       "count    1018.000000  \n",
       "mean    15690.136542  \n",
       "std     21134.738568  \n",
       "min      1259.000000  \n",
       "25%      6364.000000  \n",
       "50%     11291.500000  \n",
       "75%     18000.000000  \n",
       "max    183333.000000  "
      ]
     },
     "execution_count": 10,
     "metadata": {},
     "output_type": "execute_result"
    }
   ],
   "source": [
    "columns_numeric.describe()"
   ]
  },
  {
   "cell_type": "markdown",
   "id": "forward-perry",
   "metadata": {},
   "source": [
    "#### We use median for 'Bathroom' & 'Parking' columns\n",
    "#### and mean for 'Per_Sqft'"
   ]
  },
  {
   "cell_type": "code",
   "execution_count": 11,
   "id": "terminal-farmer",
   "metadata": {},
   "outputs": [],
   "source": [
    "def impute_nan_median(dataset,features):\n",
    "    '''Replacing nan with its median'''\n",
    "    for feature in features:\n",
    "        median = dataset[feature].median()\n",
    "        dataset[feature+\"_median\"] = dataset[feature].fillna(median)\n",
    "        \n",
    "def impute_nan_mean(dataset,features):\n",
    "    '''Replacing nan with its mean'''\n",
    "    for feature in features:\n",
    "        mean = dataset[feature].mean()\n",
    "        dataset[feature+\"mean\"] = dataset[feature].fillna(mean)"
   ]
  },
  {
   "cell_type": "code",
   "execution_count": 12,
   "id": "static-priority",
   "metadata": {},
   "outputs": [],
   "source": [
    "impute_nan_median(data,['Bathroom','Parking'])\n",
    "\n",
    "impute_nan_mean(data,['Per_Sqft'])"
   ]
  },
  {
   "cell_type": "code",
   "execution_count": 13,
   "id": "protecting-angola",
   "metadata": {},
   "outputs": [
    {
     "data": {
      "text/plain": [
       "False"
      ]
     },
     "execution_count": 13,
     "metadata": {},
     "output_type": "execute_result"
    }
   ],
   "source": [
    "data.Bathroom_median.isna().any()"
   ]
  },
  {
   "cell_type": "markdown",
   "id": "injured-modification",
   "metadata": {},
   "source": [
    "#### we need to check impact of imputers on real colums"
   ]
  },
  {
   "cell_type": "code",
   "execution_count": 14,
   "id": "smart-enclosure",
   "metadata": {},
   "outputs": [
    {
     "data": {
      "text/plain": [
       "<AxesSubplot:xlabel='Bathroom_median', ylabel='Count'>"
      ]
     },
     "execution_count": 14,
     "metadata": {},
     "output_type": "execute_result"
    },
    {
     "data": {
      "image/png": "[encoded data removed]",
      "text/plain": [
       "<Figure size 1008x432 with 2 Axes>"
      ]
     },
     "metadata": {
      "needs_background": "light"
     },
     "output_type": "display_data"
    }
   ],
   "source": [
    "fig, axs = plt.subplots(ncols=2,figsize=(14,6))\n",
    "sns.histplot(data=data ,x='Bathroom',  ax=axs[0])\n",
    "sns.histplot(data=data ,x='Bathroom_median',  ax=axs[1])"
   ]
  },
  {
   "cell_type": "code",
   "execution_count": 15,
   "id": "compressed-summer",
   "metadata": {},
   "outputs": [
    {
     "data": {
      "text/plain": [
       "<AxesSubplot:xlabel='Parking_median', ylabel='Count'>"
      ]
     },
     "execution_count": 15,
     "metadata": {},
     "output_type": "execute_result"
    },
    {
     "data": {
      "image/png": "[encoded data removed]",
      "text/plain": [
       "<Figure size 1008x432 with 2 Axes>"
      ]
     },
     "metadata": {
      "needs_background": "light"
     },
     "output_type": "display_data"
    }
   ],
   "source": [
    "fig, axs = plt.subplots(ncols=2,figsize=(14,6))\n",
    "sns.histplot(data=data ,x='Parking',  ax=axs[0],bins=70)\n",
    "sns.histplot(data=data ,x='Parking_median',  ax=axs[1],bins=70)"
   ]
  },
  {
   "cell_type": "code",
   "execution_count": 16,
   "id": "banned-officer",
   "metadata": {},
   "outputs": [
    {
     "data": {
      "text/plain": [
       "<AxesSubplot:xlabel='Per_Sqftmean', ylabel='Count'>"
      ]
     },
     "execution_count": 16,
     "metadata": {},
     "output_type": "execute_result"
    },
    {
     "data": {
      "image/png": "[encoded data removed]",
      "text/plain": [
       "<Figure size 1008x432 with 2 Axes>"
      ]
     },
     "metadata": {
      "needs_background": "light"
     },
     "output_type": "display_data"
    }
   ],
   "source": [
    "fig, axs = plt.subplots(ncols=2,figsize=(14,6))\n",
    "sns.histplot(data=data ,x='Per_Sqft',  ax=axs[0],bins=70)\n",
    "sns.histplot(data=data ,x='Per_Sqftmean',  ax=axs[1],bins=70)"
   ]
  },
  {
   "cell_type": "code",
   "execution_count": 17,
   "id": "intense-roulette",
   "metadata": {},
   "outputs": [],
   "source": [
    "impute_nan_median(data,['Per_Sqft'])"
   ]
  },
  {
   "cell_type": "code",
   "execution_count": 18,
   "id": "sublime-quarter",
   "metadata": {},
   "outputs": [
    {
     "data": {
      "text/plain": [
       "<AxesSubplot:xlabel='Per_Sqft_median', ylabel='Count'>"
      ]
     },
     "execution_count": 18,
     "metadata": {},
     "output_type": "execute_result"
    },
    {
     "data": {
      "image/png": "[encoded data removed]",
      "text/plain": [
       "<Figure size 1008x432 with 3 Axes>"
      ]
     },
     "metadata": {
      "needs_background": "light"
     },
     "output_type": "display_data"
    }
   ],
   "source": [
    "fig, axs = plt.subplots(ncols=3,figsize=(14,6))\n",
    "sns.histplot(data=data ,x='Per_Sqft',  ax=axs[0],bins=70)\n",
    "sns.histplot(data=data ,x='Per_Sqftmean',  ax=axs[1],bins=70)\n",
    "sns.histplot(data=data ,x='Per_Sqft_median',  ax=axs[2],bins=70)"
   ]
  },
  {
   "cell_type": "markdown",
   "id": "sophisticated-accuracy",
   "metadata": {},
   "source": [
    "#### here median imputer looking well for all numeric columns\n",
    "#### removing unnecessary columns"
   ]
  },
  {
   "cell_type": "code",
   "execution_count": 19,
   "id": "considered-directive",
   "metadata": {},
   "outputs": [],
   "source": [
    "data.drop(['Per_Sqft','Per_Sqftmean','Parking','Bathroom'],axis=1,inplace=True)"
   ]
  },
  {
   "cell_type": "code",
   "execution_count": null,
   "id": "viral-tolerance",
   "metadata": {},
   "outputs": [],
   "source": []
  },
  {
   "cell_type": "markdown",
   "id": "valuable-theme",
   "metadata": {},
   "source": [
    "### handling null values catagorical data"
   ]
  },
  {
   "cell_type": "code",
   "execution_count": 20,
   "id": "blank-cricket",
   "metadata": {},
   "outputs": [
    {
     "data": {
      "text/plain": [
       "Furnishing     object\n",
       "Locality       object\n",
       "Status         object\n",
       "Transaction    object\n",
       "Type           object\n",
       "dtype: object"
      ]
     },
     "execution_count": 20,
     "metadata": {},
     "output_type": "execute_result"
    }
   ],
   "source": [
    "columns_object = data.select_dtypes(include='object')\n",
    "columns_object.dtypes"
   ]
  },
  {
   "cell_type": "code",
   "execution_count": 21,
   "id": "solar-graduate",
   "metadata": {},
   "outputs": [
    {
     "data": {
      "text/plain": [
       "Furnishing     5\n",
       "Locality       0\n",
       "Status         0\n",
       "Transaction    0\n",
       "Type           5\n",
       "dtype: int64"
      ]
     },
     "execution_count": 21,
     "metadata": {},
     "output_type": "execute_result"
    }
   ],
   "source": [
    "columns_object.isna().sum()"
   ]
  },
  {
   "cell_type": "code",
   "execution_count": 22,
   "id": "normal-squad",
   "metadata": {},
   "outputs": [
    {
     "data": {
      "text/html": [
       "<div>\n",
       "<style scoped>\n",
       "    .dataframe tbody tr th:only-of-type {\n",
       "        vertical-align: middle;\n",
       "    }\n",
       "\n",
       "    .dataframe tbody tr th {\n",
       "        vertical-align: top;\n",
       "    }\n",
       "\n",
       "    .dataframe thead th {\n",
       "        text-align: right;\n",
       "    }\n",
       "</style>\n",
       "<table border=\"1\" class=\"dataframe\">\n",
       "  <thead>\n",
       "    <tr style=\"text-align: right;\">\n",
       "      <th></th>\n",
       "      <th>Furnishing</th>\n",
       "      <th>Locality</th>\n",
       "      <th>Status</th>\n",
       "      <th>Transaction</th>\n",
       "      <th>Type</th>\n",
       "    </tr>\n",
       "  </thead>\n",
       "  <tbody>\n",
       "    <tr>\n",
       "      <th>count</th>\n",
       "      <td>1254</td>\n",
       "      <td>1259</td>\n",
       "      <td>1259</td>\n",
       "      <td>1259</td>\n",
       "      <td>1254</td>\n",
       "    </tr>\n",
       "    <tr>\n",
       "      <th>unique</th>\n",
       "      <td>3</td>\n",
       "      <td>365</td>\n",
       "      <td>2</td>\n",
       "      <td>2</td>\n",
       "      <td>2</td>\n",
       "    </tr>\n",
       "    <tr>\n",
       "      <th>top</th>\n",
       "      <td>Semi-Furnished</td>\n",
       "      <td>Lajpat Nagar 3</td>\n",
       "      <td>Ready_to_move</td>\n",
       "      <td>Resale</td>\n",
       "      <td>Builder_Floor</td>\n",
       "    </tr>\n",
       "    <tr>\n",
       "      <th>freq</th>\n",
       "      <td>708</td>\n",
       "      <td>34</td>\n",
       "      <td>1184</td>\n",
       "      <td>781</td>\n",
       "      <td>661</td>\n",
       "    </tr>\n",
       "  </tbody>\n",
       "</table>\n",
       "</div>"
      ],
      "text/plain": [
       "            Furnishing        Locality         Status Transaction  \\\n",
       "count             1254            1259           1259        1259   \n",
       "unique               3             365              2           2   \n",
       "top     Semi-Furnished  Lajpat Nagar 3  Ready_to_move      Resale   \n",
       "freq               708              34           1184         781   \n",
       "\n",
       "                 Type  \n",
       "count            1254  \n",
       "unique              2  \n",
       "top     Builder_Floor  \n",
       "freq              661  "
      ]
     },
     "execution_count": 22,
     "metadata": {},
     "output_type": "execute_result"
    }
   ],
   "source": [
    "columns_object.describe()"
   ]
  },
  {
   "cell_type": "code",
   "execution_count": 23,
   "id": "alleged-irish",
   "metadata": {},
   "outputs": [
    {
     "data": {
      "text/plain": [
       "'Builder_Floor'"
      ]
     },
     "execution_count": 23,
     "metadata": {},
     "output_type": "execute_result"
    }
   ],
   "source": [
    "columns_object.Type.value_counts().index[0]"
   ]
  },
  {
   "cell_type": "code",
   "execution_count": 24,
   "id": "alive-dependence",
   "metadata": {},
   "outputs": [],
   "source": [
    "def impute_nan_freq(dataset,features):\n",
    "    '''Replacing nan with its most frequent catagery'''\n",
    "    for feature in features:\n",
    "        freq = dataset[feature].value_counts().index[0]\n",
    "        dataset[feature+\"_freq\"] = dataset[feature].fillna(freq)"
   ]
  },
  {
   "cell_type": "code",
   "execution_count": 25,
   "id": "treated-millennium",
   "metadata": {},
   "outputs": [],
   "source": [
    "impute_nan_freq(data,['Furnishing','Type'])"
   ]
  },
  {
   "cell_type": "code",
   "execution_count": 26,
   "id": "actual-museum",
   "metadata": {},
   "outputs": [
    {
     "data": {
      "text/plain": [
       "<AxesSubplot:xlabel='Furnishing_freq', ylabel='count'>"
      ]
     },
     "execution_count": 26,
     "metadata": {},
     "output_type": "execute_result"
    },
    {
     "data": {
      "image/png": "[encoded data removed]",
      "text/plain": [
       "<Figure size 1008x432 with 2 Axes>"
      ]
     },
     "metadata": {
      "needs_background": "light"
     },
     "output_type": "display_data"
    }
   ],
   "source": [
    "fig, axs = plt.subplots(ncols=2,figsize=(14,6))\n",
    "sns.countplot(data=data ,x='Furnishing',  ax=axs[0])\n",
    "sns.countplot(data=data ,x='Furnishing_freq',  ax=axs[1])"
   ]
  },
  {
   "cell_type": "code",
   "execution_count": 27,
   "id": "separated-enterprise",
   "metadata": {},
   "outputs": [
    {
     "data": {
      "text/plain": [
       "<AxesSubplot:xlabel='Type_freq', ylabel='count'>"
      ]
     },
     "execution_count": 27,
     "metadata": {},
     "output_type": "execute_result"
    },
    {
     "data": {
      "image/png": "[encoded data removed]",
      "text/plain": [
       "<Figure size 1008x432 with 2 Axes>"
      ]
     },
     "metadata": {
      "needs_background": "light"
     },
     "output_type": "display_data"
    }
   ],
   "source": [
    "fig, axs = plt.subplots(ncols=2,figsize=(14,6))\n",
    "sns.countplot(data=data ,x='Type',  ax=axs[0])\n",
    "sns.countplot(data=data ,x='Type_freq',  ax=axs[1])"
   ]
  },
  {
   "cell_type": "markdown",
   "id": "popular-nitrogen",
   "metadata": {},
   "source": [
    "#### here frequency imputer looking well for all numeric columns\n",
    "#### removing unnecessary columns"
   ]
  },
  {
   "cell_type": "code",
   "execution_count": 28,
   "id": "frequent-individual",
   "metadata": {},
   "outputs": [],
   "source": [
    "data.drop(['Furnishing','Type'],axis=1,inplace=True)"
   ]
  },
  {
   "cell_type": "code",
   "execution_count": 29,
   "id": "certain-toilet",
   "metadata": {},
   "outputs": [
    {
     "data": {
      "text/plain": [
       "Area               False\n",
       "BHK                False\n",
       "Locality           False\n",
       "Price              False\n",
       "Status             False\n",
       "Transaction        False\n",
       "Bathroom_median    False\n",
       "Parking_median     False\n",
       "Per_Sqft_median    False\n",
       "Furnishing_freq    False\n",
       "Type_freq          False\n",
       "dtype: bool"
      ]
     },
     "execution_count": 29,
     "metadata": {},
     "output_type": "execute_result"
    }
   ],
   "source": [
    "data.isna().any()"
   ]
  },
  {
   "cell_type": "markdown",
   "id": "similar-feature",
   "metadata": {},
   "source": [
    "### Finally all nan value are vanished....."
   ]
  },
  {
   "cell_type": "markdown",
   "id": "familiar-desire",
   "metadata": {},
   "source": [
    "## Analysis"
   ]
  },
  {
   "cell_type": "code",
   "execution_count": 30,
   "id": "physical-video",
   "metadata": {},
   "outputs": [
    {
     "name": "stdout",
     "output_type": "stream",
     "text": [
      "<class 'pandas.core.frame.DataFrame'>\n",
      "RangeIndex: 1259 entries, 0 to 1258\n",
      "Data columns (total 11 columns):\n",
      " #   Column           Non-Null Count  Dtype  \n",
      "---  ------           --------------  -----  \n",
      " 0   Area             1259 non-null   float64\n",
      " 1   BHK              1259 non-null   int64  \n",
      " 2   Locality         1259 non-null   object \n",
      " 3   Price            1259 non-null   int64  \n",
      " 4   Status           1259 non-null   object \n",
      " 5   Transaction      1259 non-null   object \n",
      " 6   Bathroom_median  1259 non-null   float64\n",
      " 7   Parking_median   1259 non-null   float64\n",
      " 8   Per_Sqft_median  1259 non-null   float64\n",
      " 9   Furnishing_freq  1259 non-null   object \n",
      " 10  Type_freq        1259 non-null   object \n",
      "dtypes: float64(4), int64(2), object(5)\n",
      "memory usage: 108.3+ KB\n"
     ]
    }
   ],
   "source": [
    "data.info()"
   ]
  },
  {
   "cell_type": "code",
   "execution_count": 31,
   "id": "educated-wagner",
   "metadata": {},
   "outputs": [
    {
     "data": {
      "text/plain": [
       "<AxesSubplot:xlabel='Area', ylabel='Count'>"
      ]
     },
     "execution_count": 31,
     "metadata": {},
     "output_type": "execute_result"
    },
    {
     "data": {
      "image/png": "[encoded data removed]",
      "text/plain": [
       "<Figure size 720x432 with 1 Axes>"
      ]
     },
     "metadata": {
      "needs_background": "light"
     },
     "output_type": "display_data"
    }
   ],
   "source": [
    "ax,fig = plt.subplots(figsize=(10,6))\n",
    "sns.histplot(data= data, x='Area', bins=70)"
   ]
  },
  {
   "cell_type": "code",
   "execution_count": 32,
   "id": "effective-sessions",
   "metadata": {},
   "outputs": [
    {
     "data": {
      "text/plain": [
       "<AxesSubplot:xlabel='Per_Sqft_median', ylabel='Count'>"
      ]
     },
     "execution_count": 32,
     "metadata": {},
     "output_type": "execute_result"
    },
    {
     "data": {
      "image/png": "[encoded data removed]",
      "text/plain": [
       "<Figure size 720x432 with 1 Axes>"
      ]
     },
     "metadata": {
      "needs_background": "light"
     },
     "output_type": "display_data"
    }
   ],
   "source": [
    "ax,fig = plt.subplots(figsize=(10,6))\n",
    "sns.histplot(data= data, x='Per_Sqft_median', bins=70)"
   ]
  },
  {
   "cell_type": "code",
   "execution_count": 33,
   "id": "eight-occurrence",
   "metadata": {},
   "outputs": [
    {
     "data": {
      "text/plain": [
       "<AxesSubplot:xlabel='Price'>"
      ]
     },
     "execution_count": 33,
     "metadata": {},
     "output_type": "execute_result"
    },
    {
     "data": {
      "image/png": "[encoded data removed]",
      "text/plain": [
       "<Figure size 720x432 with 1 Axes>"
      ]
     },
     "metadata": {
      "needs_background": "light"
     },
     "output_type": "display_data"
    }
   ],
   "source": [
    "ax,fig = plt.subplots(figsize=(10,6))\n",
    "sns.boxplot(data= data, x='Price' )"
   ]
  },
  {
   "cell_type": "code",
   "execution_count": 34,
   "id": "representative-society",
   "metadata": {},
   "outputs": [
    {
     "data": {
      "text/plain": [
       "<AxesSubplot:xlabel='BHK', ylabel='Price'>"
      ]
     },
     "execution_count": 34,
     "metadata": {},
     "output_type": "execute_result"
    },
    {
     "data": {
      "image/png": "[encoded data removed]",
      "text/plain": [
       "<Figure size 720x432 with 1 Axes>"
      ]
     },
     "metadata": {
      "needs_background": "light"
     },
     "output_type": "display_data"
    }
   ],
   "source": [
    "ax,fig = plt.subplots(figsize=(10,6))\n",
    "sns.lineplot(data= data,y='Price', x='BHK')"
   ]
  },
  {
   "cell_type": "code",
   "execution_count": 35,
   "id": "velvet-witch",
   "metadata": {},
   "outputs": [
    {
     "data": {
      "text/plain": [
       "<AxesSubplot:xlabel='Furnishing_freq', ylabel='Price'>"
      ]
     },
     "execution_count": 35,
     "metadata": {},
     "output_type": "execute_result"
    },
    {
     "data": {
      "image/png": "[encoded data removed]",
      "text/plain": [
       "<Figure size 720x432 with 1 Axes>"
      ]
     },
     "metadata": {
      "needs_background": "light"
     },
     "output_type": "display_data"
    }
   ],
   "source": [
    "ax,fig = plt.subplots(figsize=(10,6))\n",
    "sns.lineplot(data= data,y='Price', x='Furnishing_freq')"
   ]
  },
  {
   "cell_type": "code",
   "execution_count": 36,
   "id": "unexpected-america",
   "metadata": {},
   "outputs": [
    {
     "data": {
      "text/plain": [
       "<seaborn.axisgrid.PairGrid at 0x1b492250>"
      ]
     },
     "execution_count": 36,
     "metadata": {},
     "output_type": "execute_result"
    },
    {
     "data": {
      "image/png": "[encoded data removed]",
      "text/plain": [
       "<Figure size 1080x1080 with 42 Axes>"
      ]
     },
     "metadata": {
      "needs_background": "light"
     },
     "output_type": "display_data"
    }
   ],
   "source": [
    "sns.pairplot(data)"
   ]
  },
  {
   "cell_type": "code",
   "execution_count": 37,
   "id": "faced-netscape",
   "metadata": {},
   "outputs": [
    {
     "data": {
      "text/html": [
       "<div>\n",
       "<style scoped>\n",
       "    .dataframe tbody tr th:only-of-type {\n",
       "        vertical-align: middle;\n",
       "    }\n",
       "\n",
       "    .dataframe tbody tr th {\n",
       "        vertical-align: top;\n",
       "    }\n",
       "\n",
       "    .dataframe thead th {\n",
       "        text-align: right;\n",
       "    }\n",
       "</style>\n",
       "<table border=\"1\" class=\"dataframe\">\n",
       "  <thead>\n",
       "    <tr style=\"text-align: right;\">\n",
       "      <th></th>\n",
       "      <th>Area</th>\n",
       "      <th>Price</th>\n",
       "    </tr>\n",
       "    <tr>\n",
       "      <th>BHK</th>\n",
       "      <th></th>\n",
       "      <th></th>\n",
       "    </tr>\n",
       "  </thead>\n",
       "  <tbody>\n",
       "    <tr>\n",
       "      <th>1</th>\n",
       "      <td>501.304442</td>\n",
       "      <td>3.080625e+06</td>\n",
       "    </tr>\n",
       "    <tr>\n",
       "      <th>2</th>\n",
       "      <td>828.455216</td>\n",
       "      <td>8.790409e+06</td>\n",
       "    </tr>\n",
       "    <tr>\n",
       "      <th>3</th>\n",
       "      <td>1418.258662</td>\n",
       "      <td>1.912837e+07</td>\n",
       "    </tr>\n",
       "    <tr>\n",
       "      <th>4</th>\n",
       "      <td>2774.212512</td>\n",
       "      <td>4.703759e+07</td>\n",
       "    </tr>\n",
       "    <tr>\n",
       "      <th>5</th>\n",
       "      <td>3575.074074</td>\n",
       "      <td>8.636296e+07</td>\n",
       "    </tr>\n",
       "    <tr>\n",
       "      <th>6</th>\n",
       "      <td>2632.333333</td>\n",
       "      <td>3.855000e+07</td>\n",
       "    </tr>\n",
       "    <tr>\n",
       "      <th>7</th>\n",
       "      <td>2970.000000</td>\n",
       "      <td>2.650000e+07</td>\n",
       "    </tr>\n",
       "    <tr>\n",
       "      <th>10</th>\n",
       "      <td>1200.000000</td>\n",
       "      <td>1.700000e+07</td>\n",
       "    </tr>\n",
       "  </tbody>\n",
       "</table>\n",
       "</div>"
      ],
      "text/plain": [
       "            Area         Price\n",
       "BHK                           \n",
       "1     501.304442  3.080625e+06\n",
       "2     828.455216  8.790409e+06\n",
       "3    1418.258662  1.912837e+07\n",
       "4    2774.212512  4.703759e+07\n",
       "5    3575.074074  8.636296e+07\n",
       "6    2632.333333  3.855000e+07\n",
       "7    2970.000000  2.650000e+07\n",
       "10   1200.000000  1.700000e+07"
      ]
     },
     "execution_count": 37,
     "metadata": {},
     "output_type": "execute_result"
    }
   ],
   "source": [
    "data.groupby(['BHK'])[['Area','Price']].mean()"
   ]
  },
  {
   "cell_type": "code",
   "execution_count": 38,
   "id": "distinguished-denial",
   "metadata": {},
   "outputs": [
    {
     "data": {
      "text/html": [
       "<div>\n",
       "<style scoped>\n",
       "    .dataframe tbody tr th:only-of-type {\n",
       "        vertical-align: middle;\n",
       "    }\n",
       "\n",
       "    .dataframe tbody tr th {\n",
       "        vertical-align: top;\n",
       "    }\n",
       "\n",
       "    .dataframe thead th {\n",
       "        text-align: right;\n",
       "    }\n",
       "</style>\n",
       "<table border=\"1\" class=\"dataframe\">\n",
       "  <thead>\n",
       "    <tr style=\"text-align: right;\">\n",
       "      <th></th>\n",
       "      <th>Area</th>\n",
       "      <th>Price</th>\n",
       "    </tr>\n",
       "    <tr>\n",
       "      <th>Furnishing_freq</th>\n",
       "      <th></th>\n",
       "      <th></th>\n",
       "    </tr>\n",
       "  </thead>\n",
       "  <tbody>\n",
       "    <tr>\n",
       "      <th>Furnished</th>\n",
       "      <td>1285.768096</td>\n",
       "      <td>1.752164e+07</td>\n",
       "    </tr>\n",
       "    <tr>\n",
       "      <th>Semi-Furnished</th>\n",
       "      <td>1565.271960</td>\n",
       "      <td>2.271252e+07</td>\n",
       "    </tr>\n",
       "    <tr>\n",
       "      <th>Unfurnished</th>\n",
       "      <td>1363.442179</td>\n",
       "      <td>2.045358e+07</td>\n",
       "    </tr>\n",
       "  </tbody>\n",
       "</table>\n",
       "</div>"
      ],
      "text/plain": [
       "                        Area         Price\n",
       "Furnishing_freq                           \n",
       "Furnished        1285.768096  1.752164e+07\n",
       "Semi-Furnished   1565.271960  2.271252e+07\n",
       "Unfurnished      1363.442179  2.045358e+07"
      ]
     },
     "execution_count": 38,
     "metadata": {},
     "output_type": "execute_result"
    }
   ],
   "source": [
    "data.groupby(['Furnishing_freq'])[['Area','Price']].mean()"
   ]
  },
  {
   "cell_type": "code",
   "execution_count": 39,
   "id": "global-scientist",
   "metadata": {},
   "outputs": [
    {
     "data": {
      "text/html": [
       "<div>\n",
       "<style scoped>\n",
       "    .dataframe tbody tr th:only-of-type {\n",
       "        vertical-align: middle;\n",
       "    }\n",
       "\n",
       "    .dataframe tbody tr th {\n",
       "        vertical-align: top;\n",
       "    }\n",
       "\n",
       "    .dataframe thead th {\n",
       "        text-align: right;\n",
       "    }\n",
       "</style>\n",
       "<table border=\"1\" class=\"dataframe\">\n",
       "  <thead>\n",
       "    <tr style=\"text-align: right;\">\n",
       "      <th></th>\n",
       "      <th>Price</th>\n",
       "    </tr>\n",
       "    <tr>\n",
       "      <th>Locality</th>\n",
       "      <th></th>\n",
       "    </tr>\n",
       "  </thead>\n",
       "  <tbody>\n",
       "    <tr>\n",
       "      <th>Narela Sector A5</th>\n",
       "      <td>1.000000e+06</td>\n",
       "    </tr>\n",
       "    <tr>\n",
       "      <th>Narela Sector A1 carpet area 42 sqyrd status Ready to Move floor Ground out of 5 floors transaction Resale furnishing Unfurnished facing North - East overlooking Garden/Park, Main Road car parking 2 Open bathroom 2 balcony 2 ownership Freehold Near bawana industrial area and j.j. colony. DDA Housing property LIG FLAT very nice property for single family 200 hundreds family already living IN THIS SOCIETY and very piece full atmosphere this society 24 hour guards all facility available read more Contact Owner View Phone No. Share Feedback Owner Vivek Gupta</th>\n",
       "      <td>1.500000e+06</td>\n",
       "    </tr>\n",
       "    <tr>\n",
       "      <th>Narela Mandi</th>\n",
       "      <td>1.500000e+06</td>\n",
       "    </tr>\n",
       "    <tr>\n",
       "      <th>Zakir Nagar, New Friends Colony</th>\n",
       "      <td>1.500000e+06</td>\n",
       "    </tr>\n",
       "    <tr>\n",
       "      <th>Baljit Nagar, Patel Nagar</th>\n",
       "      <td>1.550000e+06</td>\n",
       "    </tr>\n",
       "    <tr>\n",
       "      <th>...</th>\n",
       "      <td>...</td>\n",
       "    </tr>\n",
       "    <tr>\n",
       "      <th>Maharani Bagh, New Friends Colony</th>\n",
       "      <td>1.214286e+08</td>\n",
       "    </tr>\n",
       "    <tr>\n",
       "      <th>Orchid Metropolis, Hauz Khas</th>\n",
       "      <td>1.350000e+08</td>\n",
       "    </tr>\n",
       "    <tr>\n",
       "      <th>Greater Kailash 2</th>\n",
       "      <td>1.700000e+08</td>\n",
       "    </tr>\n",
       "    <tr>\n",
       "      <th>Hauz Khas Apartment, Hauz Khas Enclave, Hauz Khas</th>\n",
       "      <td>1.800000e+08</td>\n",
       "    </tr>\n",
       "    <tr>\n",
       "      <th>Mayfair garden, Hauz Khas</th>\n",
       "      <td>1.900000e+08</td>\n",
       "    </tr>\n",
       "  </tbody>\n",
       "</table>\n",
       "<p>365 rows × 1 columns</p>\n",
       "</div>"
      ],
      "text/plain": [
       "                                                           Price\n",
       "Locality                                                        \n",
       "Narela Sector A5                                    1.000000e+06\n",
       "Narela Sector A1 carpet area 42 sqyrd status Re...  1.500000e+06\n",
       "Narela Mandi                                        1.500000e+06\n",
       "Zakir Nagar, New Friends Colony                     1.500000e+06\n",
       "Baljit Nagar, Patel Nagar                           1.550000e+06\n",
       "...                                                          ...\n",
       "Maharani Bagh, New Friends Colony                   1.214286e+08\n",
       "Orchid Metropolis, Hauz Khas                        1.350000e+08\n",
       "Greater Kailash 2                                   1.700000e+08\n",
       "Hauz Khas Apartment, Hauz Khas Enclave, Hauz Khas   1.800000e+08\n",
       "Mayfair garden, Hauz Khas                           1.900000e+08\n",
       "\n",
       "[365 rows x 1 columns]"
      ]
     },
     "execution_count": 39,
     "metadata": {},
     "output_type": "execute_result"
    }
   ],
   "source": [
    "df_locality = data.groupby(['Locality'])[['Price']].mean().sort_values(\"Price\")\n",
    "df_locality"
   ]
  },
  {
   "cell_type": "code",
   "execution_count": null,
   "id": "expected-denmark",
   "metadata": {},
   "outputs": [],
   "source": []
  },
  {
   "cell_type": "markdown",
   "id": "herbal-terrace",
   "metadata": {},
   "source": [
    "## Feature Encoding"
   ]
  },
  {
   "cell_type": "code",
   "execution_count": 40,
   "id": "dress-composer",
   "metadata": {},
   "outputs": [
    {
     "data": {
      "text/plain": [
       "Locality           object\n",
       "Status             object\n",
       "Transaction        object\n",
       "Furnishing_freq    object\n",
       "Type_freq          object\n",
       "dtype: object"
      ]
     },
     "execution_count": 40,
     "metadata": {},
     "output_type": "execute_result"
    }
   ],
   "source": [
    "data_object_columns = data.select_dtypes(include='object')\n",
    "data_object_columns.dtypes"
   ]
  },
  {
   "cell_type": "code",
   "execution_count": 41,
   "id": "descending-track",
   "metadata": {},
   "outputs": [
    {
     "data": {
      "text/html": [
       "<div>\n",
       "<style scoped>\n",
       "    .dataframe tbody tr th:only-of-type {\n",
       "        vertical-align: middle;\n",
       "    }\n",
       "\n",
       "    .dataframe tbody tr th {\n",
       "        vertical-align: top;\n",
       "    }\n",
       "\n",
       "    .dataframe thead th {\n",
       "        text-align: right;\n",
       "    }\n",
       "</style>\n",
       "<table border=\"1\" class=\"dataframe\">\n",
       "  <thead>\n",
       "    <tr style=\"text-align: right;\">\n",
       "      <th></th>\n",
       "      <th>Locality</th>\n",
       "      <th>Status</th>\n",
       "      <th>Transaction</th>\n",
       "      <th>Furnishing_freq</th>\n",
       "      <th>Type_freq</th>\n",
       "    </tr>\n",
       "  </thead>\n",
       "  <tbody>\n",
       "    <tr>\n",
       "      <th>count</th>\n",
       "      <td>1259</td>\n",
       "      <td>1259</td>\n",
       "      <td>1259</td>\n",
       "      <td>1259</td>\n",
       "      <td>1259</td>\n",
       "    </tr>\n",
       "    <tr>\n",
       "      <th>unique</th>\n",
       "      <td>365</td>\n",
       "      <td>2</td>\n",
       "      <td>2</td>\n",
       "      <td>3</td>\n",
       "      <td>2</td>\n",
       "    </tr>\n",
       "    <tr>\n",
       "      <th>top</th>\n",
       "      <td>Lajpat Nagar 3</td>\n",
       "      <td>Ready_to_move</td>\n",
       "      <td>Resale</td>\n",
       "      <td>Semi-Furnished</td>\n",
       "      <td>Builder_Floor</td>\n",
       "    </tr>\n",
       "    <tr>\n",
       "      <th>freq</th>\n",
       "      <td>34</td>\n",
       "      <td>1184</td>\n",
       "      <td>781</td>\n",
       "      <td>713</td>\n",
       "      <td>666</td>\n",
       "    </tr>\n",
       "  </tbody>\n",
       "</table>\n",
       "</div>"
      ],
      "text/plain": [
       "              Locality         Status Transaction Furnishing_freq  \\\n",
       "count             1259           1259        1259            1259   \n",
       "unique             365              2           2               3   \n",
       "top     Lajpat Nagar 3  Ready_to_move      Resale  Semi-Furnished   \n",
       "freq                34           1184         781             713   \n",
       "\n",
       "            Type_freq  \n",
       "count            1259  \n",
       "unique              2  \n",
       "top     Builder_Floor  \n",
       "freq              666  "
      ]
     },
     "execution_count": 41,
     "metadata": {},
     "output_type": "execute_result"
    }
   ],
   "source": [
    "data_object_columns.describe()"
   ]
  },
  {
   "cell_type": "code",
   "execution_count": 42,
   "id": "atomic-syndication",
   "metadata": {},
   "outputs": [],
   "source": [
    "# One Hot Encoding for \"Status\", \"Transaction\", Furnishing_freq and \"Type_freq\"\n",
    "\n",
    "data_new = pd.get_dummies(data=data,columns=[\"Status\", \"Transaction\", \"Type_freq\" ,\"Furnishing_freq\"],drop_first=True)"
   ]
  },
  {
   "cell_type": "code",
   "execution_count": 43,
   "id": "spoken-colony",
   "metadata": {},
   "outputs": [
    {
     "data": {
      "text/plain": [
       "(1259, 12)"
      ]
     },
     "execution_count": 43,
     "metadata": {},
     "output_type": "execute_result"
    }
   ],
   "source": [
    "data_new.shape"
   ]
  },
  {
   "cell_type": "markdown",
   "id": "careful-characteristic",
   "metadata": {},
   "source": [
    "#### First we have to remove similar locality"
   ]
  },
  {
   "cell_type": "code",
   "execution_count": 44,
   "id": "crazy-costs",
   "metadata": {
    "scrolled": true
   },
   "outputs": [
    {
     "data": {
      "text/plain": [
       "Index(['Lajpat Nagar 3', 'Lajpat Nagar 2',\n",
       "       'J R Designers Floors, Rohini Sector 24',\n",
       "       'Kailash Colony, Greater Kailash', 'Yamuna Vihar, Shahdara',\n",
       "       'Laxmi Nagar', 'Chittaranjan Park', 'Mehrauli', 'Saket', 'Alaknanda',\n",
       "       'DDA Flats Sarita Vihar, Sarita Vihar, Mathura Road',\n",
       "       'Safdarjung Enclave', 'The Amaryllis, Karol Bagh',\n",
       "       'Sheikh Sarai Phase 1', 'Chhattarpur', 'Dilshad Colony, Dilshad Garden',\n",
       "       'Common Wealth Games Village, Commonwealth Games Village 2010',\n",
       "       'Mahavir Enclave Part 1', 'Patel Nagar West',\n",
       "       'DLF Capital Greens, New Moti Nagar, Kirti Nagar',\n",
       "       'New Moti Nagar, Kirti Nagar', 'New Friends Colony', 'Malviya Nagar',\n",
       "       'Vasundhara Enclave', 'Hauz Khas', 'Sukhdev Vihar, Okhla',\n",
       "       'New Manglapuri, Sultanpur', 'Vasant Kunj', 'Rohini Sector 24',\n",
       "       'Mahavir Enclave', 'The Leela Sky Villas, Patel Nagar',\n",
       "       'Narmada Apartment, Alaknanda', 'DDA Lig Flats, Narela',\n",
       "       'Punjabi Bagh West', 'Narela', 'Uttam Nagar',\n",
       "       'Govindpuri Extension, Kalkaji', 'Chhattarpur Enclave Phase2',\n",
       "       'Hauz Khas Enclave, Hauz Khas', 'Budh Vihar',\n",
       "       'Geetanjali Enclave, Malviya Nagar', 'Shahdara',\n",
       "       'Commonwealth Games Village 2010', 'Budh Vihar Phase 1', 'Lajpat Nagar',\n",
       "       'Kalkaji', 'Paschim Vihar', 'Patel Nagar East, Patel Nagar',\n",
       "       'Maharani Bagh, New Friends Colony', 'Sultanpur'],\n",
       "      dtype='object')"
      ]
     },
     "execution_count": 44,
     "metadata": {},
     "output_type": "execute_result"
    }
   ],
   "source": [
    "data['Locality'].value_counts().head(50).index.unique()"
   ]
  },
  {
   "cell_type": "markdown",
   "id": "prime-export",
   "metadata": {},
   "source": [
    "#### renaming of Location for removing similar values"
   ]
  },
  {
   "cell_type": "code",
   "execution_count": 45,
   "id": "featured-softball",
   "metadata": {},
   "outputs": [],
   "source": [
    "loc_list= ['Lajpat Nagar',\n",
    "           'Rohini Sector',\n",
    "           'Greater Kailash', 'Shahdara',\n",
    "           'Laxmi Nagar', 'Mehrauli', 'Chittaranjan Park', 'Saket', 'Alaknanda',\n",
    "           'Sarita Vihar',\n",
    "           'Safdarjung', 'Karol Bagh',\n",
    "           'Sheikh Sarai', 'Chhattarpur', 'Dilshad Garden',\n",
    "           'Patel Nagar',\n",
    "           'Kirti Nagar',\n",
    "           'Kirti Nagar', 'New Friends Colony', 'Malviya Nagar',\n",
    "           'Okhla', 'Hauz Khas', 'Vasundhara',\n",
    "           'Sultanpur', 'Vasant Kunj',\n",
    "           'Patel Nagar', 'Alaknanda',\n",
    "           'Mahavir', 'Rohini Sector', 'Uttam Nagar',\n",
    "           'Punjabi Bagh', 'Narela',\n",
    "           'Kalkaji', 'Hauz Khas',\n",
    "           'Budh Vihar', 'Malviya Nagar',\n",
    "           'Chhattarpur', 'Shahdara', 'Lajpat Nagar',\n",
    "           'Patel Nagar', 'Kalkaji',\n",
    "           'Commonwealth Games Village', 'New Friends Colony',\n",
    "           'Sultanpur', 'Paschim Vihar', 'Budh Vihar']"
   ]
  },
  {
   "cell_type": "code",
   "execution_count": 46,
   "id": "concerned-teens",
   "metadata": {},
   "outputs": [],
   "source": [
    "loc_list = set(loc_list)"
   ]
  },
  {
   "cell_type": "code",
   "execution_count": 47,
   "id": "desirable-storm",
   "metadata": {},
   "outputs": [
    {
     "data": {
      "text/plain": [
       "['Uttam Nagar',\n",
       " 'Commonwealth Games Village',\n",
       " 'Punjabi Bagh',\n",
       " 'Mahavir',\n",
       " 'Rohini Sector',\n",
       " 'Narela',\n",
       " 'Hauz Khas',\n",
       " 'Karol Bagh',\n",
       " 'Paschim Vihar',\n",
       " 'Alaknanda',\n",
       " 'Malviya Nagar',\n",
       " 'Safdarjung',\n",
       " 'Shahdara',\n",
       " 'Saket',\n",
       " 'Sheikh Sarai',\n",
       " 'Sarita Vihar',\n",
       " 'Chittaranjan Park',\n",
       " 'Greater Kailash',\n",
       " 'Sultanpur',\n",
       " 'Laxmi Nagar',\n",
       " 'Kirti Nagar',\n",
       " 'Vasundhara',\n",
       " 'Chhattarpur',\n",
       " 'Okhla',\n",
       " 'Dilshad Garden',\n",
       " 'Mehrauli',\n",
       " 'Patel Nagar',\n",
       " 'New Friends Colony',\n",
       " 'Vasant Kunj',\n",
       " 'Lajpat Nagar',\n",
       " 'Budh Vihar',\n",
       " 'Kalkaji']"
      ]
     },
     "execution_count": 47,
     "metadata": {},
     "output_type": "execute_result"
    }
   ],
   "source": [
    "location_list = []\n",
    "for x in loc_list:\n",
    "    location_list.append(x)\n",
    "    \n",
    "location_list"
   ]
  },
  {
   "cell_type": "code",
   "execution_count": 48,
   "id": "prepared-discovery",
   "metadata": {},
   "outputs": [
    {
     "data": {
      "text/html": [
       "<div>\n",
       "<style scoped>\n",
       "    .dataframe tbody tr th:only-of-type {\n",
       "        vertical-align: middle;\n",
       "    }\n",
       "\n",
       "    .dataframe tbody tr th {\n",
       "        vertical-align: top;\n",
       "    }\n",
       "\n",
       "    .dataframe thead th {\n",
       "        text-align: right;\n",
       "    }\n",
       "</style>\n",
       "<table border=\"1\" class=\"dataframe\">\n",
       "  <thead>\n",
       "    <tr style=\"text-align: right;\">\n",
       "      <th></th>\n",
       "      <th>catagories</th>\n",
       "    </tr>\n",
       "  </thead>\n",
       "  <tbody>\n",
       "    <tr>\n",
       "      <th>0</th>\n",
       "      <td>Rohini Sector 25</td>\n",
       "    </tr>\n",
       "    <tr>\n",
       "      <th>1</th>\n",
       "      <td>J R Designers Floors, Rohini Sector 24</td>\n",
       "    </tr>\n",
       "    <tr>\n",
       "      <th>2</th>\n",
       "      <td>Citizen Apartment, Rohini Sector 13</td>\n",
       "    </tr>\n",
       "    <tr>\n",
       "      <th>3</th>\n",
       "      <td>Rohini Sector 24</td>\n",
       "    </tr>\n",
       "    <tr>\n",
       "      <th>4</th>\n",
       "      <td>Rohini Sector 24 carpet area 650 sqft status R...</td>\n",
       "    </tr>\n",
       "    <tr>\n",
       "      <th>...</th>\n",
       "      <td>...</td>\n",
       "    </tr>\n",
       "    <tr>\n",
       "      <th>360</th>\n",
       "      <td>Arya Chittaranjan Park, Chittaranjan Park</td>\n",
       "    </tr>\n",
       "    <tr>\n",
       "      <th>361</th>\n",
       "      <td>Chittaranjan Park carpet area 1200 sqft status...</td>\n",
       "    </tr>\n",
       "    <tr>\n",
       "      <th>362</th>\n",
       "      <td>Chittaranjan Park carpet area 270 sqyrd status...</td>\n",
       "    </tr>\n",
       "    <tr>\n",
       "      <th>363</th>\n",
       "      <td>Nehru Enclave, Kalkaji</td>\n",
       "    </tr>\n",
       "    <tr>\n",
       "      <th>364</th>\n",
       "      <td>Chittaranjan Park Block A</td>\n",
       "    </tr>\n",
       "  </tbody>\n",
       "</table>\n",
       "<p>365 rows × 1 columns</p>\n",
       "</div>"
      ],
      "text/plain": [
       "                                            catagories\n",
       "0                                     Rohini Sector 25\n",
       "1               J R Designers Floors, Rohini Sector 24\n",
       "2                  Citizen Apartment, Rohini Sector 13\n",
       "3                                     Rohini Sector 24\n",
       "4    Rohini Sector 24 carpet area 650 sqft status R...\n",
       "..                                                 ...\n",
       "360          Arya Chittaranjan Park, Chittaranjan Park\n",
       "361  Chittaranjan Park carpet area 1200 sqft status...\n",
       "362  Chittaranjan Park carpet area 270 sqyrd status...\n",
       "363                             Nehru Enclave, Kalkaji\n",
       "364                          Chittaranjan Park Block A\n",
       "\n",
       "[365 rows x 1 columns]"
      ]
     },
     "execution_count": 48,
     "metadata": {},
     "output_type": "execute_result"
    }
   ],
   "source": [
    "df_loc = pd.DataFrame(data['Locality'].unique(),columns=['catagories'])\n",
    "df_loc"
   ]
  },
  {
   "cell_type": "code",
   "execution_count": 49,
   "id": "subtle-plumbing",
   "metadata": {},
   "outputs": [],
   "source": [
    "df_loc.set_index('catagories',inplace=True)"
   ]
  },
  {
   "cell_type": "code",
   "execution_count": 50,
   "id": "prescription-hypothetical",
   "metadata": {},
   "outputs": [
    {
     "data": {
      "text/html": [
       "<div>\n",
       "<style scoped>\n",
       "    .dataframe tbody tr th:only-of-type {\n",
       "        vertical-align: middle;\n",
       "    }\n",
       "\n",
       "    .dataframe tbody tr th {\n",
       "        vertical-align: top;\n",
       "    }\n",
       "\n",
       "    .dataframe thead th {\n",
       "        text-align: right;\n",
       "    }\n",
       "</style>\n",
       "<table border=\"1\" class=\"dataframe\">\n",
       "  <thead>\n",
       "    <tr style=\"text-align: right;\">\n",
       "      <th></th>\n",
       "    </tr>\n",
       "    <tr>\n",
       "      <th>catagories</th>\n",
       "    </tr>\n",
       "  </thead>\n",
       "  <tbody>\n",
       "    <tr>\n",
       "      <th>Rohini Sector 25</th>\n",
       "    </tr>\n",
       "    <tr>\n",
       "      <th>J R Designers Floors, Rohini Sector 24</th>\n",
       "    </tr>\n",
       "    <tr>\n",
       "      <th>Citizen Apartment, Rohini Sector 13</th>\n",
       "    </tr>\n",
       "    <tr>\n",
       "      <th>Rohini Sector 24</th>\n",
       "    </tr>\n",
       "    <tr>\n",
       "      <th>Rohini Sector 24 carpet area 650 sqft status Ready to Move floor 4 out of 4 floors transaction New Property furnishing Semi-Furnished facing East overlooking Garden/Park, Main Road car parking 1 Open bathroom 2 balcony 1 ownership Freehold Newly Constructed Property Newly Constructed Property East Facing Property 2BHK Newly build property for Sale. A House is waiting for a Friendly Family to make it a lovely home.So please come and make his house feel alive once again. read more Contact Agent View Phone No. Share Feedback Garima properties Certified Agent Trusted by Users Genuine Listings Market Knowledge</th>\n",
       "    </tr>\n",
       "    <tr>\n",
       "      <th>...</th>\n",
       "    </tr>\n",
       "    <tr>\n",
       "      <th>Arya Chittaranjan Park, Chittaranjan Park</th>\n",
       "    </tr>\n",
       "    <tr>\n",
       "      <th>Chittaranjan Park carpet area 1200 sqft status Ready to Move floor 2 out of 4 floors transaction New Property furnishing Semi-Furnished facing North - East overlooking Garden/Park bathroom 3 balcony 2 ownership Freehold Newly Constructed Property Newly Constructed Property brand new 1st floor 3bedroom attach bathrooms stilt car parking modular kitchen air condition prime location c r park read more Contact Agent View Phone No. Share Feedback Nirmala Associates Certified Agent Trusted by Users Genuine Listings 1500+ Buyers Served</th>\n",
       "    </tr>\n",
       "    <tr>\n",
       "      <th>Chittaranjan Park carpet area 270 sqyrd status Ready to Move floor 2 out of 4 floors transaction Resale furnishing Furnished facing North - East overlooking Garden/Park, Main Road car parking 5 Open bathroom 4 balcony 3 ownership Freehold 3 Side Open, Fully ventilated, Close to Market, Above Bank and 24 x 7 ATM because of which good security. Elite Neighbor hood. Very good for Rental Income. Also can be used for commercial Office Purpose by Advocates. read more Contact Owner View Phone No. Share Feedback Owner Mayur Mayur Aggarwal</th>\n",
       "    </tr>\n",
       "    <tr>\n",
       "      <th>Nehru Enclave, Kalkaji</th>\n",
       "    </tr>\n",
       "    <tr>\n",
       "      <th>Chittaranjan Park Block A</th>\n",
       "    </tr>\n",
       "  </tbody>\n",
       "</table>\n",
       "<p>365 rows × 0 columns</p>\n",
       "</div>"
      ],
      "text/plain": [
       "Empty DataFrame\n",
       "Columns: []\n",
       "Index: [Rohini Sector 25, J R Designers Floors, Rohini Sector 24, Citizen Apartment, Rohini Sector 13, Rohini Sector 24, Rohini Sector 24 carpet area 650 sqft status Ready to Move floor 4 out of 4 floors transaction New Property furnishing Semi-Furnished facing East overlooking Garden/Park, Main Road car parking 1 Open bathroom 2 balcony 1 ownership Freehold Newly Constructed Property Newly Constructed Property East Facing Property 2BHK Newly build property for Sale. A House is waiting for a Friendly Family to make it a lovely home.So please come and make his house feel alive once again. read more Contact Agent View Phone No. Share Feedback Garima properties Certified Agent Trusted by Users Genuine Listings Market Knowledge, Delhi Homes, Rohini Sector 24, Rohini Sector 21, Rohini Sector 22, Rohini Sector 20, Rohini Sector 8 How Auctions work? The borrower has the physical possession of the Property. However the lender (Bank) can legally sell the Property. super area 32 sqm status Ready to Move floor 1 transaction Resale furnishing Semi-Furnished Contact Now Enquire Now Auction By, Rohini Sector 25 carpet area 660 sqft status Ready to Move floor 2 out of 4 floors transaction New Property furnishing Semi-Furnished facing North overlooking Garden/Park, Main Road car parking 1 Open bathroom 2 balcony 1 ownership Freehold Newly Constructed Property Newly Constructed Property Near by Ryan international school 2BHK Located on the Ground Floor of a four story building with open parking the flat measure 720 Sq Ft the property is located in a green and plush sector with common parks opposite every lane and bus and auto stand nearby. its situated 1.5 km from the metro station and walkable distance from shopping distance from shopping complex. read more Contact Agent View Phone No. Share Feedback Know your Certified Agent CRISIL Rating No of Employees 9 Kulwant & Company Certified Agent Trusted by Users Genuine Listings 5500+ Buyers Served, Rohini Sector 16, Rohini Sector 14, Mayur Apartment, Rohini Sector 9, Vijay Vihar, Rohini, Rohini Sector 18 carpet area 40 sqm status Ready to Move floor 2 out of 4 floors transaction Resale furnishing Furnished facing East overlooking Main Road car parking 2 Open bathroom 1 balcony 1 ownership Freehold East Facing Property It an LIG three side corner flat in second floor, having full scope of expansion. interior decorated with 2 textured wall , kajaria tiles , fully modular kitchen, branded bathroom and toilet fittings, LED panel, ac in one bedroom, false ceiling in entire flat.south facing unobstructed view balcony. It was all renovated only 2.5 yrs back so every thing is in brand new condition. read more Contact Owner View Phone No. Share Feedback Owner Pramod, Prashant Vihar, Rohini, Rohini Sector 5, Sanskriti Apartment, Rohini Sector 28, Rohini Sector 19, Lajpat Nagar 2, Lajpat Nagar 1, Lajpat Nagar, Vikram Vihar, Lajpat Nagar, Lajpat Nagar 4, Lajpat Nagar 3, Dayanand Colony, Lajpat Nagar How Auctions work? The borrower has the physical possession of the Property. However the lender (Bank) can legally sell the Property. super area 810 sqft status Ready to Move floor 1 out of 5 floors transaction Resale balcony 1 Contact Now Enquire Now Auction By Bank, Amar Colony, Lajpat Nagar, DDA Flats Sector 14, Dwarka Sector 14, Siddhartha Heights, Dwarka Sector 24, MTNL Employees House Welfare Society, Dwarka Sector 24, Delhi Homes Yojana, Dwarka Sector 24, The Elite Spire, Dwarka Sector 21, Kunj Vihar Apartment, Dwarka Sector 12, Ashirwad Apartments, Dwarka Sector 12, Sunny Valley Apartments, Dwarka, Shri Agrasen Apartment, Dwarka Sector 7, Chopra Apartment, Dwarka Sector 23, Mohinder Apartments, Dwarka Sector 12, Chander Lok Apartment, Dwarka Sector 19, Neelachal, Dwarka Sector 5, Dwarka, MeeraBai Apartment, Dwarka Sector 5, Crescent Apartments, Dwarka Sector 18, Ashoka Enclave Apartment, Dwarka Sector 11, Nav Kairali Apartment, Dwarka Sector 3, Ashirwad Apartments, Dwarka, Indraprastha Apartment, Dwarka Sector 12, Mohinder Apartments, Dwarka, Ashoka Apartments, Dwarka Sector 12, Karuna Vihar Apartment, Dwarka, LNT Apartments, Dwarka, Dwarka Sector 4, Dwarka Sector 3 carpet area 400 sqft status Ready to Move floor 1 out of 4 floors transaction New Property furnishing Semi-Furnished facing West overlooking Main Road bathroom 1 balcony 1 ownership Freehold Newly Constructed Property 1BHK freehold property , reserved parking, ample space for visitor parking, bathrooms with modern facilities, complete light in all room, wooden wardrobes in bedrooms, separate electric & water meter connection, separate water tank at roof, electronic door lock system with intercom facility, wall to wall POP work, fall ceiling work in all rooms, royal paint work in all rooms, 24X7 running water, branded electric fittings, modular kitchen with electronic chimney, marble vitrified tile flooring, near to metro station, well connected to main road ect. 80 to 90 home loan available. Ready to move read more Contact Agent View Phone No. Share Feedback Agent S.B. Associates 4000+ Buyers Served, Dwarka Sector 16B, Vinoba Puri, Lajpat Nagar, Budh Vihar, Budh Vihar super area 50 sqyrd status Ready to Move floor Ground out of 2 floors transaction Resale furnishing Unfurnished facing East car parking 1 Open bathroom 1 balcony 2 ownership Freehold For Sale 2 BHK 50 yrd, 2 side open Ground Floor, First and Second Floor in H Block, Gali No. 04, Near Laxmi Narain Mandir, BudhVihar read more Contact Agent View Phone No. Share Feedback Agent Sahyog Properties 1000+ Buyers Served, Budh Vihar Phase 1, Budh Vihar Phase 2, Saptrishi Apartment, Rohini Sector 23, Rohini Sector 23, Rohini ( 1 km from Shahbad Dairy, Rohini), The Leela Sky Villas, Patel Nagar, Uttam Nagar Floors, Uttam Nagar, Virat Residency, Dwarka Mor, Find Homes, Greater Kailash 2, Adarsh Homes, Dwarka Mor, Kushwaha Homes, Uttam Nagar, Godrej South Estate, Okhla, APL Builder Floor, Greater Kailash 1, Janakpuri Block A3, Greater Kailash 2, Partap Homes, Bhagwati Vihar, Uttam Nagar, The Amaryllis, Karol Bagh, Diamond Heights Multi Estate, Najafgarh, Vasant Vihar Builder Floor, Vasant Vihar, Vasant Kunj, Greater Kailash 1, Khanpur, Madangir, Batla House, Okhla, Friends Colony West, New Friends Colony, New Friends Colony, Maharani Bagh, New Friends Colony, New Friends Colony carpet area 4300 sqft status Ready to Move floor 2 out of 3 floors transaction Resale furnishing Unfurnished facing North - East overlooking Garden/Park, Main Road car parking 2 Covered, 2 Open bathroom 4 balcony 3 ownership Freehold hurry up... dont waste time any where, It is best deal in your pocket budget.well maintained second floor with terrace garden plus 2 additional room on terrace up for sale in new friends colony.the property has 4 king sized bedroom attached bathroom with roof top shower with Jacuzzi. It has 3 big balconies with wonderful outer view. It has modular kitchen with new fittings. It has servant quarter pooja room study room store room etc. It has drawing & dining. It has 2 car parking with gated society. It has 247 hours water supply with full power backup. It is in amazing location. read more Contact Agent View Phone No. Share Feedback Crisil Silver Agent Sagar Home Developers Pvt. Ltd. 1000+ Buyers Served, Friends Colony East, New Friends Colony, Kalindi Colony, Maharani Bagh, New Friends Colony, Taimoor Enclave, New Friends Colony carpet area 2800 sqft status Ready to Move floor 2 out of 3 floors transaction Resale furnishing Semi-Furnished facing East overlooking Garden/Park society Taimoor Enclave car parking 2 Covered, 1 Open bathroom 4 balcony 2 ownership Freehold Two floor of the house is available for sale SECOND AND THIRD FLOOR EXTRA made, provision for LIFT can be provided by the OWNER .DDA FLATS of TAIMOOR ENCLAVE, NEAR GURUDWARA, NEW FRIENDS COLONY, SOUTH DELHI , HOUSE IS ON THE SECOND FLOOR have 3 bed room and 2 wash room and and same on the Third Floor, URGENT SALE, BROKER EXCUSE. read more Contact Agent View Phone No. Share Feedback Agent Delhi Homes 100+ Buyers Served, New Friends Colony Floors, New Friends Colony, Kailash Colony, Greater Kailash, Ram Nagar, Shahdara, Jyoti Nagar West, Shahdara, Hans Apartments, Vishwas Nagar, Shahdara, Naveen Shahdara, Shahdara, Balbir Nagar, Shahdara, Rohitash Nagar East, Shahdara, Shahdara, Vishwas Nagar, Shahdara, DDA RPS Flats, Mansarowar Park, Shahdara, Yamuna Vihar, Shahdara, ...]\n",
       "\n",
       "[365 rows x 0 columns]"
      ]
     },
     "execution_count": 50,
     "metadata": {},
     "output_type": "execute_result"
    }
   ],
   "source": [
    "df_loc"
   ]
  },
  {
   "cell_type": "code",
   "execution_count": 51,
   "id": "ordinary-party",
   "metadata": {},
   "outputs": [
    {
     "data": {
      "text/plain": [
       "[['Rohini Sector 25', 'Rohini Sector'],\n",
       " ['J R Designers Floors, Rohini Sector 24', 'Rohini Sector'],\n",
       " ['Citizen Apartment, Rohini Sector 13', 'Rohini Sector'],\n",
       " ['Rohini Sector 24', 'Rohini Sector'],\n",
       " ['Rohini Sector 24 carpet area 650 sqft status Ready to Move floor 4 out of 4 floors transaction New Property furnishing Semi-Furnished facing East overlooking Garden/Park, Main Road car parking 1 Open bathroom 2 balcony 1 ownership Freehold Newly Constructed Property Newly Constructed Property East Facing Property 2BHK Newly build property for Sale. A House is waiting for a Friendly Family to make it a lovely home.So please come and make his house feel alive once again. read more Contact Agent View Phone No. Share Feedback Garima properties Certified Agent Trusted by Users Genuine Listings Market Knowledge',\n",
       "  'Rohini Sector'],\n",
       " ['Delhi Homes, Rohini Sector 24', 'Rohini Sector'],\n",
       " ['Rohini Sector 21', 'Rohini Sector'],\n",
       " ['Rohini Sector 22', 'Rohini Sector'],\n",
       " ['Rohini Sector 20', 'Rohini Sector'],\n",
       " ['Rohini Sector 8 How Auctions work? The borrower has the physical possession of the Property. However the lender (Bank) can legally sell the Property. super area 32 sqm status Ready to Move floor 1 transaction Resale furnishing Semi-Furnished Contact Now Enquire Now Auction By',\n",
       "  'Rohini Sector'],\n",
       " ['Rohini Sector 25 carpet area 660 sqft status Ready to Move floor 2 out of 4 floors transaction New Property furnishing Semi-Furnished facing North overlooking Garden/Park, Main Road car parking 1 Open bathroom 2 balcony 1 ownership Freehold Newly Constructed Property Newly Constructed Property Near by Ryan international school 2BHK Located on the Ground Floor of a four story building with open parking the flat measure 720 Sq Ft the property is located in a green and plush sector with common parks opposite every lane and bus and auto stand nearby. its situated 1.5 km from the metro station and walkable distance from shopping distance from shopping complex. read more Contact Agent View Phone No. Share Feedback Know your Certified Agent CRISIL Rating No of Employees 9 Kulwant & Company Certified Agent Trusted by Users Genuine Listings 5500+ Buyers Served',\n",
       "  'Rohini Sector'],\n",
       " ['Rohini Sector 16', 'Rohini Sector'],\n",
       " ['Rohini Sector 14', 'Rohini Sector'],\n",
       " ['Mayur Apartment, Rohini Sector 9', 'Rohini Sector'],\n",
       " ['Rohini Sector 18 carpet area 40 sqm status Ready to Move floor 2 out of 4 floors transaction Resale furnishing Furnished facing East overlooking Main Road car parking 2 Open bathroom 1 balcony 1 ownership Freehold East Facing Property It an LIG three side corner flat in second floor, having full scope of expansion. interior decorated with 2 textured wall , kajaria tiles , fully modular kitchen, branded bathroom and toilet fittings, LED panel, ac in one bedroom, false ceiling in entire flat.south facing unobstructed view balcony. It was all renovated only 2.5 yrs back so every thing is in brand new condition. read more Contact Owner View Phone No. Share Feedback Owner Pramod',\n",
       "  'Rohini Sector'],\n",
       " ['Rohini Sector 5', 'Rohini Sector'],\n",
       " ['Sanskriti Apartment, Rohini Sector 28', 'Rohini Sector'],\n",
       " ['Rohini Sector 19', 'Rohini Sector'],\n",
       " ['Lajpat Nagar 2', 'Lajpat Nagar'],\n",
       " ['Lajpat Nagar 1', 'Lajpat Nagar'],\n",
       " ['Lajpat Nagar', 'Lajpat Nagar'],\n",
       " ['Vikram Vihar, Lajpat Nagar', 'Lajpat Nagar'],\n",
       " ['Lajpat Nagar 4', 'Lajpat Nagar'],\n",
       " ['Lajpat Nagar 3', 'Lajpat Nagar'],\n",
       " ['Dayanand Colony, Lajpat Nagar How Auctions work? The borrower has the physical possession of the Property. However the lender (Bank) can legally sell the Property. super area 810 sqft status Ready to Move floor 1 out of 5 floors transaction Resale balcony 1 Contact Now Enquire Now Auction By Bank',\n",
       "  'Lajpat Nagar'],\n",
       " ['Amar Colony, Lajpat Nagar', 'Lajpat Nagar'],\n",
       " ['Vinoba Puri, Lajpat Nagar', 'Lajpat Nagar'],\n",
       " ['Budh Vihar', 'Budh Vihar'],\n",
       " ['Budh Vihar super area 50 sqyrd status Ready to Move floor Ground out of 2 floors transaction Resale furnishing Unfurnished facing East car parking 1 Open bathroom 1 balcony 2 ownership Freehold For Sale 2 BHK 50 yrd, 2 side open Ground Floor, First and Second Floor in H Block, Gali No. 04, Near Laxmi Narain Mandir, BudhVihar read more Contact Agent View Phone No. Share Feedback Agent Sahyog Properties 1000+ Buyers Served',\n",
       "  'Budh Vihar'],\n",
       " ['Budh Vihar Phase 1', 'Budh Vihar'],\n",
       " ['Budh Vihar Phase 2', 'Budh Vihar'],\n",
       " ['Saptrishi Apartment, Rohini Sector 23', 'Rohini Sector'],\n",
       " ['Rohini Sector 23', 'Rohini Sector'],\n",
       " ['The Leela Sky Villas, Patel Nagar', 'Patel Nagar'],\n",
       " ['Uttam Nagar Floors, Uttam Nagar', 'Uttam Nagar'],\n",
       " ['Find Homes, Greater Kailash 2', 'Greater Kailash'],\n",
       " ['Kushwaha Homes, Uttam Nagar', 'Uttam Nagar'],\n",
       " ['Godrej South Estate, Okhla', 'Okhla'],\n",
       " ['APL Builder Floor, Greater Kailash 1', 'Greater Kailash'],\n",
       " ['Greater Kailash 2', 'Greater Kailash'],\n",
       " ['Partap Homes, Bhagwati Vihar, Uttam Nagar', 'Uttam Nagar'],\n",
       " ['The Amaryllis, Karol Bagh', 'Karol Bagh'],\n",
       " ['Vasant Kunj', 'Vasant Kunj'],\n",
       " ['Greater Kailash 1', 'Greater Kailash'],\n",
       " ['Batla House, Okhla', 'Okhla'],\n",
       " ['Friends Colony West, New Friends Colony', 'New Friends Colony'],\n",
       " ['New Friends Colony', 'New Friends Colony'],\n",
       " ['Maharani Bagh, New Friends Colony', 'New Friends Colony'],\n",
       " ['New Friends Colony carpet area 4300 sqft status Ready to Move floor 2 out of 3 floors transaction Resale furnishing Unfurnished facing North - East overlooking Garden/Park, Main Road car parking 2 Covered, 2 Open bathroom 4 balcony 3 ownership Freehold hurry up... dont waste time any where, It is best deal in your pocket budget.well maintained second floor with terrace garden plus 2 additional room on terrace up for sale in new friends colony.the property has 4 king sized bedroom attached bathroom with roof top shower with Jacuzzi. It has 3 big balconies with wonderful outer view. It has modular kitchen with new fittings. It has servant quarter pooja room study room store room etc. It has drawing & dining. It has 2 car parking with gated society. It has 247 hours water supply with full power backup. It is in amazing location. read more Contact Agent View Phone No. Share Feedback Crisil Silver Agent Sagar Home Developers Pvt. Ltd. 1000+ Buyers Served',\n",
       "  'New Friends Colony'],\n",
       " ['Friends Colony East, New Friends Colony', 'New Friends Colony'],\n",
       " ['Kalindi Colony, Maharani Bagh, New Friends Colony', 'New Friends Colony'],\n",
       " ['Taimoor Enclave, New Friends Colony carpet area 2800 sqft status Ready to Move floor 2 out of 3 floors transaction Resale furnishing Semi-Furnished facing East overlooking Garden/Park society Taimoor Enclave car parking 2 Covered, 1 Open bathroom 4 balcony 2 ownership Freehold Two floor of the house is available for sale SECOND AND THIRD FLOOR EXTRA made, provision for LIFT can be provided by the OWNER .DDA FLATS of TAIMOOR ENCLAVE, NEAR GURUDWARA, NEW FRIENDS COLONY, SOUTH DELHI , HOUSE IS ON THE SECOND FLOOR have 3 bed room and 2 wash room and and same on the Third Floor, URGENT SALE, BROKER EXCUSE. read more Contact Agent View Phone No. Share Feedback Agent Delhi Homes 100+ Buyers Served',\n",
       "  'New Friends Colony'],\n",
       " ['New Friends Colony Floors, New Friends Colony', 'New Friends Colony'],\n",
       " ['Kailash Colony, Greater Kailash', 'Greater Kailash'],\n",
       " ['Ram Nagar, Shahdara', 'Shahdara'],\n",
       " ['Jyoti Nagar West, Shahdara', 'Shahdara'],\n",
       " ['Hans Apartments, Vishwas Nagar, Shahdara', 'Shahdara'],\n",
       " ['Naveen Shahdara, Shahdara', 'Shahdara'],\n",
       " ['Balbir Nagar, Shahdara', 'Shahdara'],\n",
       " ['Rohitash Nagar East, Shahdara', 'Shahdara'],\n",
       " ['Shahdara', 'Shahdara'],\n",
       " ['Vishwas Nagar, Shahdara', 'Shahdara'],\n",
       " ['DDA RPS Flats, Mansarowar Park, Shahdara', 'Shahdara'],\n",
       " ['Yamuna Vihar, Shahdara', 'Shahdara'],\n",
       " ['Rohtash Nagar, Shahdara', 'Shahdara'],\n",
       " ['Ram Nagar Extension, Shahdara', 'Shahdara'],\n",
       " ['Maujpur, Shahdara', 'Shahdara'],\n",
       " ['Mansarowar Park, Shahdara', 'Shahdara'],\n",
       " ['Gorakh Park West, Shahdara', 'Shahdara'],\n",
       " ['Shivnam Apartment, Shahdara', 'Shahdara'],\n",
       " ['Jyoti Colony, Shahdara', 'Shahdara'],\n",
       " ['Ahinsha Vatika, Ram Nagar, Shahdara', 'Shahdara'],\n",
       " ['Laxmi Nagar', 'Laxmi Nagar'],\n",
       " ['Guru Angad Nagar West, Laxmi Nagar', 'Laxmi Nagar'],\n",
       " ['Lalita Park, Laxmi Nagar', 'Laxmi Nagar'],\n",
       " ['Krishan Kunj, Laxmi Nagar', 'Laxmi Nagar'],\n",
       " ['Laxmi Nagar super area 450 sqft status Ready to Move floor 3 out of 4 floors transaction New Property furnishing Semi-Furnished facing East overlooking Main Road bathroom 2 balcony 1 ownership Freehold Newly Constructed Property East Facing Property This Builder Floor Apartment at 3rd faces East & overlooks Main Road offering a beautiful view from the house. with airy interiors. The type of ownership is Freehold. The Builder Floor Apartment is newly constructed. Bank loans available from LIC Housing Finance, Kotak Mahindra Bank, Indiabulls. Flooring of type Marble covers maximum part of the house. The location has easy access to, Dena Bank (0 km ), Delhi Convent School (0 km ), DDA Market (0 km ) and Nirman Vihar Metro Station (2 km ). read more Contact Owner View Phone No. Share Feedback Owner Sonia',\n",
       "  'Laxmi Nagar'],\n",
       " [\"Laxmi Nagar carpet area 1000 sqft status Ready to Move floor 1 out of 4 floors transaction Resale furnishing Furnished bathroom 3 balcony 1 It's a 1st floor Builder Floor Apartment in a building of total 4 floors. The age of construction for this Builder Floor Apartment is between 10 to 15 years. The location has easy access to, Dena Bank (0 km ), Delhi Convent School (0 km ), DDA Market (0 km ) and Nirman Vihar Metro Station (2 km ). read more Contact Owner View Phone No. Share Feedback Owner Vipul Jain\",\n",
       "  'Laxmi Nagar'],\n",
       " ['Bank Enclave, Laxmi Nagar', 'Laxmi Nagar'],\n",
       " ['Uttam Nagar', 'Uttam Nagar'],\n",
       " ['Uttam Nagar West', 'Uttam Nagar'],\n",
       " ['Kiran Garden, Uttam Nagar', 'Uttam Nagar'],\n",
       " ['Uttam Nagar carpet area 550 sqft status Ready to Move transaction New Property furnishing Semi-Furnished facing East overlooking Main Road bathroom 2 balcony 1 ownership Freehold Newly Constructed Property Newly Constructed Property East Facing Property 2bhk fully furnished flats available for sale at uttam nagar, the flat is fully loaded, one singal wall texture in all bedrooms, modular kitchen, LED pannel in drawing room, wardrobes in bedroom read more Contact Agent View Phone No. Share Feedback Pranita Developers Pvt. Ltd. Certified Agent Trusted by Users Genuine Listings 100+ Buyers Served',\n",
       "  'Uttam Nagar'],\n",
       " ['New Uttam Nagar, Uttam Nagar', 'Uttam Nagar'],\n",
       " ['Patel Nagar South, Patel Nagar', 'Patel Nagar'],\n",
       " ['Patel Nagar West', 'Patel Nagar'],\n",
       " ['Patel Nagar East, Patel Nagar', 'Patel Nagar'],\n",
       " ['Punjabi Basti, Patel Nagar', 'Patel Nagar'],\n",
       " ['Baljit Nagar, Patel Nagar', 'Patel Nagar'],\n",
       " ['DDA Flats Vasant Kunj, Vasant Kunj Sector B', 'Vasant Kunj'],\n",
       " ['DDA Flats Vasant Kunj, Vasant Kunj carpet area 1200 sqft status Ready to Move floor 5 out of 7 floors transaction Resale furnishing Semi-Furnished facing North - West overlooking Garden/Park, Main Road society DDA Flats Vasant Kunj car parking 1 Covered, 1 Open bathroom 2 balcony 2 ownership Freehold A southEAST facing 3 bhk resale flat is available in the promising locality of sectorE vasant kunj vasant kunj, delhi south. It is a ready to move in spacious flat and is located on the 5th floor. Every single detail of the flat is carefully designed. This property offers quality specifications such as lifts, park, water storage and securityfire alar. It is a gated society flat. It provides a spectacular view of the main road and parkgarden. The apartment is priced at rs. 2 cr. It is a freehold property, with a super builtUp area of 1600 sq. Ft. The property price is negotiable. read more Contact Agent Enquire Now Share Feedback Crisil Silver Agent Link Properties Pvt. Ltd. 5000+ Buyers Served',\n",
       "  'Vasant Kunj'],\n",
       " ['DDA Flats Vasant Kunj, Vasant Kunj', 'Vasant Kunj'],\n",
       " ['DDA Flats Pocket 1, Vasant Kunj Sector B', 'Vasant Kunj'],\n",
       " ['Saraswati Narmada Ganga Yamuna Apartment, Vasant Kunj Sector D',\n",
       "  'Vasant Kunj'],\n",
       " ['DDA Flats Sector E Pocket 1, Vasant Kunj', 'Vasant Kunj'],\n",
       " ['DDA Flats Vasant Kunj, Vasant Kunj Sector D', 'Vasant Kunj'],\n",
       " ['Vasant Kunj Sector A', 'Vasant Kunj'],\n",
       " ['E2 Vasant Kunj, Vasant Kunj', 'Vasant Kunj'],\n",
       " ['Ganga Apartment Sector D Pocket 6, Vasant Kunj', 'Vasant Kunj'],\n",
       " ['Vasant Kunj Sector C', 'Vasant Kunj'],\n",
       " ['Vasant Kunj Sector D', 'Vasant Kunj'],\n",
       " ['DDA Flats Vasant Kunj, Vasant Kunj Sector C', 'Vasant Kunj'],\n",
       " ['Kishangarh, Vasant Kunj', 'Vasant Kunj'],\n",
       " ['DDA Pocket 1, Vasant Kunj Sector D', 'Vasant Kunj'],\n",
       " ['Vasant Kunj Sector B', 'Vasant Kunj'],\n",
       " ['Gandhi Nagar, Shahdara', 'Shahdara'],\n",
       " ['DDA Flats Mansarovar Park, Seelampur, Shahdara', 'Shahdara'],\n",
       " ['Seelampur, Shahdara', 'Shahdara'],\n",
       " ['Shanti Mohalla, Shahdara', 'Shahdara'],\n",
       " ['Rajgarh Colony, Shahdara', 'Shahdara'],\n",
       " ['Kanti Nagar East, Shahdara', 'Shahdara'],\n",
       " ['Raghubarpura, Shahdara', 'Shahdara'],\n",
       " ['Sukhdev Vihar, Okhla', 'Okhla'],\n",
       " ['Shastri Park, Shahdara', 'Shahdara'],\n",
       " ['Shahdara How Auctions work? The borrower has the physical possession of the Property. However the lender (Bank) can legally sell the Property. super area 852 sqft status Ready to Move transaction Resale ownership Freehold bathroom 2 Contact Now Enquire Now Auction By',\n",
       "  'Shahdara'],\n",
       " ['Saket', 'Saket'],\n",
       " ['Anupam Enclave, Saket', 'Saket'],\n",
       " ['RWA Flats, Saket', 'Saket'],\n",
       " ['Metrotech Builder Floors, Saket', 'Saket'],\n",
       " ['Saket Court Residential Complex, Saket', 'Saket'],\n",
       " ['Press Enclave Society, Saket', 'Saket'],\n",
       " ['Project Paryavaran Complex, Saket', 'Saket'],\n",
       " ['Safdarjung Enclave', 'Safdarjung'],\n",
       " ['Arjun Nagar, Safdarjung Enclave', 'Safdarjung'],\n",
       " [\"Safdarjung Enclave carpet area 1100 sqft status Ready to Move floor Ground out of 4 floors transaction Resale furnishing Unfurnished facing North - East overlooking Garden/Park, Main Road car parking 1 Covered, 1 Open bathroom 3 balcony 3 ownership Freehold if you are searching for your dream house, congratulation. you're not so far from your destiny. we got unbeatable ground floor in b-block safdarjung enclave for sale. it is in 150 yds. It has 3 large king sized bedroom attached bathroom with Jacuzzi and roof top shower with all other fittings. it has modular kitchen with all needed facility. it has 3 big balcony with amazing out side view. it has 1 servant quarter also. it has 1 reserved car parking with gated society. It has 24*7 water supply with full power backup. for more information contact us at once because it can be your dream house. read more Contact Agent View Phone No. Share Feedback Crisil Silver Agent Sagar Home Developers Pvt. Ltd. 1000+ Buyers Served\",\n",
       "  'Safdarjung'],\n",
       " ['Krishna Nagar-Safdarjung Enclave', 'Safdarjung'],\n",
       " ['Safdarjung Enclave carpet area 3250 sqft status Ready to Move floor 1 out of 4 floors transaction Resale furnishing Semi-Furnished facing North - East overlooking Garden/Park, Main Road car parking 1 Covered bathroom 4 balcony 3 ownership Freehold Near Buy Green park Metro station. The location of the property is Awesome and Peaceful. The construction is very Highend and Very tasteful Done-up. The Same property is location on the FF. 4 Side corner read more Contact Agent Enquire Now Share Feedback Crisil Silver Agent Findahouse Real Estate Consultants LLP 2000+ Buyers Served',\n",
       "  'Safdarjung'],\n",
       " ['Safdarjung Enclave carpet area 290 sqyrd status Ready to Move floor 2 out of 3 floors transaction Resale furnishing Semi-Furnished facing West overlooking Main Road car parking 2 Open bathroom 4 balcony 3 ownership Freehold Opposite Deer Park.The property comes with independent Terrace. The area is centrally located and close to ring road which allows easy acess to all other areas.Renowned Delhi Lawn Tennis Association is within 10 minutes walking distance.Green park market is walkable distance. read more Contact Owner View Phone No. Share Feedback Owner Hemant pajankar',\n",
       "  'Safdarjung'],\n",
       " ['Safdarjung Enclave carpet area 1450 sqft status Ready to Move floor 3 out of 4 floors transaction Resale furnishing Semi-Furnished facing North - East overlooking Garden/Park, Main Road car parking 1 Covered, 1 Open bathroom 3 balcony 2 ownership Freehold Park facing builder floor apartment available for sale in safderjung enclave, 3 bedroom with attached bathroom, drawing dinning, modular kitchen. the property is on the top floor of a four storey building with terrace right, servant quarter, 1 car parking in stilt. read more Contact Agent View Phone No. Share Feedback Agent Delhi Homes Realty 1000+ Buyers Served',\n",
       "  'Safdarjung'],\n",
       " ['Safdarjung Enclave super area 2200 sqft status Ready to Move floor 2 out of 4 floors transaction New Property furnishing Semi-Furnished facing South overlooking Main Road car parking 3 Covered, 2 Open bathroom 4 balcony 3 ownership Freehold Newly Constructed Property Wide Road 450 Yards 2nd floor brand new 4 bhk attached bathrooms with full lighted and ventilated house.Most Valuable DealSEE TO BELIEVE read more Contact Agent View Phone No. Share Feedback Crisil Bronze Agent Panchsheel Homes 500+ Buyers Served',\n",
       "  'Safdarjung'],\n",
       " ['Reserve Bank Enclave, Paschim Vihar', 'Paschim Vihar'],\n",
       " ['Paschim Vihar', 'Paschim Vihar'],\n",
       " ['Pushkar Enclave, Paschim Vihar', 'Paschim Vihar'],\n",
       " ['Paschim Vihar Block B2', 'Paschim Vihar'],\n",
       " ['Paschimpuri, Paschim Vihar', 'Paschim Vihar'],\n",
       " ['Paschim Vihar Block B4', 'Paschim Vihar'],\n",
       " ['Paschim Vihar How Auctions work? The borrower has the physical possession of the Property. However the lender (Bank) can legally sell the Property. carpet area 780 sqft status Ready to Move floor Ground out of 3 floors transaction Resale furnishing Unfurnished facing West bathroom 2 balcony 1 ownership Freehold Contact Now Enquire Now Auction By Bank',\n",
       "  'Paschim Vihar'],\n",
       " ['DDA Lig Flats, Paschim Vihar carpet area 45 sqyrd status Ready to Move floor 4 out of 4 floors transaction Resale furnishing Semi-Furnished facing East overlooking Garden/Park, Main Road society DDA Lig Flats bathroom 1 balcony 1 ownership Freehold East Facing Property Expected price for the Flat is kept at 45 Lac. This is a 1 bedroom apartment present in DDA Lig Flats, Paschim Vihar. It measures an area of 45 Sq-m. It is on 4 floor out of 4 floors in the tower and is also well ventilated. The Flat has 1 washroom and also has 1 spacious balcony. read more Contact Owner View Phone No. Share Feedback Owner Anil',\n",
       "  'Paschim Vihar'],\n",
       " ['Archana Apartment, Paschim Vihar', 'Paschim Vihar'],\n",
       " ['Guru Harikishan Nagar, Paschim Vihar', 'Paschim Vihar'],\n",
       " ['Mianwali Nagar, Paschim Vihar', 'Paschim Vihar'],\n",
       " ['Navbharat Apartment, Paschim Vihar Block B1', 'Paschim Vihar'],\n",
       " ['Paschim Vihar Block A2', 'Paschim Vihar'],\n",
       " ['LIC Colony, Paschim Vihar', 'Paschim Vihar'],\n",
       " ['DDA Lig Flats, Paschim Vihar', 'Paschim Vihar'],\n",
       " ['Paschim Vihar carpet area 850 sqft status Ready to Move floor 2 out of 4 floors transaction Resale furnishing Unfurnished facing North overlooking Garden/Park bathroom 3 balcony 1 ownership Freehold If you want to live a contended, pollution-free and peaceful life with your family and children, here is the once in a lifetime opportunity awaiting your attention!! Presenting a 3BHK ready to move flat up for sale in Paschim Vihar, which is becoming a dream residential area for its ability to provide a slice of authentic New Delhi city life. Property SpecificationsWell-knitted and planned on the super area of 900 sq ft is this 2bhk flat where the owner enjoys the complete rights of the freehold ownership. In a low-rise building of four-floors, this impressive infrastructure is positioned on the second floor, hence the residents can experience the greatest possible cross ventilation and natural sunlight.Though the age of construction is between 15-20 years, this north-facing flat is perfectly maintained and features 3 spacious bedrooms, 2 bathrooms, 2 airy balconies, a dining room, a living room, and a kitchen. All the bedrooms are adorned with decorative wardrobes offered with enough space for storage of clothes and other valuables.The attached toilet is designed in Indian fashion which is mounted-up with a geyser where you can enjoy a hot water bath, while the bathroom available for common use fashioned in the western genre.Further, an eye-catching view of the lush green garden is visible from the two well-aligned balconies where you can enjoy a hot cup of tea, where one balcony is connected to the bedroom, while the other balcony opens to the lobby. Bedecked with a granite countertop, a piped gas connection, and a chimney, the contemporarily designed modular kitchen is also provided with a wash area and also sufficient space for fridge.The entire flat is polished up with the good quality tiles which are easy to install and can be quite pleasant and comfortable underfoot.FacilitiesKeeping in mind the convenience of the residents, some of the basic facilities such as an unrestricted supply of water, and power backup with invertor. Additionally, one open parking space for 1 vehicle read more Contact Owner Share Feedback Owner Yogeet',\n",
       "  'Paschim Vihar'],\n",
       " ['Shubh Niketan, Paschim Vihar', 'Paschim Vihar'],\n",
       " ['Ashoka Apartment, Paschim Vihar Block A2', 'Paschim Vihar'],\n",
       " ['Sunder Apartments, Sunder Vihar, Paschim Vihar', 'Paschim Vihar'],\n",
       " ['Commonwealth Games Village 2010', 'Commonwealth Games Village'],\n",
       " ['Common Wealth Games Village, Commonwealth Games Village 2010',\n",
       "  'Commonwealth Games Village'],\n",
       " ['Project Commonwealth Games Village 2010, Akshardham Temple',\n",
       "  'Commonwealth Games Village'],\n",
       " ['Project Commonwealth Games Village 2010, Commonwealth Games Village 2010',\n",
       "  'Commonwealth Games Village'],\n",
       " ['Alaknanda', 'Alaknanda'],\n",
       " ['Shivalik Apartments, Alaknanda', 'Alaknanda'],\n",
       " ['Narmada Apartment, Alaknanda', 'Alaknanda'],\n",
       " ['Gangotri Enclave, Alaknanda', 'Alaknanda'],\n",
       " ['Aravali Apartments, Alaknanda', 'Alaknanda'],\n",
       " ['Tara Apartment, Alaknanda', 'Alaknanda'],\n",
       " ['Narmada Apartment, Alaknanda carpet area 1400 sqft status Ready to Move floor Ground out of 3 floors transaction Resale furnishing Furnished facing North - East overlooking Garden/Park, Main Road society Narmada Apartment car parking 1 Open bathroom 3 balcony 1 ownership Freehold Near Alaknanda Main Market & Greater Kailash Metro Station. A very good 3 bhk flat for sale in rwa Narmada Apartment, delhi south. It is a superb property and offers an excellent view. The flat is unfurnished. It promises a comfortable stay. It is feng shuivaastu compliant, which is considered to bring positive energy. The appeal of the flat has been increased with the availability of a pipedGa. Indeed, the society too has multiple facilities for enjoyment, such as club housecommunity center and fitness centregym etc. It also has rain water harvesting system. It has a super builtUp area of 180 sq. Yards. read more Contact Agent View Phone No. Share Feedback Agent Sulabh Estate',\n",
       "  'Alaknanda'],\n",
       " ['Narmada Apartment, Alaknanda carpet area 1400 sqft status Ready to Move floor Ground out of 3 floors transaction Resale furnishing Furnished facing North - East overlooking Garden/Park, Main Road society Narmada Apartment car parking 1 Open bathroom 3 balcony 1 ownership Freehold Near Alaknanda Main Market & Greater Kailash Metro Station. A very good 3 bhk flat for sale in rwa Narmada Apartment, delhi south. It is a superb property and offers an excellent view. The flat is unfurnished. It promises a comfortable stay. It is feng shuivaastu compliant, which is considered to bring positive energy. The appeal of the flat has been increased with the availability of a pipedGa. Indeed, the society too has multiple facilities for enjoyment, such as club housecommunity center and fitness centregym etc. It also has rain water harvesting system. It has a super builtUp area of 180 sq. Yards. read more Contact Agent View Phone No. Share Feedback Agent Sulabh Estate',\n",
       "  'Greater Kailash'],\n",
       " ['Greater Kailash 4 Nri Colony', 'Greater Kailash'],\n",
       " ['Project Gangotri Enclave, Alaknanda', 'Alaknanda'],\n",
       " ['Project Gangotri Enclave, Gangotri Enclave, Alaknanda', 'Alaknanda'],\n",
       " ['Nilgiri Apartment, Alaknanda', 'Alaknanda'],\n",
       " ['Yamuna Apartment, Alaknanda', 'Alaknanda'],\n",
       " ['Tara Apartment, Alaknanda carpet area 1400 sqft status Ready to Move floor 2 out of 3 floors transaction Resale furnishing Furnished facing North - East overlooking Garden/Park society Tara Apartment car parking 1 Covered, 1 Open bathroom 3 balcony 4 ownership Freehold Near Alaknanda Main Market, Jamia Humderd University & Batra hospital. A very good 3 bhk flat for sale in rwa Tara Apartment, delhi south. It is a superb property and offers an excellent view. The flat is unfurnished. It promises a comfortable stay. It is feng shuivaastu compliant, which is considered to bring positive energy. The appeal of the flat has been increased with the availability of a pipedGa. Indeed, the society too has multiple facilities for enjoyment, such as club housecommunity center and fitness centregym etc. It also has rain water harvesting system. It has a super builtUp area of 180 sq. Yards. Other f read more Contact Agent View Phone No. Share Feedback Agent Sulabh Estate',\n",
       "  'Alaknanda'],\n",
       " ['Sarita Vihar, Mathura Road carpet area 1500 sqft status Ready to Move floor 2 out of 4 floors transaction Resale ownership Freehold overlooking Main Road car parking 1 Open bathroom 2 balcony 2 furnishing Unfurnished For sale second third duplex .spacious 3 bedrooms with 2 washrooms drawing and dining and moduler kitchen one scooter garrage. read more Contact Agent View Phone No. Share Feedback Shree Balaji Real Estate Pvt. Ltd. Has Maximum Property Options Is the Top Agent of the Locality Is Trusted by All Users 21 Property Options in Sarita Vihar, Mathura Road Shree Balaji Real Estate Pvt. Ltd. Certified Agent Locality Superstar Maximum options in Sarita Vihar, Mathura Road',\n",
       "  'Sarita Vihar'],\n",
       " ['DDA Flats, Sarita Vihar, Mathura Road carpet area 1600 sqft status Ready to Move floor 1 out of 4 floors transaction Resale furnishing Semi-Furnished facing North - East overlooking Main Road society DDA Flats car parking 2 Open bathroom 2 balcony 2 ownership Freehold For sale First second third duplex in sarita vihar DDA Flates . this house free hold property clear titel . this flate well maintained and spacious peacefull location . no issue light water and parking read more Contact Agent View Phone No. Share Feedback Shree Balaji Real Estate Pvt. Ltd. Has Maximum Property Options Is the Top Agent of the Locality Is Trusted by All Users 21 Property Options in Sarita Vihar, Mathura Road Shree Balaji Real Estate Pvt. Ltd. Certified Agent Locality Superstar Maximum options in Sarita Vihar, Mathura Road',\n",
       "  'Sarita Vihar'],\n",
       " ['DDA Flats Sarita Vihar, Sarita Vihar, Mathura Road', 'Sarita Vihar'],\n",
       " ['DDA Flats, Sarita Vihar, Mathura Road carpet area 1600 sqft status Ready to Move floor Ground out of 4 floors transaction Resale furnishing Semi-Furnished facing North - West overlooking Main Road society DDA Flats car parking 1 Open bathroom 2 balcony 2 ownership Freehold For slae Ground First Duplex in sarita vihar .posh locality in south delhi DDa coloney . This house spacious 4 bedrooms with 2 washrooms drawing and dinning . free hold proerty clear titel . near by all amnites . well develop location . read more Contact Agent View Phone No. Share Feedback Shree Balaji Real Estate Pvt. Ltd. Has Maximum Property Options Is the Top Agent of the Locality Is Trusted by All Users 21 Property Options in Sarita Vihar, Mathura Road Shree Balaji Real Estate Pvt. Ltd. Certified Agent Locality Superstar Maximum options in Sarita Vihar, Mathura Road',\n",
       "  'Sarita Vihar'],\n",
       " ['DDA Flats Sarita Vihar, Sarita Vihar Pocket K', 'Sarita Vihar'],\n",
       " ['Sarita Vihar Pocket B', 'Sarita Vihar'],\n",
       " ['Sarita Vihar Pocket F', 'Sarita Vihar'],\n",
       " ['DDA Flats, Sarita Vihar, Mathura Road carpet area 1150 sqft status Ready to Move floor 3 out of 3 floors transaction Resale furnishing Semi-Furnished facing North - East overlooking Main Road society DDA Flats car parking 2 Open bathroom 2 balcony 3 ownership Freehold 2 BHK flat available for sale in sarita vihar excellent interiors flooring in all bedrooms complete wood work modular kitchen beautiful bathrooms extremely well maintained ample parking space read more Contact Agent View Phone No. Share Feedback Lavish Associates Certified Agent Trusted by Users Genuine Listings Market Knowledge',\n",
       "  'Sarita Vihar'],\n",
       " ['New Manglapuri, Sultanpur', 'Sultanpur'],\n",
       " ['Sultanpur Extension', 'Sultanpur'],\n",
       " ['Sultanpur', 'Sultanpur'],\n",
       " ['Manglapuri, Sultanpur', 'Sultanpur'],\n",
       " ['Sultanpur carpet area 1100 sqft status Ready to Move floor 1 out of 4 floors transaction Resale furnishing Semi-Furnished overlooking Main Road car parking 1 Covered bathroom 2 balcony 2 ownership Freehold 2 bhk flat available in sultanpur, near metro station, loan facility available, with registry, all the modern facilities are variable, with car parking, near market, fully ventilated. read more Contact Agent View Phone No. Share Feedback Agent Delhi Dream 3500+ Buyers Served',\n",
       "  'Sultanpur'],\n",
       " ['Chhattarpur', 'Chhattarpur'],\n",
       " [\"Chhattarpur carpet area 400 sqyrd status Ready to Move transaction New Property furnishing Semi-Furnished car parking 1 Covered, 1 Open bathroom 2 balcony 1 Newly Constructed Property It's a Ground floor Builder Floor Apartment in a building of total 4 floors. The Builder Floor Apartment is newly constructed. Prime facilities are easily accessible from this place with Oxford Angel Public School (0 km ). Other key neighbourhood are Abdul Gaffar Khan Market (0 km ). read more Contact Agent View Phone No. Share Feedback Home Hunt Has Maximum Property Options Is the Top Agent of the Locality Is Trusted by All Users 4 Property Options in Chhattarpur CRISIL Rating Operating Since 2011 No of employees 5 Home Hunt Certified Agent Locality Superstar Chhattarpur 500+ Buyers Served\",\n",
       "  'Chhattarpur'],\n",
       " ['JVTS Gardens, Chhattarpur', 'Chhattarpur'],\n",
       " ['Chhattarpur Enclave Phase2', 'Chhattarpur'],\n",
       " ['DLF Chattarpur Farms, Chhattarpur', 'Chhattarpur'],\n",
       " ['Aravali Tower, Chhattarpur', 'Chhattarpur'],\n",
       " ['Mehrauli', 'Mehrauli'],\n",
       " ['Mehrauli carpet area 1300 sqft status Ready to Move floor 2 out of 4 floors transaction New Property furnishing Semi-Furnished facing East overlooking Garden/Park, Main Road car parking 2 Covered bathroom 3 balcony 2 ownership Freehold 3 bhk flat with attached washroom, modular kitchen, IInd floor, one car and one bike parking, lift, gated society, security, cctv camera, water backup. read more Contact Agent View Phone No. Share Feedback Agent India Bhoomi',\n",
       "  'Mehrauli'],\n",
       " ['Andheria Mor, Mehrauli', 'Mehrauli'],\n",
       " ['Mehrauli carpet area 1250 sqft status Ready to Move floor Ground out of 8 floors transaction Resale furnishing Semi-Furnished facing East overlooking Main Road car parking 1 Covered bathroom 2 balcony 3 ownership Freehold The flat located are very good condition and well developed area. The flat area are very spaciable. This flat balcony view is very best society very neat and clean. read more Contact Agent View Phone No. Share Feedback Agent Bharti Real Estate 100+ Buyers Served',\n",
       "  'Mehrauli'],\n",
       " ['Brijwasi Colony, Mehrauli', 'Mehrauli'],\n",
       " ['Mahavir Enclave', 'Mahavir'],\n",
       " ['Mahavir Enclave Part 1', 'Mahavir'],\n",
       " ['Mahavir Enclave Part 1 carpet area 1000 sqft status Ready to Move floor 2 out of 4 floors transaction Resale furnishing Semi-Furnished facing East car parking 1 Covered bathroom 2 balcony 2 East Facing Property this property is for sale purpose.......................... Contact Owner View Phone No. Share Feedback Owner Twinkle Sudan',\n",
       "  'Mahavir'],\n",
       " ['Mahavir Enclave carpet area 565 sqft status Ready to Move floor Ground out of 1 floor transaction Resale furnishing Unfurnished facing East car parking 1 Covered bathroom 2 balcony 1 ownership Freehold East Facing Property This Freehold Builder Floor Apartment is located at Ground floor in a building of total 1 floors. The age of construction for this apartment Builder Floor Apartment is Less than 5 years. High quality flooring of types Granite are available in different rooms. read more Contact Owner View Phone No. Share Feedback Owner Adesh Sah',\n",
       "  'Mahavir'],\n",
       " ['Mahavir Enclave Part 3', 'Mahavir'],\n",
       " ['Vijay Enclave, Mahavir Enclave', 'Mahavir'],\n",
       " ['Narela Sector A1 carpet area 42 sqyrd status Ready to Move floor Ground out of 5 floors transaction Resale furnishing Unfurnished facing North - East overlooking Garden/Park, Main Road car parking 2 Open bathroom 2 balcony 2 ownership Freehold Near bawana industrial area and j.j. colony. DDA Housing property LIG FLAT very nice property for single family 200 hundreds family already living IN THIS SOCIETY and very piece full atmosphere this society 24 hour guards all facility available read more Contact Owner View Phone No. Share Feedback Owner Vivek Gupta',\n",
       "  'Narela'],\n",
       " ['DDA Flats Pocket 6 Sector A10, Narela', 'Narela'],\n",
       " ['DDA Flats Pocket 1 Sector A9, Narela', 'Narela'],\n",
       " ['DDA Janta Flats, Tikri Khurd Sector B2, Narela', 'Narela'],\n",
       " ['Narela', 'Narela'],\n",
       " ['DDA Lig Flats, Narela', 'Narela'],\n",
       " ['DDA Flats Pocket 3, Narela', 'Narela'],\n",
       " ['DDA Pocket H, Narela', 'Narela'],\n",
       " ['Narela Mandi', 'Narela'],\n",
       " ['Bhorgarh, Narela', 'Narela'],\n",
       " ['Narela Sector A9', 'Narela'],\n",
       " ['Narela Sector A5', 'Narela'],\n",
       " ['Malviya Nagar', 'Malviya Nagar'],\n",
       " ['Shivalik, Malviya Nagar', 'Malviya Nagar'],\n",
       " ['Geetanjali Enclave, Malviya Nagar', 'Malviya Nagar'],\n",
       " ['Geetanjali Enclave Project, Geetanjali Enclave, Malviya Nagar',\n",
       "  'Malviya Nagar'],\n",
       " ['Khirki extension, Malviya Nagar', 'Malviya Nagar'],\n",
       " [\"Malviya Nagar carpet area 100 sqyrd status Ready to Move floor 2 out of 3 floors transaction Resale furnishing Semi-Furnished facing North overlooking Garden/Park, Main Road car parking 2 Open bathroom 3 balcony 2 ownership Freehold It's a Corner three story building, located in South Delhi. Amenities like Market, Schools, Hospitals, Parks, Gyms, Study Centers, Temple are all around. Very Close to Malviya Nagar Metro and Haus Khas Metro Station. Centerlize place to live. Whether you go to Gurgaon or Noida Or to other parts of the city, commuting from here is very easy. read more Contact Owner View Phone No. Share Feedback Owner Rohit\",\n",
       "  'Malviya Nagar'],\n",
       " ['Dilshad Colony, Dilshad Garden', 'Dilshad Garden'],\n",
       " ['Guru Teg Bahadur Enclave, Dilshad Garden', 'Dilshad Garden'],\n",
       " ['Dilshad Garden carpet area 1500 sqft status Ready to Move floor 2 out of 4 floors transaction Resale furnishing Unfurnished bathroom 1 balcony 2 Mig dda flat located at a very prime location near to market, school, hospital, metro station etc. Contact Owner View Phone No. Share Feedback Owner R',\n",
       "  'Dilshad Garden'],\n",
       " ['DDA Flats Block A, Dilshad Garden', 'Dilshad Garden'],\n",
       " ['Dilshad Garden', 'Dilshad Garden'],\n",
       " ['DDA Pocket JK, Dilshad Garden', 'Dilshad Garden'],\n",
       " ['DDA Pocket E, Dilshad Garden', 'Dilshad Garden'],\n",
       " ['DDA Flats Pocket O, Dilshad Garden', 'Dilshad Garden'],\n",
       " ['DDA Pocket I, Dilshad Garden', 'Dilshad Garden'],\n",
       " ['Vasundhara Enclave', 'Vasundhara'],\n",
       " ['Samrat Apartment, Vasundhara Enclave', 'Vasundhara'],\n",
       " ['Mangal Apartment, Vasundhara Enclave carpet area 1600 sqft status Ready to Move floor 4 out of 7 floors transaction Resale furnishing Furnished facing South - East overlooking Garden/Park, Main Road society Mangal Apartment car parking 1 Open bathroom 3 balcony 1 ownership Freehold Fully furnished , complete marble flooring, ready to move in. Contact Owner View Phone No. Share Feedback Owner Shailendra',\n",
       "  'Vasundhara'],\n",
       " ['Prayag Apartments, Vasundhara Enclave carpet area 900 sqft status Ready to Move floor 2 out of 4 floors transaction Resale furnishing Semi-Furnished overlooking Garden/Park, Main Road society Prayag Apartments car parking 1 Open bathroom 2 balcony 2 ownership Freehold This is 2 BHK apartment , with 2 Bathroom and one parking.This is East facing Flat.Near Metro Station is Ashok Nagar read more Contact Owner View Phone No. Share Feedback Owner Sameer Kumar',\n",
       "  'Vasundhara'],\n",
       " ['Abhimanyu Apartments, Vasundhara Enclave', 'Vasundhara'],\n",
       " ['Fancy Apartments, Vasundhara Enclave', 'Vasundhara'],\n",
       " ['Shantidoot Apartment, Vasundhara Enclave', 'Vasundhara'],\n",
       " ['Mangal Apartment, Vasundhara Enclave', 'Vasundhara'],\n",
       " ['Satyam Apartment, Vasundhara Enclave', 'Vasundhara'],\n",
       " ['Anekant Apartment, Vasundhara Enclave', 'Vasundhara'],\n",
       " ['New Delhi Apartment, Vasundhara Enclave', 'Vasundhara'],\n",
       " ['Mahesh Apartment, Vasundhara Enclave', 'Vasundhara'],\n",
       " ['Pawittra Apartment, Vasundhara Enclave', 'Vasundhara'],\n",
       " ['Capital Apartment, Vasundhara Enclave', 'Vasundhara'],\n",
       " ['Hindon Apartment, Vasundhara Enclave', 'Vasundhara'],\n",
       " ['Gobind Apartment, Vasundhara Enclave', 'Vasundhara'],\n",
       " ['Abul Fazal Enclave Part 1, Okhla', 'Okhla'],\n",
       " ['Godrej South Estate, Okhla Phase 1', 'Okhla'],\n",
       " ['Abul Fazal Enclave Part-II, Okhla', 'Okhla'],\n",
       " ['Jamia Nagar, Okhla', 'Okhla'],\n",
       " ['Zakir Nagar, New Friends Colony', 'New Friends Colony'],\n",
       " ['Batla House Project, Batla House, Okhla', 'Okhla'],\n",
       " ['Dev Nagar, Karol Bagh', 'Karol Bagh'],\n",
       " ['Beadon Pura, Karol Bagh How Auctions work? The borrower has the physical possession of the Property. However the lender (Bank) can legally sell the Property. carpet area 148 sqyrd status Ready to Move floor 3 out of 3 floors transaction Resale furnishing Semi-Furnished bathroom 2 balcony 3 ownership Freehold Contact Now Enquire Now Auction By Bank',\n",
       "  'Karol Bagh'],\n",
       " ['DDA Mig Flat, Prasad Nagar, Karol Bagh', 'Karol Bagh'],\n",
       " ['Karol Bagh', 'Karol Bagh'],\n",
       " ['Prasad Nagar, Karol Bagh', 'Karol Bagh'],\n",
       " ['DDA MIG Flats Prasad Nagar Phase 2, Prasad Nagar, Karol Bagh',\n",
       "  'Karol Bagh'],\n",
       " ['Karol Bagh carpet area 1600 sqft status Ready to Move floor 3 out of 3 floors transaction New Property furnishing Semi-Furnished facing East overlooking Garden/Park, Main Road car parking 1 Covered, 1 Open bathroom 3 balcony 2 ownership Freehold Near to Karol Bagh Metro station...................................... Its a very peaceful location ....................................................................................................................... read more Contact Agent View Phone No. Share Feedback Agent S R B Properties',\n",
       "  'Karol Bagh'],\n",
       " ['DLF Capital Greens, Moti Nagar, Kirti Nagar ( 1 km from New Moti Nagar, Kirti Nagar)',\n",
       "  'Kirti Nagar'],\n",
       " ['DLF Capital Greens, New Moti Nagar, Kirti Nagar', 'Kirti Nagar'],\n",
       " ['New Moti Nagar, Kirti Nagar', 'Kirti Nagar'],\n",
       " ['Sheikh Sarai Phase 1', 'Sheikh Sarai'],\n",
       " ['Sheikh Sarai', 'Sheikh Sarai'],\n",
       " ['Sheikh Sarai Phase 2', 'Sheikh Sarai'],\n",
       " ['Savitri Nagar Village, Sheikh Sarai', 'Sheikh Sarai'],\n",
       " ['Panchsheel Vihar, Sheikh Sarai', 'Sheikh Sarai'],\n",
       " ['Apna Apartments, Savitri Nagar Village, Sheikh Sarai', 'Sheikh Sarai'],\n",
       " ['Punjabi Bagh Enclave, Punjabi Bagh West', 'Punjabi Bagh'],\n",
       " ['Punjabi Bagh', 'Punjabi Bagh'],\n",
       " ['Punjabi Bagh West', 'Punjabi Bagh'],\n",
       " ['Punjabi Bagh Enclave, Shivaji Park, Punjabi Bagh', 'Punjabi Bagh'],\n",
       " ['Punjabi Bagh Extension, Punjabi Bagh', 'Punjabi Bagh'],\n",
       " ['DLF Capitals Phase III, Shivaji Park, Punjabi Bagh', 'Punjabi Bagh'],\n",
       " ['Punjabi Bagh Enclave, Punjabi Bagh', 'Punjabi Bagh'],\n",
       " ['Punjabi Bagh Enclave, Madipur, Punjabi Bagh', 'Punjabi Bagh'],\n",
       " ['Bhagwan Das Nagar, Punjabi Bagh', 'Punjabi Bagh'],\n",
       " ['Punjabi Bagh East', 'Punjabi Bagh'],\n",
       " ['Pal Mohan Apartments, Punjabi Bagh', 'Punjabi Bagh'],\n",
       " ['Govindpuri Extension, Kalkaji', 'Kalkaji'],\n",
       " ['Kalkaji', 'Kalkaji'],\n",
       " ['DDA LIG Flat, Kalkaji', 'Kalkaji'],\n",
       " ['Rishi Apartment, Kalkaji', 'Kalkaji'],\n",
       " ['Deshbandhu Apartments, Kalkaji', 'Kalkaji'],\n",
       " ['Dda Janta Flats, Kalkaji', 'Kalkaji'],\n",
       " ['Kalkaji super area 800 sqft status Ready to Move floor 3 out of 4 floors transaction Resale furnishing Semi-Furnished facing North - West overlooking Garden/Park, Main Road car parking 1 Open bathroom 2 balcony 2 ownership Freehold 2 bhk flat for sale in kalkaji this is third floor with 2 bed room and bathrooms very peace full location and posh. The Summer Fields School is considered as among the best school of New Delhi and is located just beside to this property. Within the range of 4-5km, you will find some of the well-equipped hospitals which include AIMS Hospital and Moolchand Hospital.for more information about this flat please call me feel free. read more Contact Agent View Phone No. Share Feedback Agent Rose Estate 100+ Buyers Served',\n",
       "  'Kalkaji'],\n",
       " ['Kalkaji Extention', 'Kalkaji'],\n",
       " ['Kalkaji super area 1000 sqft status Ready to Move floor 2 out of 3 floors transaction Resale furnishing Semi-Furnished facing North - West overlooking Garden/Park, Main Road car parking 1 Covered, 1 Open bathroom 2 balcony 2 ownership Freehold Very beautiful 3 bedroom with attached washroom , drawing dining , modular kitchen , ac , servant room , power backup, powder room, separate underground and overhead water tanks, walking distance to market , easy access to ring road . For more details and site visit please contact cosmo properties. read more Contact Agent View Phone No. Share Feedback Agent Zee Associates',\n",
       "  'Kalkaji'],\n",
       " ['Mandakini Enclave Project, Kalkaji', 'Kalkaji'],\n",
       " ['Deshbandhu Apartments, Kalkaji carpet area 1300 sqft status Ready to Move floor 3 out of 4 floors transaction Resale furnishing Unfurnished facing North - East overlooking Garden/Park, Main Road society Deshbandhu Apartments car parking 1 Covered, 1 Open bathroom 2 balcony 2 ownership Freehold Third Floor with terrace 3 bhk builder floor apartment with 2 attached bathrooms located in kalkaji Deshbandu apartment . all water and electrical connections installed, very spacious drawing room , 2 balconies in front and rear each dedicated parking spot for 1 car. extra parking space available for additional cars, Immediately for sale , read more Contact Agent View Phone No. Share Feedback Agent Bhawani Realtors',\n",
       "  'Kalkaji'],\n",
       " ['Hauz Khas', 'Hauz Khas'],\n",
       " ['Hauz Khas Apartment, Hauz Khas Enclave, Hauz Khas', 'Hauz Khas'],\n",
       " ['Sarva Priya Apartment, Hauz Khas', 'Hauz Khas'],\n",
       " ['Hauz Khas Enclave, Hauz Khas', 'Hauz Khas'],\n",
       " ['Safdarjung Development Area, Hauz Khas', 'Hauz Khas'],\n",
       " ['Safdarjung Development Area, Hauz Khas', 'Safdarjung'],\n",
       " ['Mayfair garden, Hauz Khas', 'Hauz Khas'],\n",
       " ['Orchid Metropolis, Hauz Khas', 'Hauz Khas'],\n",
       " ['Sarva Priya Apartment, Hauz Khas carpet area 1700 sqft status Ready to Move floor 1 out of 7 floors transaction Resale furnishing Semi-Furnished facing North - East overlooking Garden/Park society Sarva Priya Apartment car parking 1 Covered, 1 Open bathroom 3 balcony 2 ownership Freehold desperarte sale ,its clear tile, proper cross ventilation ,proper an matter for one week ,crystle sunlight found, and air,ICIC BANK LOAN APPROVAL, good to see , have lucky chance to get such a reraly rare property read more Contact Agent View Phone No. Share Feedback Agent New Capital Properties 1000+ Buyers Served',\n",
       "  'Hauz Khas'],\n",
       " ['Chittaranjan Park', 'Chittaranjan Park'],\n",
       " ['Arya Chittaranjan Park, Chittaranjan Park', 'Chittaranjan Park'],\n",
       " ['Chittaranjan Park carpet area 1200 sqft status Ready to Move floor 2 out of 4 floors transaction New Property furnishing Semi-Furnished facing North - East overlooking Garden/Park bathroom 3 balcony 2 ownership Freehold Newly Constructed Property Newly Constructed Property brand new 1st floor 3bedroom attach bathrooms stilt car parking modular kitchen air condition prime location c r park read more Contact Agent View Phone No. Share Feedback Nirmala Associates Certified Agent Trusted by Users Genuine Listings 1500+ Buyers Served',\n",
       "  'Chittaranjan Park'],\n",
       " ['Chittaranjan Park carpet area 270 sqyrd status Ready to Move floor 2 out of 4 floors transaction Resale furnishing Furnished facing North - East overlooking Garden/Park, Main Road car parking 5 Open bathroom 4 balcony 3 ownership Freehold 3 Side Open, Fully ventilated, Close to Market, Above Bank and 24 x 7 ATM because of which good security. Elite Neighbor hood. Very good for Rental Income. Also can be used for commercial Office Purpose by Advocates. read more Contact Owner View Phone No. Share Feedback Owner Mayur Mayur Aggarwal',\n",
       "  'Chittaranjan Park'],\n",
       " ['Nehru Enclave, Kalkaji', 'Kalkaji'],\n",
       " ['Chittaranjan Park Block A', 'Chittaranjan Park']]"
      ]
     },
     "execution_count": 51,
     "metadata": {},
     "output_type": "execute_result"
    }
   ],
   "source": [
    "value_enco = []\n",
    "a = 0\n",
    "for row in df_loc.index:\n",
    "    for j in location_list:\n",
    "        if (j in row)==True:\n",
    "            value_enco.append([row,j])\n",
    "            \n",
    "            \n",
    "value_enco"
   ]
  },
  {
   "cell_type": "code",
   "execution_count": 52,
   "id": "vanilla-moscow",
   "metadata": {},
   "outputs": [
    {
     "data": {
      "text/html": [
       "<div>\n",
       "<style scoped>\n",
       "    .dataframe tbody tr th:only-of-type {\n",
       "        vertical-align: middle;\n",
       "    }\n",
       "\n",
       "    .dataframe tbody tr th {\n",
       "        vertical-align: top;\n",
       "    }\n",
       "\n",
       "    .dataframe thead th {\n",
       "        text-align: right;\n",
       "    }\n",
       "</style>\n",
       "<table border=\"1\" class=\"dataframe\">\n",
       "  <thead>\n",
       "    <tr style=\"text-align: right;\">\n",
       "      <th></th>\n",
       "      <th>0</th>\n",
       "      <th>1</th>\n",
       "    </tr>\n",
       "  </thead>\n",
       "  <tbody>\n",
       "    <tr>\n",
       "      <th>0</th>\n",
       "      <td>Rohini Sector 25</td>\n",
       "      <td>Rohini Sector</td>\n",
       "    </tr>\n",
       "    <tr>\n",
       "      <th>1</th>\n",
       "      <td>J R Designers Floors, Rohini Sector 24</td>\n",
       "      <td>Rohini Sector</td>\n",
       "    </tr>\n",
       "    <tr>\n",
       "      <th>2</th>\n",
       "      <td>Citizen Apartment, Rohini Sector 13</td>\n",
       "      <td>Rohini Sector</td>\n",
       "    </tr>\n",
       "    <tr>\n",
       "      <th>3</th>\n",
       "      <td>Rohini Sector 24</td>\n",
       "      <td>Rohini Sector</td>\n",
       "    </tr>\n",
       "    <tr>\n",
       "      <th>4</th>\n",
       "      <td>Rohini Sector 24 carpet area 650 sqft status R...</td>\n",
       "      <td>Rohini Sector</td>\n",
       "    </tr>\n",
       "    <tr>\n",
       "      <th>...</th>\n",
       "      <td>...</td>\n",
       "      <td>...</td>\n",
       "    </tr>\n",
       "    <tr>\n",
       "      <th>294</th>\n",
       "      <td>Arya Chittaranjan Park, Chittaranjan Park</td>\n",
       "      <td>Chittaranjan Park</td>\n",
       "    </tr>\n",
       "    <tr>\n",
       "      <th>295</th>\n",
       "      <td>Chittaranjan Park carpet area 1200 sqft status...</td>\n",
       "      <td>Chittaranjan Park</td>\n",
       "    </tr>\n",
       "    <tr>\n",
       "      <th>296</th>\n",
       "      <td>Chittaranjan Park carpet area 270 sqyrd status...</td>\n",
       "      <td>Chittaranjan Park</td>\n",
       "    </tr>\n",
       "    <tr>\n",
       "      <th>297</th>\n",
       "      <td>Nehru Enclave, Kalkaji</td>\n",
       "      <td>Kalkaji</td>\n",
       "    </tr>\n",
       "    <tr>\n",
       "      <th>298</th>\n",
       "      <td>Chittaranjan Park Block A</td>\n",
       "      <td>Chittaranjan Park</td>\n",
       "    </tr>\n",
       "  </tbody>\n",
       "</table>\n",
       "<p>299 rows × 2 columns</p>\n",
       "</div>"
      ],
      "text/plain": [
       "                                                     0                  1\n",
       "0                                     Rohini Sector 25      Rohini Sector\n",
       "1               J R Designers Floors, Rohini Sector 24      Rohini Sector\n",
       "2                  Citizen Apartment, Rohini Sector 13      Rohini Sector\n",
       "3                                     Rohini Sector 24      Rohini Sector\n",
       "4    Rohini Sector 24 carpet area 650 sqft status R...      Rohini Sector\n",
       "..                                                 ...                ...\n",
       "294          Arya Chittaranjan Park, Chittaranjan Park  Chittaranjan Park\n",
       "295  Chittaranjan Park carpet area 1200 sqft status...  Chittaranjan Park\n",
       "296  Chittaranjan Park carpet area 270 sqyrd status...  Chittaranjan Park\n",
       "297                             Nehru Enclave, Kalkaji            Kalkaji\n",
       "298                          Chittaranjan Park Block A  Chittaranjan Park\n",
       "\n",
       "[299 rows x 2 columns]"
      ]
     },
     "execution_count": 52,
     "metadata": {},
     "output_type": "execute_result"
    }
   ],
   "source": [
    "df_loc2 = pd.DataFrame(value_enco)\n",
    "df_loc2"
   ]
  },
  {
   "cell_type": "code",
   "execution_count": 53,
   "id": "bored-height",
   "metadata": {},
   "outputs": [
    {
     "data": {
      "text/html": [
       "<div>\n",
       "<style scoped>\n",
       "    .dataframe tbody tr th:only-of-type {\n",
       "        vertical-align: middle;\n",
       "    }\n",
       "\n",
       "    .dataframe tbody tr th {\n",
       "        vertical-align: top;\n",
       "    }\n",
       "\n",
       "    .dataframe thead th {\n",
       "        text-align: right;\n",
       "    }\n",
       "</style>\n",
       "<table border=\"1\" class=\"dataframe\">\n",
       "  <thead>\n",
       "    <tr style=\"text-align: right;\">\n",
       "      <th></th>\n",
       "      <th>cat</th>\n",
       "      <th>new_cat</th>\n",
       "    </tr>\n",
       "  </thead>\n",
       "  <tbody>\n",
       "    <tr>\n",
       "      <th>0</th>\n",
       "      <td>Rohini Sector 25</td>\n",
       "      <td>Rohini Sector</td>\n",
       "    </tr>\n",
       "    <tr>\n",
       "      <th>1</th>\n",
       "      <td>J R Designers Floors, Rohini Sector 24</td>\n",
       "      <td>Rohini Sector</td>\n",
       "    </tr>\n",
       "    <tr>\n",
       "      <th>2</th>\n",
       "      <td>Citizen Apartment, Rohini Sector 13</td>\n",
       "      <td>Rohini Sector</td>\n",
       "    </tr>\n",
       "    <tr>\n",
       "      <th>3</th>\n",
       "      <td>Rohini Sector 24</td>\n",
       "      <td>Rohini Sector</td>\n",
       "    </tr>\n",
       "    <tr>\n",
       "      <th>4</th>\n",
       "      <td>Rohini Sector 24 carpet area 650 sqft status R...</td>\n",
       "      <td>Rohini Sector</td>\n",
       "    </tr>\n",
       "    <tr>\n",
       "      <th>...</th>\n",
       "      <td>...</td>\n",
       "      <td>...</td>\n",
       "    </tr>\n",
       "    <tr>\n",
       "      <th>294</th>\n",
       "      <td>Arya Chittaranjan Park, Chittaranjan Park</td>\n",
       "      <td>Chittaranjan Park</td>\n",
       "    </tr>\n",
       "    <tr>\n",
       "      <th>295</th>\n",
       "      <td>Chittaranjan Park carpet area 1200 sqft status...</td>\n",
       "      <td>Chittaranjan Park</td>\n",
       "    </tr>\n",
       "    <tr>\n",
       "      <th>296</th>\n",
       "      <td>Chittaranjan Park carpet area 270 sqyrd status...</td>\n",
       "      <td>Chittaranjan Park</td>\n",
       "    </tr>\n",
       "    <tr>\n",
       "      <th>297</th>\n",
       "      <td>Nehru Enclave, Kalkaji</td>\n",
       "      <td>Kalkaji</td>\n",
       "    </tr>\n",
       "    <tr>\n",
       "      <th>298</th>\n",
       "      <td>Chittaranjan Park Block A</td>\n",
       "      <td>Chittaranjan Park</td>\n",
       "    </tr>\n",
       "  </tbody>\n",
       "</table>\n",
       "<p>299 rows × 2 columns</p>\n",
       "</div>"
      ],
      "text/plain": [
       "                                                   cat            new_cat\n",
       "0                                     Rohini Sector 25      Rohini Sector\n",
       "1               J R Designers Floors, Rohini Sector 24      Rohini Sector\n",
       "2                  Citizen Apartment, Rohini Sector 13      Rohini Sector\n",
       "3                                     Rohini Sector 24      Rohini Sector\n",
       "4    Rohini Sector 24 carpet area 650 sqft status R...      Rohini Sector\n",
       "..                                                 ...                ...\n",
       "294          Arya Chittaranjan Park, Chittaranjan Park  Chittaranjan Park\n",
       "295  Chittaranjan Park carpet area 1200 sqft status...  Chittaranjan Park\n",
       "296  Chittaranjan Park carpet area 270 sqyrd status...  Chittaranjan Park\n",
       "297                             Nehru Enclave, Kalkaji            Kalkaji\n",
       "298                          Chittaranjan Park Block A  Chittaranjan Park\n",
       "\n",
       "[299 rows x 2 columns]"
      ]
     },
     "execution_count": 53,
     "metadata": {},
     "output_type": "execute_result"
    }
   ],
   "source": [
    "df_loc2.columns = ['cat','new_cat']\n",
    "df_loc2"
   ]
  },
  {
   "cell_type": "code",
   "execution_count": 54,
   "id": "recorded-assets",
   "metadata": {},
   "outputs": [],
   "source": [
    "df_loc2.set_index('cat',inplace=True)"
   ]
  },
  {
   "cell_type": "code",
   "execution_count": 55,
   "id": "transsexual-history",
   "metadata": {},
   "outputs": [
    {
     "data": {
      "text/html": [
       "<div>\n",
       "<style scoped>\n",
       "    .dataframe tbody tr th:only-of-type {\n",
       "        vertical-align: middle;\n",
       "    }\n",
       "\n",
       "    .dataframe tbody tr th {\n",
       "        vertical-align: top;\n",
       "    }\n",
       "\n",
       "    .dataframe thead th {\n",
       "        text-align: right;\n",
       "    }\n",
       "</style>\n",
       "<table border=\"1\" class=\"dataframe\">\n",
       "  <thead>\n",
       "    <tr style=\"text-align: right;\">\n",
       "      <th></th>\n",
       "      <th>new_cat</th>\n",
       "    </tr>\n",
       "  </thead>\n",
       "  <tbody>\n",
       "    <tr>\n",
       "      <th>APL Builder Floor, Greater Kailash 1</th>\n",
       "      <td>Greater Kailash</td>\n",
       "    </tr>\n",
       "    <tr>\n",
       "      <th>Aashirwaad Chowk, Dwarka</th>\n",
       "      <td>NaN</td>\n",
       "    </tr>\n",
       "    <tr>\n",
       "      <th>Abhimanyu Apartments, Vasundhara Enclave</th>\n",
       "      <td>Vasundhara</td>\n",
       "    </tr>\n",
       "    <tr>\n",
       "      <th>Abul Fazal Enclave Part 1, Okhla</th>\n",
       "      <td>Okhla</td>\n",
       "    </tr>\n",
       "    <tr>\n",
       "      <th>Abul Fazal Enclave Part-II, Okhla</th>\n",
       "      <td>Okhla</td>\n",
       "    </tr>\n",
       "    <tr>\n",
       "      <th>...</th>\n",
       "      <td>...</td>\n",
       "    </tr>\n",
       "    <tr>\n",
       "      <th>Vishwas Nagar, Shahdara</th>\n",
       "      <td>Shahdara</td>\n",
       "    </tr>\n",
       "    <tr>\n",
       "      <th>Yamuna Apartment, Alaknanda</th>\n",
       "      <td>Alaknanda</td>\n",
       "    </tr>\n",
       "    <tr>\n",
       "      <th>Yamuna Vihar, Shahdara</th>\n",
       "      <td>Shahdara</td>\n",
       "    </tr>\n",
       "    <tr>\n",
       "      <th>Zakir Nagar, New Friends Colony</th>\n",
       "      <td>New Friends Colony</td>\n",
       "    </tr>\n",
       "    <tr>\n",
       "      <th>mind. The space is airy, is well located and can be easily customized as per the needs. Prime facilities are easily accessible from this place with Government Girls Senior Secondary School No 2 (0 km ). Other key neighbourhood are B Block Market (0 km ). read more Contact Owner View Phone No. Share Feedback Owner vinod kumar</th>\n",
       "      <td>NaN</td>\n",
       "    </tr>\n",
       "  </tbody>\n",
       "</table>\n",
       "<p>367 rows × 1 columns</p>\n",
       "</div>"
      ],
      "text/plain": [
       "                                                               new_cat\n",
       "APL Builder Floor, Greater Kailash 1                   Greater Kailash\n",
       "Aashirwaad Chowk, Dwarka                                           NaN\n",
       "Abhimanyu Apartments, Vasundhara Enclave                    Vasundhara\n",
       "Abul Fazal Enclave Part 1, Okhla                                 Okhla\n",
       "Abul Fazal Enclave Part-II, Okhla                                Okhla\n",
       "...                                                                ...\n",
       "Vishwas Nagar, Shahdara                                       Shahdara\n",
       "Yamuna Apartment, Alaknanda                                  Alaknanda\n",
       "Yamuna Vihar, Shahdara                                        Shahdara\n",
       "Zakir Nagar, New Friends Colony                     New Friends Colony\n",
       "mind. The space is airy, is well located and ca...                 NaN\n",
       "\n",
       "[367 rows x 1 columns]"
      ]
     },
     "execution_count": 55,
     "metadata": {},
     "output_type": "execute_result"
    }
   ],
   "source": [
    "df_location = pd.merge(df_loc, df_loc2,  how='left',left_index=True,right_index=True)\n",
    "df_location"
   ]
  },
  {
   "cell_type": "code",
   "execution_count": 56,
   "id": "structural-canberra",
   "metadata": {},
   "outputs": [
    {
     "data": {
      "text/plain": [
       "68"
      ]
     },
     "execution_count": 56,
     "metadata": {},
     "output_type": "execute_result"
    }
   ],
   "source": [
    "df_location['new_cat'].isna().sum()"
   ]
  },
  {
   "cell_type": "code",
   "execution_count": 57,
   "id": "retained-chassis",
   "metadata": {},
   "outputs": [],
   "source": [
    "df_location.fillna('other',inplace=True)"
   ]
  },
  {
   "cell_type": "code",
   "execution_count": 58,
   "id": "interested-restoration",
   "metadata": {},
   "outputs": [
    {
     "data": {
      "text/plain": [
       "array(['Greater Kailash', 'other', 'Vasundhara', 'Okhla', 'Shahdara',\n",
       "       'Alaknanda', 'Lajpat Nagar', 'Mehrauli', 'Saket', 'Sheikh Sarai',\n",
       "       'Chhattarpur', 'Paschim Vihar', 'Safdarjung', 'Chittaranjan Park',\n",
       "       'Patel Nagar', 'Laxmi Nagar', 'Karol Bagh', 'Punjabi Bagh',\n",
       "       'Narela', 'Budh Vihar', 'Rohini Sector',\n",
       "       'Commonwealth Games Village', 'Dilshad Garden', 'Vasant Kunj',\n",
       "       'Sarita Vihar', 'Kalkaji', 'Kirti Nagar', 'New Friends Colony',\n",
       "       'Malviya Nagar', 'Hauz Khas', 'Uttam Nagar', 'Mahavir',\n",
       "       'Sultanpur'], dtype=object)"
      ]
     },
     "execution_count": 58,
     "metadata": {},
     "output_type": "execute_result"
    }
   ],
   "source": [
    "df_location.new_cat.unique()"
   ]
  },
  {
   "cell_type": "code",
   "execution_count": 59,
   "id": "incorrect-month",
   "metadata": {},
   "outputs": [
    {
     "data": {
      "text/plain": [
       "{'APL Builder Floor, Greater Kailash 1': 'Greater Kailash',\n",
       " 'Aashirwaad Chowk, Dwarka': 'other',\n",
       " 'Abhimanyu Apartments, Vasundhara Enclave': 'Vasundhara',\n",
       " 'Abul Fazal Enclave Part 1, Okhla': 'Okhla',\n",
       " 'Abul Fazal Enclave Part-II, Okhla': 'Okhla',\n",
       " 'Adarsh Homes, Dwarka Mor': 'other',\n",
       " 'Ahinsha Vatika, Ram Nagar, Shahdara': 'Shahdara',\n",
       " 'Alaknanda': 'Alaknanda',\n",
       " 'Amar Colony, Lajpat Nagar': 'Lajpat Nagar',\n",
       " 'Andheria Mor, Mehrauli': 'Mehrauli',\n",
       " 'Anekant Apartment, Vasundhara Enclave': 'Vasundhara',\n",
       " 'Anupam Enclave, Saket': 'Saket',\n",
       " 'Apna Apartments, Savitri Nagar Village, Sheikh Sarai': 'Sheikh Sarai',\n",
       " 'Aravali Apartments, Alaknanda': 'Alaknanda',\n",
       " 'Aravali Tower, Chhattarpur': 'Chhattarpur',\n",
       " 'Archana Apartment, Paschim Vihar': 'Paschim Vihar',\n",
       " 'Arjun Nagar, Safdarjung Enclave': 'Safdarjung',\n",
       " 'Arya Chittaranjan Park, Chittaranjan Park': 'Chittaranjan Park',\n",
       " 'Ashirwad Apartments, Dwarka': 'other',\n",
       " 'Ashirwad Apartments, Dwarka Sector 12': 'other',\n",
       " 'Ashoka Apartment, Paschim Vihar Block A2': 'Paschim Vihar',\n",
       " 'Ashoka Apartments, Dwarka Sector 12': 'other',\n",
       " 'Ashoka Enclave Apartment, Dwarka Sector 11': 'other',\n",
       " 'Balbir Nagar, Shahdara': 'Shahdara',\n",
       " 'Baljit Nagar, Patel Nagar': 'Patel Nagar',\n",
       " 'Bank Apartments, Aashirwaad Chowk, Dwarka': 'other',\n",
       " 'Bank Apartments, Aashirwaad Chowk, Dwarka carpet area 1550 sqft status Ready to Move floor 7 out of 7 floors transaction Resale furnishing Semi-Furnished facing North - East overlooking Garden/Park, Main Road society Bank Apartments car parking 1 Covered, 1 Open bathroom 2 balcony 3 ownership Freehold A spacious 3 Bedroom flat is available for sale in Dwarka , New Delhi.it is cornor building plenty of sunlight and airy. It is located on the 2 Floor. It has a covered area of 1500 Sq-ft. The flat has vitrified tiles & Mosiac flooring. The flat has 24 Hours Available water supply and No/Rare Powercut.. The property is fantastically located and is much sought-after. The property is available at a very competitive Price. read more Contact Agent View Phone No. Share Feedback Sikka Realtors Has Maximum Property Options Is the Top Agent of the Locality Is Trusted by All Users CRISIL Rating No of employees 12 Sikka Realtors Certified Agent Locality Superstar Aashirwaad Chowk, Dwarka 2500+ Buyers Served': 'other',\n",
       " 'Bank Enclave, Laxmi Nagar': 'Laxmi Nagar',\n",
       " 'Batla House Project, Batla House, Okhla': 'Okhla',\n",
       " 'Batla House, Okhla': 'Okhla',\n",
       " 'Beadon Pura, Karol Bagh How Auctions work? The borrower has the physical possession of the Property. However the lender (Bank) can legally sell the Property. carpet area 148 sqyrd status Ready to Move floor 3 out of 3 floors transaction Resale furnishing Semi-Furnished bathroom 2 balcony 3 ownership Freehold Contact Now Enquire Now Auction By Bank': 'Karol Bagh',\n",
       " 'Bhagwan Das Nagar, Punjabi Bagh': 'Punjabi Bagh',\n",
       " 'Bhorgarh, Narela': 'Narela',\n",
       " 'Brijwasi Colony, Mehrauli': 'Mehrauli',\n",
       " 'Budh Vihar': 'Budh Vihar',\n",
       " 'Budh Vihar Phase 1': 'Budh Vihar',\n",
       " 'Budh Vihar Phase 2': 'Budh Vihar',\n",
       " 'Budh Vihar super area 50 sqyrd status Ready to Move floor Ground out of 2 floors transaction Resale furnishing Unfurnished facing East car parking 1 Open bathroom 1 balcony 2 ownership Freehold For Sale 2 BHK 50 yrd, 2 side open Ground Floor, First and Second Floor in H Block, Gali No. 04, Near Laxmi Narain Mandir, BudhVihar read more Contact Agent View Phone No. Share Feedback Agent Sahyog Properties 1000+ Buyers Served': 'Budh Vihar',\n",
       " 'Capital Apartment, Vasundhara Enclave': 'Vasundhara',\n",
       " 'Chanakya Apartments, Aashirwaad Chowk, Dwarka': 'other',\n",
       " 'Chander Lok Apartment, Dwarka Sector 19': 'other',\n",
       " 'Chhattarpur': 'Chhattarpur',\n",
       " 'Chhattarpur Enclave Phase2': 'Chhattarpur',\n",
       " \"Chhattarpur carpet area 400 sqyrd status Ready to Move transaction New Property furnishing Semi-Furnished car parking 1 Covered, 1 Open bathroom 2 balcony 1 Newly Constructed Property It's a Ground floor Builder Floor Apartment in a building of total 4 floors. The Builder Floor Apartment is newly constructed. Prime facilities are easily accessible from this place with Oxford Angel Public School (0 km ). Other key neighbourhood are Abdul Gaffar Khan Market (0 km ). read more Contact Agent View Phone No. Share Feedback Home Hunt Has Maximum Property Options Is the Top Agent of the Locality Is Trusted by All Users 4 Property Options in Chhattarpur CRISIL Rating Operating Since 2011 No of employees 5 Home Hunt Certified Agent Locality Superstar Chhattarpur 500+ Buyers Served\": 'Chhattarpur',\n",
       " 'Chittaranjan Park': 'Chittaranjan Park',\n",
       " 'Chittaranjan Park Block A': 'Chittaranjan Park',\n",
       " 'Chittaranjan Park carpet area 1200 sqft status Ready to Move floor 2 out of 4 floors transaction New Property furnishing Semi-Furnished facing North - East overlooking Garden/Park bathroom 3 balcony 2 ownership Freehold Newly Constructed Property Newly Constructed Property brand new 1st floor 3bedroom attach bathrooms stilt car parking modular kitchen air condition prime location c r park read more Contact Agent View Phone No. Share Feedback Nirmala Associates Certified Agent Trusted by Users Genuine Listings 1500+ Buyers Served': 'Chittaranjan Park',\n",
       " 'Chittaranjan Park carpet area 270 sqyrd status Ready to Move floor 2 out of 4 floors transaction Resale furnishing Furnished facing North - East overlooking Garden/Park, Main Road car parking 5 Open bathroom 4 balcony 3 ownership Freehold 3 Side Open, Fully ventilated, Close to Market, Above Bank and 24 x 7 ATM because of which good security. Elite Neighbor hood. Very good for Rental Income. Also can be used for commercial Office Purpose by Advocates. read more Contact Owner View Phone No. Share Feedback Owner Mayur Mayur Aggarwal': 'Chittaranjan Park',\n",
       " 'Chopra Apartment, Dwarka Sector 23': 'other',\n",
       " 'Citizen Apartment, Rohini Sector 13': 'Rohini Sector',\n",
       " 'Common Wealth Games Village, Commonwealth Games Village 2010': 'Commonwealth Games Village',\n",
       " 'Commonwealth Games Village 2010': 'Commonwealth Games Village',\n",
       " 'Crescent Apartments, Dwarka Sector 18': 'other',\n",
       " 'DDA Flats Block A, Dilshad Garden': 'Dilshad Garden',\n",
       " 'DDA Flats Mansarovar Park, Seelampur, Shahdara': 'Shahdara',\n",
       " 'DDA Flats Pocket 1 Sector A9, Narela': 'Narela',\n",
       " 'DDA Flats Pocket 1, Vasant Kunj Sector B': 'Vasant Kunj',\n",
       " 'DDA Flats Pocket 3, Narela': 'Narela',\n",
       " 'DDA Flats Pocket 6 Sector A10, Narela': 'Narela',\n",
       " 'DDA Flats Pocket O, Dilshad Garden': 'Dilshad Garden',\n",
       " 'DDA Flats Sarita Vihar, Sarita Vihar Pocket K': 'Sarita Vihar',\n",
       " 'DDA Flats Sarita Vihar, Sarita Vihar, Mathura Road': 'Sarita Vihar',\n",
       " 'DDA Flats Sector 14, Dwarka Sector 14': 'other',\n",
       " 'DDA Flats Sector E Pocket 1, Vasant Kunj': 'Vasant Kunj',\n",
       " 'DDA Flats Vasant Kunj, Vasant Kunj': 'Vasant Kunj',\n",
       " 'DDA Flats Vasant Kunj, Vasant Kunj Sector B': 'Vasant Kunj',\n",
       " 'DDA Flats Vasant Kunj, Vasant Kunj Sector C': 'Vasant Kunj',\n",
       " 'DDA Flats Vasant Kunj, Vasant Kunj Sector D': 'Vasant Kunj',\n",
       " 'DDA Flats Vasant Kunj, Vasant Kunj carpet area 1200 sqft status Ready to Move floor 5 out of 7 floors transaction Resale furnishing Semi-Furnished facing North - West overlooking Garden/Park, Main Road society DDA Flats Vasant Kunj car parking 1 Covered, 1 Open bathroom 2 balcony 2 ownership Freehold A southEAST facing 3 bhk resale flat is available in the promising locality of sectorE vasant kunj vasant kunj, delhi south. It is a ready to move in spacious flat and is located on the 5th floor. Every single detail of the flat is carefully designed. This property offers quality specifications such as lifts, park, water storage and securityfire alar. It is a gated society flat. It provides a spectacular view of the main road and parkgarden. The apartment is priced at rs. 2 cr. It is a freehold property, with a super builtUp area of 1600 sq. Ft. The property price is negotiable. read more Contact Agent Enquire Now Share Feedback Crisil Silver Agent Link Properties Pvt. Ltd. 5000+ Buyers Served': 'Vasant Kunj',\n",
       " 'DDA Flats, Sarita Vihar, Mathura Road carpet area 1150 sqft status Ready to Move floor 3 out of 3 floors transaction Resale furnishing Semi-Furnished facing North - East overlooking Main Road society DDA Flats car parking 2 Open bathroom 2 balcony 3 ownership Freehold 2 BHK flat available for sale in sarita vihar excellent interiors flooring in all bedrooms complete wood work modular kitchen beautiful bathrooms extremely well maintained ample parking space read more Contact Agent View Phone No. Share Feedback Lavish Associates Certified Agent Trusted by Users Genuine Listings Market Knowledge': 'Sarita Vihar',\n",
       " 'DDA Flats, Sarita Vihar, Mathura Road carpet area 1600 sqft status Ready to Move floor 1 out of 4 floors transaction Resale furnishing Semi-Furnished facing North - East overlooking Main Road society DDA Flats car parking 2 Open bathroom 2 balcony 2 ownership Freehold For sale First second third duplex in sarita vihar DDA Flates . this house free hold property clear titel . this flate well maintained and spacious peacefull location . no issue light water and parking read more Contact Agent View Phone No. Share Feedback Shree Balaji Real Estate Pvt. Ltd. Has Maximum Property Options Is the Top Agent of the Locality Is Trusted by All Users 21 Property Options in Sarita Vihar, Mathura Road Shree Balaji Real Estate Pvt. Ltd. Certified Agent Locality Superstar Maximum options in Sarita Vihar, Mathura Road': 'Sarita Vihar',\n",
       " 'DDA Flats, Sarita Vihar, Mathura Road carpet area 1600 sqft status Ready to Move floor Ground out of 4 floors transaction Resale furnishing Semi-Furnished facing North - West overlooking Main Road society DDA Flats car parking 1 Open bathroom 2 balcony 2 ownership Freehold For slae Ground First Duplex in sarita vihar .posh locality in south delhi DDa coloney . This house spacious 4 bedrooms with 2 washrooms drawing and dinning . free hold proerty clear titel . near by all amnites . well develop location . read more Contact Agent View Phone No. Share Feedback Shree Balaji Real Estate Pvt. Ltd. Has Maximum Property Options Is the Top Agent of the Locality Is Trusted by All Users 21 Property Options in Sarita Vihar, Mathura Road Shree Balaji Real Estate Pvt. Ltd. Certified Agent Locality Superstar Maximum options in Sarita Vihar, Mathura Road': 'Sarita Vihar',\n",
       " 'DDA Janta Flats, Tikri Khurd Sector B2, Narela': 'Narela',\n",
       " 'DDA LIG Flat, Kalkaji': 'Kalkaji',\n",
       " 'DDA Lig Flats, Narela': 'Narela',\n",
       " 'DDA Lig Flats, Paschim Vihar': 'Paschim Vihar',\n",
       " 'DDA Lig Flats, Paschim Vihar carpet area 45 sqyrd status Ready to Move floor 4 out of 4 floors transaction Resale furnishing Semi-Furnished facing East overlooking Garden/Park, Main Road society DDA Lig Flats bathroom 1 balcony 1 ownership Freehold East Facing Property Expected price for the Flat is kept at 45 Lac. This is a 1 bedroom apartment present in DDA Lig Flats, Paschim Vihar. It measures an area of 45 Sq-m. It is on 4 floor out of 4 floors in the tower and is also well ventilated. The Flat has 1 washroom and also has 1 spacious balcony. read more Contact Owner View Phone No. Share Feedback Owner Anil': 'Paschim Vihar',\n",
       " 'DDA MIG Flats Prasad Nagar Phase 2, Prasad Nagar, Karol Bagh': 'Karol Bagh',\n",
       " 'DDA Mig Flat, Prasad Nagar, Karol Bagh': 'Karol Bagh',\n",
       " 'DDA Pocket 1, Vasant Kunj Sector D': 'Vasant Kunj',\n",
       " 'DDA Pocket E, Dilshad Garden': 'Dilshad Garden',\n",
       " 'DDA Pocket H, Narela': 'Narela',\n",
       " 'DDA Pocket I, Dilshad Garden': 'Dilshad Garden',\n",
       " 'DDA Pocket JK, Dilshad Garden': 'Dilshad Garden',\n",
       " 'DDA RPS Flats, Mansarowar Park, Shahdara': 'Shahdara',\n",
       " 'DLF Capital Greens, Moti Nagar, Kirti Nagar ( 1 km from New Moti Nagar, Kirti Nagar)': 'Kirti Nagar',\n",
       " 'DLF Capital Greens, New Moti Nagar, Kirti Nagar': 'Kirti Nagar',\n",
       " 'DLF Capitals Phase III, Shivaji Park, Punjabi Bagh': 'Punjabi Bagh',\n",
       " 'DLF Chattarpur Farms, Chhattarpur': 'Chhattarpur',\n",
       " 'Dayanand Colony, Lajpat Nagar How Auctions work? The borrower has the physical possession of the Property. However the lender (Bank) can legally sell the Property. super area 810 sqft status Ready to Move floor 1 out of 5 floors transaction Resale balcony 1 Contact Now Enquire Now Auction By Bank': 'Lajpat Nagar',\n",
       " 'Dda Janta Flats, Kalkaji': 'Kalkaji',\n",
       " 'Defence Officers Apartment, Aashirwaad Chowk, Dwarka': 'other',\n",
       " 'Delhi Homes Yojana, Dwarka Sector 24': 'other',\n",
       " 'Delhi Homes, Rohini Sector 24': 'Rohini Sector',\n",
       " 'Deshbandhu Apartments, Kalkaji': 'Kalkaji',\n",
       " 'Deshbandhu Apartments, Kalkaji carpet area 1300 sqft status Ready to Move floor 3 out of 4 floors transaction Resale furnishing Unfurnished facing North - East overlooking Garden/Park, Main Road society Deshbandhu Apartments car parking 1 Covered, 1 Open bathroom 2 balcony 2 ownership Freehold Third Floor with terrace 3 bhk builder floor apartment with 2 attached bathrooms located in kalkaji Deshbandu apartment . all water and electrical connections installed, very spacious drawing room , 2 balconies in front and rear each dedicated parking spot for 1 car. extra parking space available for additional cars, Immediately for sale , read more Contact Agent View Phone No. Share Feedback Agent Bhawani Realtors': 'Kalkaji',\n",
       " 'Dev Nagar, Karol Bagh': 'Karol Bagh',\n",
       " 'Diamond Heights Multi Estate, Najafgarh': 'other',\n",
       " 'Dilshad Colony, Dilshad Garden': 'Dilshad Garden',\n",
       " 'Dilshad Garden': 'Dilshad Garden',\n",
       " 'Dilshad Garden carpet area 1500 sqft status Ready to Move floor 2 out of 4 floors transaction Resale furnishing Unfurnished bathroom 1 balcony 2 Mig dda flat located at a very prime location near to market, school, hospital, metro station etc. Contact Owner View Phone No. Share Feedback Owner R': 'Dilshad Garden',\n",
       " 'Dwarka': 'other',\n",
       " 'Dwarka Mor': 'other',\n",
       " 'Dwarka Sector 16B': 'other',\n",
       " 'Dwarka Sector 3 carpet area 400 sqft status Ready to Move floor 1 out of 4 floors transaction New Property furnishing Semi-Furnished facing West overlooking Main Road bathroom 1 balcony 1 ownership Freehold Newly Constructed Property 1BHK freehold property , reserved parking, ample space for visitor parking, bathrooms with modern facilities, complete light in all room, wooden wardrobes in bedrooms, separate electric & water meter connection, separate water tank at roof, electronic door lock system with intercom facility, wall to wall POP work, fall ceiling work in all rooms, royal paint work in all rooms, 24X7 running water, branded electric fittings, modular kitchen with electronic chimney, marble vitrified tile flooring, near to metro station, well connected to main road ect. 80 to 90 home loan available. Ready to move read more Contact Agent View Phone No. Share Feedback Agent S.B. Associates 4000+ Buyers Served': 'other',\n",
       " 'Dwarka Sector 4': 'other',\n",
       " 'E2 Vasant Kunj, Vasant Kunj': 'Vasant Kunj',\n",
       " 'Fancy Apartments, Vasundhara Enclave': 'Vasundhara',\n",
       " 'Find Homes, Greater Kailash 2': 'Greater Kailash',\n",
       " 'Friends Colony East, New Friends Colony': 'New Friends Colony',\n",
       " 'Friends Colony West, New Friends Colony': 'New Friends Colony',\n",
       " 'Gandhi Nagar, Shahdara': 'Shahdara',\n",
       " 'Ganga Apartment Sector D Pocket 6, Vasant Kunj': 'Vasant Kunj',\n",
       " 'Gangotri Enclave, Alaknanda': 'Alaknanda',\n",
       " 'Geeta Colony': 'other',\n",
       " 'Geetanjali Enclave Project, Geetanjali Enclave, Malviya Nagar': 'Malviya Nagar',\n",
       " 'Geetanjali Enclave, Malviya Nagar': 'Malviya Nagar',\n",
       " 'Giri Nagar, KalkaJi': 'other',\n",
       " 'Gobind Apartment, Vasundhara Enclave': 'Vasundhara',\n",
       " 'Godrej South Estate, Okhla': 'Okhla',\n",
       " 'Godrej South Estate, Okhla Phase 1': 'Okhla',\n",
       " 'Gold Croft Apartment, Aashirwaad Chowk, Dwarka': 'other',\n",
       " 'Gorakh Park West, Shahdara': 'Shahdara',\n",
       " 'Govindpuri Extension, Kalkaji': 'Kalkaji',\n",
       " 'Greater Kailash 1': 'Greater Kailash',\n",
       " 'Greater Kailash 2': 'Greater Kailash',\n",
       " 'Greater Kailash 4 Nri Colony': 'Greater Kailash',\n",
       " 'Green Heavens Apartment, Aashirwaad Chowk, Dwarka': 'other',\n",
       " 'Guru Angad Nagar West, Laxmi Nagar': 'Laxmi Nagar',\n",
       " 'Guru Harikishan Nagar, Paschim Vihar': 'Paschim Vihar',\n",
       " 'Guru Teg Bahadur Enclave, Dilshad Garden': 'Dilshad Garden',\n",
       " 'Hans Apartments, Vishwas Nagar, Shahdara': 'Shahdara',\n",
       " 'Hauz Khas': 'Hauz Khas',\n",
       " 'Hauz Khas Apartment, Hauz Khas Enclave, Hauz Khas': 'Hauz Khas',\n",
       " 'Hauz Khas Enclave, Hauz Khas': 'Hauz Khas',\n",
       " 'Hindon Apartment, Vasundhara Enclave': 'Vasundhara',\n",
       " 'Hum Sub Apartment, Aashirwaad Chowk, Dwarka': 'other',\n",
       " 'Indra Park Palam, Manglapuri': 'other',\n",
       " 'Indraprastha Apartment, Dwarka Sector 12': 'other',\n",
       " 'J R Designers Floors, Rohini Sector 24': 'Rohini Sector',\n",
       " 'JVTS Gardens, Chhattarpur': 'Chhattarpur',\n",
       " 'Jamia Nagar, Okhla': 'Okhla',\n",
       " 'Janakpuri Block A3': 'other',\n",
       " 'Jyoti Colony, Shahdara': 'Shahdara',\n",
       " 'Jyoti Nagar West, Shahdara': 'Shahdara',\n",
       " 'Kailash Apartments, Aashirwaad Chowk, Dwarka': 'other',\n",
       " 'Kailash Colony, Greater Kailash': 'Greater Kailash',\n",
       " 'Kalindi Colony, Maharani Bagh, New Friends Colony': 'New Friends Colony',\n",
       " 'Kalkaji': 'Kalkaji',\n",
       " 'Kalkaji Extention': 'Kalkaji',\n",
       " 'Kalkaji super area 1000 sqft status Ready to Move floor 2 out of 3 floors transaction Resale furnishing Semi-Furnished facing North - West overlooking Garden/Park, Main Road car parking 1 Covered, 1 Open bathroom 2 balcony 2 ownership Freehold Very beautiful 3 bedroom with attached washroom , drawing dining , modular kitchen , ac , servant room , power backup, powder room, separate underground and overhead water tanks, walking distance to market , easy access to ring road . For more details and site visit please contact cosmo properties. read more Contact Agent View Phone No. Share Feedback Agent Zee Associates': 'Kalkaji',\n",
       " 'Kalkaji super area 800 sqft status Ready to Move floor 3 out of 4 floors transaction Resale furnishing Semi-Furnished facing North - West overlooking Garden/Park, Main Road car parking 1 Open bathroom 2 balcony 2 ownership Freehold 2 bhk flat for sale in kalkaji this is third floor with 2 bed room and bathrooms very peace full location and posh. The Summer Fields School is considered as among the best school of New Delhi and is located just beside to this property. Within the range of 4-5km, you will find some of the well-equipped hospitals which include AIMS Hospital and Moolchand Hospital.for more information about this flat please call me feel free. read more Contact Agent View Phone No. Share Feedback Agent Rose Estate 100+ Buyers Served': 'Kalkaji',\n",
       " 'Kanti Nagar East, Shahdara': 'Shahdara',\n",
       " 'Karol Bagh': 'Karol Bagh',\n",
       " 'Karol Bagh carpet area 1600 sqft status Ready to Move floor 3 out of 3 floors transaction New Property furnishing Semi-Furnished facing East overlooking Garden/Park, Main Road car parking 1 Covered, 1 Open bathroom 3 balcony 2 ownership Freehold Near to Karol Bagh Metro station...................................... Its a very peaceful location ....................................................................................................................... read more Contact Agent View Phone No. Share Feedback Agent S R B Properties': 'Karol Bagh',\n",
       " 'Karuna Vihar Apartment, Dwarka': 'other',\n",
       " 'Khanpur, Madangir': 'other',\n",
       " 'Khirki extension, Malviya Nagar': 'Malviya Nagar',\n",
       " 'Kiran Garden, Uttam Nagar': 'Uttam Nagar',\n",
       " 'Kishangarh, Vasant Kunj': 'Vasant Kunj',\n",
       " 'Krishan Kunj, Laxmi Nagar': 'Laxmi Nagar',\n",
       " 'Krishna Nagar Block A': 'other',\n",
       " 'Krishna Nagar-Safdarjung Enclave': 'Safdarjung',\n",
       " 'Kunj Vihar Apartment, Dwarka Sector 12': 'other',\n",
       " 'Kushwaha Homes, Uttam Nagar': 'Uttam Nagar',\n",
       " 'LIC Colony, Paschim Vihar': 'Paschim Vihar',\n",
       " 'LNT Apartments, Dwarka': 'other',\n",
       " 'Lajpat Nagar': 'Lajpat Nagar',\n",
       " 'Lajpat Nagar 1': 'Lajpat Nagar',\n",
       " 'Lajpat Nagar 2': 'Lajpat Nagar',\n",
       " 'Lajpat Nagar 3': 'Lajpat Nagar',\n",
       " 'Lajpat Nagar 4': 'Lajpat Nagar',\n",
       " 'Lalita Park, Laxmi Nagar': 'Laxmi Nagar',\n",
       " 'Laxmi Nagar': 'Laxmi Nagar',\n",
       " \"Laxmi Nagar carpet area 1000 sqft status Ready to Move floor 1 out of 4 floors transaction Resale furnishing Furnished bathroom 3 balcony 1 It's a 1st floor Builder Floor Apartment in a building of total 4 floors. The age of construction for this Builder Floor Apartment is between 10 to 15 years. The location has easy access to, Dena Bank (0 km ), Delhi Convent School (0 km ), DDA Market (0 km ) and Nirman Vihar Metro Station (2 km ). read more Contact Owner View Phone No. Share Feedback Owner Vipul Jain\": 'Laxmi Nagar',\n",
       " 'Laxmi Nagar super area 450 sqft status Ready to Move floor 3 out of 4 floors transaction New Property furnishing Semi-Furnished facing East overlooking Main Road bathroom 2 balcony 1 ownership Freehold Newly Constructed Property East Facing Property This Builder Floor Apartment at 3rd faces East & overlooks Main Road offering a beautiful view from the house. with airy interiors. The type of ownership is Freehold. The Builder Floor Apartment is newly constructed. Bank loans available from LIC Housing Finance, Kotak Mahindra Bank, Indiabulls. Flooring of type Marble covers maximum part of the house. The location has easy access to, Dena Bank (0 km ), Delhi Convent School (0 km ), DDA Market (0 km ) and Nirman Vihar Metro Station (2 km ). read more Contact Owner View Phone No. Share Feedback Owner Sonia': 'Laxmi Nagar',\n",
       " 'MTNL Employees House Welfare Society, Dwarka Sector 24': 'other',\n",
       " 'Maharani Bagh, New Friends Colony': 'New Friends Colony',\n",
       " 'Mahavir Enclave': 'Mahavir',\n",
       " 'Mahavir Enclave Part 1': 'Mahavir',\n",
       " 'Mahavir Enclave Part 1 carpet area 1000 sqft status Ready to Move floor 2 out of 4 floors transaction Resale furnishing Semi-Furnished facing East car parking 1 Covered bathroom 2 balcony 2 East Facing Property this property is for sale purpose.......................... Contact Owner View Phone No. Share Feedback Owner Twinkle Sudan': 'Mahavir',\n",
       " 'Mahavir Enclave Part 3': 'Mahavir',\n",
       " 'Mahavir Enclave carpet area 565 sqft status Ready to Move floor Ground out of 1 floor transaction Resale furnishing Unfurnished facing East car parking 1 Covered bathroom 2 balcony 1 ownership Freehold East Facing Property This Freehold Builder Floor Apartment is located at Ground floor in a building of total 1 floors. The age of construction for this apartment Builder Floor Apartment is Less than 5 years. High quality flooring of types Granite are available in different rooms. read more Contact Owner View Phone No. Share Feedback Owner Adesh Sah': 'Mahavir',\n",
       " 'Mahesh Apartment, Vasundhara Enclave': 'Vasundhara',\n",
       " 'Malviya Nagar': 'Malviya Nagar',\n",
       " \"Malviya Nagar carpet area 100 sqyrd status Ready to Move floor 2 out of 3 floors transaction Resale furnishing Semi-Furnished facing North overlooking Garden/Park, Main Road car parking 2 Open bathroom 3 balcony 2 ownership Freehold It's a Corner three story building, located in South Delhi. Amenities like Market, Schools, Hospitals, Parks, Gyms, Study Centers, Temple are all around. Very Close to Malviya Nagar Metro and Haus Khas Metro Station. Centerlize place to live. Whether you go to Gurgaon or Noida Or to other parts of the city, commuting from here is very easy. read more Contact Owner View Phone No. Share Feedback Owner Rohit\": 'Malviya Nagar',\n",
       " 'Mandakini Enclave Project, Kalkaji': 'Kalkaji',\n",
       " 'Mangal Apartment, Vasundhara Enclave': 'Vasundhara',\n",
       " 'Mangal Apartment, Vasundhara Enclave carpet area 1600 sqft status Ready to Move floor 4 out of 7 floors transaction Resale furnishing Furnished facing South - East overlooking Garden/Park, Main Road society Mangal Apartment car parking 1 Open bathroom 3 balcony 1 ownership Freehold Fully furnished , complete marble flooring, ready to move in. Contact Owner View Phone No. Share Feedback Owner Shailendra': 'Vasundhara',\n",
       " 'Manglapuri, Sultanpur': 'Sultanpur',\n",
       " 'Mansarowar Park, Shahdara': 'Shahdara',\n",
       " 'Maujpur, Shahdara': 'Shahdara',\n",
       " 'Mayfair garden, Hauz Khas': 'Hauz Khas',\n",
       " 'Mayur Apartment, Rohini Sector 9': 'Rohini Sector',\n",
       " 'MeeraBai Apartment, Dwarka Sector 5': 'other',\n",
       " 'Mehrauli': 'Mehrauli',\n",
       " 'Mehrauli carpet area 1250 sqft status Ready to Move floor Ground out of 8 floors transaction Resale furnishing Semi-Furnished facing East overlooking Main Road car parking 1 Covered bathroom 2 balcony 3 ownership Freehold The flat located are very good condition and well developed area. The flat area are very spaciable. This flat balcony view is very best society very neat and clean. read more Contact Agent View Phone No. Share Feedback Agent Bharti Real Estate 100+ Buyers Served': 'Mehrauli',\n",
       " 'Mehrauli carpet area 1300 sqft status Ready to Move floor 2 out of 4 floors transaction New Property furnishing Semi-Furnished facing East overlooking Garden/Park, Main Road car parking 2 Covered bathroom 3 balcony 2 ownership Freehold 3 bhk flat with attached washroom, modular kitchen, IInd floor, one car and one bike parking, lift, gated society, security, cctv camera, water backup. read more Contact Agent View Phone No. Share Feedback Agent India Bhoomi': 'Mehrauli',\n",
       " 'Metrotech Builder Floors, Saket': 'Saket',\n",
       " 'Mianwali Nagar, Paschim Vihar': 'Paschim Vihar',\n",
       " 'Mitya Homes, Dwarka Mor': 'other',\n",
       " 'Mohan Garden, Razapur Khurd': 'other',\n",
       " 'Mohinder Apartments, Aashirwaad Chowk, Dwarka': 'other',\n",
       " 'Mohinder Apartments, Dwarka': 'other',\n",
       " 'Mohinder Apartments, Dwarka Sector 12': 'other',\n",
       " 'Narela': 'Narela',\n",
       " 'Narela Mandi': 'Narela',\n",
       " 'Narela Sector A1 carpet area 42 sqyrd status Ready to Move floor Ground out of 5 floors transaction Resale furnishing Unfurnished facing North - East overlooking Garden/Park, Main Road car parking 2 Open bathroom 2 balcony 2 ownership Freehold Near bawana industrial area and j.j. colony. DDA Housing property LIG FLAT very nice property for single family 200 hundreds family already living IN THIS SOCIETY and very piece full atmosphere this society 24 hour guards all facility available read more Contact Owner View Phone No. Share Feedback Owner Vivek Gupta': 'Narela',\n",
       " 'Narela Sector A5': 'Narela',\n",
       " 'Narela Sector A9': 'Narela',\n",
       " 'Narmada Apartment, Alaknanda': 'Alaknanda',\n",
       " 'Narmada Apartment, Alaknanda carpet area 1400 sqft status Ready to Move floor Ground out of 3 floors transaction Resale furnishing Furnished facing North - East overlooking Garden/Park, Main Road society Narmada Apartment car parking 1 Open bathroom 3 balcony 1 ownership Freehold Near Alaknanda Main Market & Greater Kailash Metro Station. A very good 3 bhk flat for sale in rwa Narmada Apartment, delhi south. It is a superb property and offers an excellent view. The flat is unfurnished. It promises a comfortable stay. It is feng shuivaastu compliant, which is considered to bring positive energy. The appeal of the flat has been increased with the availability of a pipedGa. Indeed, the society too has multiple facilities for enjoyment, such as club housecommunity center and fitness centregym etc. It also has rain water harvesting system. It has a super builtUp area of 180 sq. Yards. read more Contact Agent View Phone No. Share Feedback Agent Sulabh Estate': 'Greater Kailash',\n",
       " 'Nav Kairali Apartment, Dwarka Sector 3': 'other',\n",
       " 'Navbharat Apartment, Paschim Vihar Block B1': 'Paschim Vihar',\n",
       " 'Naveen Shahdara, Shahdara': 'Shahdara',\n",
       " 'Neelachal, Aashirwaad Chowk, Dwarka': 'other',\n",
       " 'Neelachal, Dwarka Sector 5': 'other',\n",
       " 'Nehru Enclave, Kalkaji': 'Kalkaji',\n",
       " 'New Delhi Apartment, Vasundhara Enclave': 'Vasundhara',\n",
       " 'New Friends Colony': 'New Friends Colony',\n",
       " 'New Friends Colony Floors, New Friends Colony': 'New Friends Colony',\n",
       " 'New Friends Colony carpet area 4300 sqft status Ready to Move floor 2 out of 3 floors transaction Resale furnishing Unfurnished facing North - East overlooking Garden/Park, Main Road car parking 2 Covered, 2 Open bathroom 4 balcony 3 ownership Freehold hurry up... dont waste time any where, It is best deal in your pocket budget.well maintained second floor with terrace garden plus 2 additional room on terrace up for sale in new friends colony.the property has 4 king sized bedroom attached bathroom with roof top shower with Jacuzzi. It has 3 big balconies with wonderful outer view. It has modular kitchen with new fittings. It has servant quarter pooja room study room store room etc. It has drawing & dining. It has 2 car parking with gated society. It has 247 hours water supply with full power backup. It is in amazing location. read more Contact Agent View Phone No. Share Feedback Crisil Silver Agent Sagar Home Developers Pvt. Ltd. 1000+ Buyers Served': 'New Friends Colony',\n",
       " 'New Jyoti Apartments, Aashirwaad Chowk, Dwarka': 'other',\n",
       " 'New Manglapuri, Sultanpur': 'Sultanpur',\n",
       " 'New Moti Nagar, Kirti Nagar': 'Kirti Nagar',\n",
       " 'New Uttam Nagar, Uttam Nagar': 'Uttam Nagar',\n",
       " 'Nilgiri Apartment, Alaknanda': 'Alaknanda',\n",
       " 'Orchid Metropolis, Hauz Khas': 'Hauz Khas',\n",
       " 'PNB Employees Apartment, Aashirwaad Chowk, Dwarka': 'other',\n",
       " 'Pal Mohan Apartments, Punjabi Bagh': 'Punjabi Bagh',\n",
       " 'Palm Green Apartment, Aashirwaad Chowk, Dwarka': 'other',\n",
       " 'Panchsheel Vihar, Sheikh Sarai': 'Sheikh Sarai',\n",
       " 'Partap Homes, Bhagwati Vihar, Uttam Nagar': 'Uttam Nagar',\n",
       " 'Paschim Vihar': 'Paschim Vihar',\n",
       " 'Paschim Vihar Block A2': 'Paschim Vihar',\n",
       " 'Paschim Vihar Block B2': 'Paschim Vihar',\n",
       " 'Paschim Vihar Block B4': 'Paschim Vihar',\n",
       " 'Paschim Vihar How Auctions work? The borrower has the physical possession of the Property. However the lender (Bank) can legally sell the Property. carpet area 780 sqft status Ready to Move floor Ground out of 3 floors transaction Resale furnishing Unfurnished facing West bathroom 2 balcony 1 ownership Freehold Contact Now Enquire Now Auction By Bank': 'Paschim Vihar',\n",
       " 'Paschim Vihar carpet area 850 sqft status Ready to Move floor 2 out of 4 floors transaction Resale furnishing Unfurnished facing North overlooking Garden/Park bathroom 3 balcony 1 ownership Freehold If you want to live a contended, pollution-free and peaceful life with your family and children, here is the once in a lifetime opportunity awaiting your attention!! Presenting a 3BHK ready to move flat up for sale in Paschim Vihar, which is becoming a dream residential area for its ability to provide a slice of authentic New Delhi city life. Property SpecificationsWell-knitted and planned on the super area of 900 sq ft is this 2bhk flat where the owner enjoys the complete rights of the freehold ownership. In a low-rise building of four-floors, this impressive infrastructure is positioned on the second floor, hence the residents can experience the greatest possible cross ventilation and natural sunlight.Though the age of construction is between 15-20 years, this north-facing flat is perfectly maintained and features 3 spacious bedrooms, 2 bathrooms, 2 airy balconies, a dining room, a living room, and a kitchen. All the bedrooms are adorned with decorative wardrobes offered with enough space for storage of clothes and other valuables.The attached toilet is designed in Indian fashion which is mounted-up with a geyser where you can enjoy a hot water bath, while the bathroom available for common use fashioned in the western genre.Further, an eye-catching view of the lush green garden is visible from the two well-aligned balconies where you can enjoy a hot cup of tea, where one balcony is connected to the bedroom, while the other balcony opens to the lobby. Bedecked with a granite countertop, a piped gas connection, and a chimney, the contemporarily designed modular kitchen is also provided with a wash area and also sufficient space for fridge.The entire flat is polished up with the good quality tiles which are easy to install and can be quite pleasant and comfortable underfoot.FacilitiesKeeping in mind the convenience of the residents, some of the basic facilities such as an unrestricted supply of water, and power backup with invertor. Additionally, one open parking space for 1 vehicle read more Contact Owner Share Feedback Owner Yogeet': 'Paschim Vihar',\n",
       " 'Paschimpuri, Paschim Vihar': 'Paschim Vihar',\n",
       " 'Patel Nagar East, Patel Nagar': 'Patel Nagar',\n",
       " 'Patel Nagar South, Patel Nagar': 'Patel Nagar',\n",
       " 'Patel Nagar West': 'Patel Nagar',\n",
       " 'Pawittra Apartment, Vasundhara Enclave': 'Vasundhara',\n",
       " 'Prasad Nagar, Karol Bagh': 'Karol Bagh',\n",
       " 'Prashant Vihar, Rohini': 'other',\n",
       " 'Prayag Apartments, Vasundhara Enclave carpet area 900 sqft status Ready to Move floor 2 out of 4 floors transaction Resale furnishing Semi-Furnished overlooking Garden/Park, Main Road society Prayag Apartments car parking 1 Open bathroom 2 balcony 2 ownership Freehold This is 2 BHK apartment , with 2 Bathroom and one parking.This is East facing Flat.Near Metro Station is Ashok Nagar read more Contact Owner View Phone No. Share Feedback Owner Sameer Kumar': 'Vasundhara',\n",
       " 'Press Enclave Society, Saket': 'Saket',\n",
       " 'Project Commonwealth Games Village 2010, Akshardham Temple': 'Commonwealth Games Village',\n",
       " 'Project Commonwealth Games Village 2010, Commonwealth Games Village 2010': 'Commonwealth Games Village',\n",
       " 'Project Gangotri Enclave, Alaknanda': 'Alaknanda',\n",
       " 'Project Gangotri Enclave, Gangotri Enclave, Alaknanda': 'Alaknanda',\n",
       " 'Project Paryavaran Complex, Saket': 'Saket',\n",
       " 'Punjabi Bagh': 'Punjabi Bagh',\n",
       " 'Punjabi Bagh East': 'Punjabi Bagh',\n",
       " 'Punjabi Bagh Enclave, Madipur, Punjabi Bagh': 'Punjabi Bagh',\n",
       " 'Punjabi Bagh Enclave, Punjabi Bagh': 'Punjabi Bagh',\n",
       " 'Punjabi Bagh Enclave, Punjabi Bagh West': 'Punjabi Bagh',\n",
       " 'Punjabi Bagh Enclave, Shivaji Park, Punjabi Bagh': 'Punjabi Bagh',\n",
       " 'Punjabi Bagh Extension, Punjabi Bagh': 'Punjabi Bagh',\n",
       " 'Punjabi Bagh West': 'Punjabi Bagh',\n",
       " 'Punjabi Basti, Patel Nagar': 'Patel Nagar',\n",
       " 'Pushkar Enclave, Paschim Vihar': 'Paschim Vihar',\n",
       " 'Pushpanjali Apartments, Aashirwaad Chowk, Dwarka': 'other',\n",
       " 'RWA Flats, Saket': 'Saket',\n",
       " 'Raghubarpura, Shahdara': 'Shahdara',\n",
       " 'Rajasthan Apartment, Aashirwaad Chowk, Dwarka': 'other',\n",
       " 'Rajgarh Colony, Shahdara': 'Shahdara',\n",
       " 'Ram Nagar Extension, Shahdara': 'Shahdara',\n",
       " 'Ram Nagar, Shahdara': 'Shahdara',\n",
       " 'Reserve Bank Enclave, Paschim Vihar': 'Paschim Vihar',\n",
       " 'Rishi Apartment, Kalkaji': 'Kalkaji',\n",
       " 'Rohini ( 1 km from Shahbad Dairy, Rohini)': 'other',\n",
       " 'Rohini Sector 14': 'Rohini Sector',\n",
       " 'Rohini Sector 16': 'Rohini Sector',\n",
       " 'Rohini Sector 18 carpet area 40 sqm status Ready to Move floor 2 out of 4 floors transaction Resale furnishing Furnished facing East overlooking Main Road car parking 2 Open bathroom 1 balcony 1 ownership Freehold East Facing Property It an LIG three side corner flat in second floor, having full scope of expansion. interior decorated with 2 textured wall , kajaria tiles , fully modular kitchen, branded bathroom and toilet fittings, LED panel, ac in one bedroom, false ceiling in entire flat.south facing unobstructed view balcony. It was all renovated only 2.5 yrs back so every thing is in brand new condition. read more Contact Owner View Phone No. Share Feedback Owner Pramod': 'Rohini Sector',\n",
       " 'Rohini Sector 19': 'Rohini Sector',\n",
       " 'Rohini Sector 20': 'Rohini Sector',\n",
       " 'Rohini Sector 21': 'Rohini Sector',\n",
       " 'Rohini Sector 22': 'Rohini Sector',\n",
       " 'Rohini Sector 23': 'Rohini Sector',\n",
       " 'Rohini Sector 24': 'Rohini Sector',\n",
       " 'Rohini Sector 24 carpet area 650 sqft status Ready to Move floor 4 out of 4 floors transaction New Property furnishing Semi-Furnished facing East overlooking Garden/Park, Main Road car parking 1 Open bathroom 2 balcony 1 ownership Freehold Newly Constructed Property Newly Constructed Property East Facing Property 2BHK Newly build property for Sale. A House is waiting for a Friendly Family to make it a lovely home.So please come and make his house feel alive once again. read more Contact Agent View Phone No. Share Feedback Garima properties Certified Agent Trusted by Users Genuine Listings Market Knowledge': 'Rohini Sector',\n",
       " 'Rohini Sector 25': 'Rohini Sector',\n",
       " 'Rohini Sector 25 carpet area 660 sqft status Ready to Move floor 2 out of 4 floors transaction New Property furnishing Semi-Furnished facing North overlooking Garden/Park, Main Road car parking 1 Open bathroom 2 balcony 1 ownership Freehold Newly Constructed Property Newly Constructed Property Near by Ryan international school 2BHK Located on the Ground Floor of a four story building with open parking the flat measure 720 Sq Ft the property is located in a green and plush sector with common parks opposite every lane and bus and auto stand nearby. its situated 1.5 km from the metro station and walkable distance from shopping distance from shopping complex. read more Contact Agent View Phone No. Share Feedback Know your Certified Agent CRISIL Rating No of Employees 9 Kulwant & Company Certified Agent Trusted by Users Genuine Listings 5500+ Buyers Served': 'Rohini Sector',\n",
       " 'Rohini Sector 5': 'Rohini Sector',\n",
       " 'Rohini Sector 8 How Auctions work? The borrower has the physical possession of the Property. However the lender (Bank) can legally sell the Property. super area 32 sqm status Ready to Move floor 1 transaction Resale furnishing Semi-Furnished Contact Now Enquire Now Auction By': 'Rohini Sector',\n",
       " 'Rohitash Nagar East, Shahdara': 'Shahdara',\n",
       " 'Rohtash Nagar, Shahdara': 'Shahdara',\n",
       " 'SB Residency, Dwarka Mor': 'other',\n",
       " 'Sadbhawna CGHS, Aashirwaad Chowk, Dwarka': 'other',\n",
       " 'Safdarjung Development Area, Hauz Khas': 'Safdarjung',\n",
       " 'Safdarjung Enclave': 'Safdarjung',\n",
       " \"Safdarjung Enclave carpet area 1100 sqft status Ready to Move floor Ground out of 4 floors transaction Resale furnishing Unfurnished facing North - East overlooking Garden/Park, Main Road car parking 1 Covered, 1 Open bathroom 3 balcony 3 ownership Freehold if you are searching for your dream house, congratulation. you're not so far from your destiny. we got unbeatable ground floor in b-block safdarjung enclave for sale. it is in 150 yds. It has 3 large king sized bedroom attached bathroom with Jacuzzi and roof top shower with all other fittings. it has modular kitchen with all needed facility. it has 3 big balcony with amazing out side view. it has 1 servant quarter also. it has 1 reserved car parking with gated society. It has 24*7 water supply with full power backup. for more information contact us at once because it can be your dream house. read more Contact Agent View Phone No. Share Feedback Crisil Silver Agent Sagar Home Developers Pvt. Ltd. 1000+ Buyers Served\": 'Safdarjung',\n",
       " 'Safdarjung Enclave carpet area 1450 sqft status Ready to Move floor 3 out of 4 floors transaction Resale furnishing Semi-Furnished facing North - East overlooking Garden/Park, Main Road car parking 1 Covered, 1 Open bathroom 3 balcony 2 ownership Freehold Park facing builder floor apartment available for sale in safderjung enclave, 3 bedroom with attached bathroom, drawing dinning, modular kitchen. the property is on the top floor of a four storey building with terrace right, servant quarter, 1 car parking in stilt. read more Contact Agent View Phone No. Share Feedback Agent Delhi Homes Realty 1000+ Buyers Served': 'Safdarjung',\n",
       " 'Safdarjung Enclave carpet area 290 sqyrd status Ready to Move floor 2 out of 3 floors transaction Resale furnishing Semi-Furnished facing West overlooking Main Road car parking 2 Open bathroom 4 balcony 3 ownership Freehold Opposite Deer Park.The property comes with independent Terrace. The area is centrally located and close to ring road which allows easy acess to all other areas.Renowned Delhi Lawn Tennis Association is within 10 minutes walking distance.Green park market is walkable distance. read more Contact Owner View Phone No. Share Feedback Owner Hemant pajankar': 'Safdarjung',\n",
       " 'Safdarjung Enclave carpet area 3250 sqft status Ready to Move floor 1 out of 4 floors transaction Resale furnishing Semi-Furnished facing North - East overlooking Garden/Park, Main Road car parking 1 Covered bathroom 4 balcony 3 ownership Freehold Near Buy Green park Metro station. The location of the property is Awesome and Peaceful. The construction is very Highend and Very tasteful Done-up. The Same property is location on the FF. 4 Side corner read more Contact Agent Enquire Now Share Feedback Crisil Silver Agent Findahouse Real Estate Consultants LLP 2000+ Buyers Served': 'Safdarjung',\n",
       " 'Safdarjung Enclave super area 2200 sqft status Ready to Move floor 2 out of 4 floors transaction New Property furnishing Semi-Furnished facing South overlooking Main Road car parking 3 Covered, 2 Open bathroom 4 balcony 3 ownership Freehold Newly Constructed Property Wide Road 450 Yards 2nd floor brand new 4 bhk attached bathrooms with full lighted and ventilated house.Most Valuable DealSEE TO BELIEVE read more Contact Agent View Phone No. Share Feedback Crisil Bronze Agent Panchsheel Homes 500+ Buyers Served': 'Safdarjung',\n",
       " 'Saheta Apartment, Aashirwaad Chowk, Dwarka': 'other',\n",
       " 'Saket': 'Saket',\n",
       " 'Saket Court Residential Complex, Saket': 'Saket',\n",
       " 'Samrat Apartment, Vasundhara Enclave': 'Vasundhara',\n",
       " 'Sanchar Vihar Apartment, Aashirwaad Chowk, Dwarka': 'other',\n",
       " 'Sanskriti Apartment, Rohini Sector 28': 'Rohini Sector',\n",
       " 'Saptrishi Apartment, Rohini Sector 23': 'Rohini Sector',\n",
       " 'Saraswati Narmada Ganga Yamuna Apartment, Vasant Kunj Sector D': 'Vasant Kunj',\n",
       " 'Sarita Vihar Pocket B': 'Sarita Vihar',\n",
       " 'Sarita Vihar Pocket F': 'Sarita Vihar',\n",
       " 'Sarita Vihar, Mathura Road carpet area 1500 sqft status Ready to Move floor 2 out of 4 floors transaction Resale ownership Freehold overlooking Main Road car parking 1 Open bathroom 2 balcony 2 furnishing Unfurnished For sale second third duplex .spacious 3 bedrooms with 2 washrooms drawing and dining and moduler kitchen one scooter garrage. read more Contact Agent View Phone No. Share Feedback Shree Balaji Real Estate Pvt. Ltd. Has Maximum Property Options Is the Top Agent of the Locality Is Trusted by All Users 21 Property Options in Sarita Vihar, Mathura Road Shree Balaji Real Estate Pvt. Ltd. Certified Agent Locality Superstar Maximum options in Sarita Vihar, Mathura Road': 'Sarita Vihar',\n",
       " 'Sarva Priya Apartment, Hauz Khas': 'Hauz Khas',\n",
       " 'Sarva Priya Apartment, Hauz Khas carpet area 1700 sqft status Ready to Move floor 1 out of 7 floors transaction Resale furnishing Semi-Furnished facing North - East overlooking Garden/Park society Sarva Priya Apartment car parking 1 Covered, 1 Open bathroom 3 balcony 2 ownership Freehold desperarte sale ,its clear tile, proper cross ventilation ,proper an matter for one week ,crystle sunlight found, and air,ICIC BANK LOAN APPROVAL, good to see , have lucky chance to get such a reraly rare property read more Contact Agent View Phone No. Share Feedback Agent New Capital Properties 1000+ Buyers Served': 'Hauz Khas',\n",
       " 'Sarve Satyam Apartment, Aashirwaad Chowk, Dwarka': 'other',\n",
       " 'Satyam Apartment, Vasundhara Enclave': 'Vasundhara',\n",
       " 'Savitri Nagar Village, Sheikh Sarai': 'Sheikh Sarai',\n",
       " 'Seelampur, Shahdara': 'Shahdara',\n",
       " 'Shahdara': 'Shahdara',\n",
       " 'Shahdara How Auctions work? The borrower has the physical possession of the Property. However the lender (Bank) can legally sell the Property. super area 852 sqft status Ready to Move transaction Resale ownership Freehold bathroom 2 Contact Now Enquire Now Auction By': 'Shahdara',\n",
       " 'Shanti Mohalla, Shahdara': 'Shahdara',\n",
       " 'Shantidoot Apartment, Vasundhara Enclave': 'Vasundhara',\n",
       " 'Shastri Park, Shahdara': 'Shahdara',\n",
       " 'Sheikh Sarai': 'Sheikh Sarai',\n",
       " 'Sheikh Sarai Phase 1': 'Sheikh Sarai',\n",
       " 'Sheikh Sarai Phase 2': 'Sheikh Sarai',\n",
       " 'Shivalik Apartments, Alaknanda': 'Alaknanda',\n",
       " 'Shivalik, Malviya Nagar': 'Malviya Nagar',\n",
       " 'Shivnam Apartment, Shahdara': 'Shahdara',\n",
       " 'Shri Agrasen Apartment, Dwarka Sector 7': 'other',\n",
       " 'Shubh Niketan, Paschim Vihar': 'Paschim Vihar',\n",
       " 'Siddhartha Heights, Dwarka Sector 24': 'other',\n",
       " 'Sidharth Enclave, Kilokri, Ring Road': 'other',\n",
       " 'Sitaram Bazar, Chandni Chowk': 'other',\n",
       " 'Sukhdev Vihar, Okhla': 'Okhla',\n",
       " 'Sultanpur': 'Sultanpur',\n",
       " 'Sultanpur Extension': 'Sultanpur',\n",
       " 'Sultanpur carpet area 1100 sqft status Ready to Move floor 1 out of 4 floors transaction Resale furnishing Semi-Furnished overlooking Main Road car parking 1 Covered bathroom 2 balcony 2 ownership Freehold 2 bhk flat available in sultanpur, near metro station, loan facility available, with registry, all the modern facilities are variable, with car parking, near market, fully ventilated. read more Contact Agent View Phone No. Share Feedback Agent Delhi Dream 3500+ Buyers Served': 'Sultanpur',\n",
       " 'Sunder Apartments, Sunder Vihar, Paschim Vihar': 'Paschim Vihar',\n",
       " 'Sunny Valley Apartments, Dwarka': 'other',\n",
       " 'Taimoor Enclave, New Friends Colony carpet area 2800 sqft status Ready to Move floor 2 out of 3 floors transaction Resale furnishing Semi-Furnished facing East overlooking Garden/Park society Taimoor Enclave car parking 2 Covered, 1 Open bathroom 4 balcony 2 ownership Freehold Two floor of the house is available for sale SECOND AND THIRD FLOOR EXTRA made, provision for LIFT can be provided by the OWNER .DDA FLATS of TAIMOOR ENCLAVE, NEAR GURUDWARA, NEW FRIENDS COLONY, SOUTH DELHI , HOUSE IS ON THE SECOND FLOOR have 3 bed room and 2 wash room and and same on the Third Floor, URGENT SALE, BROKER EXCUSE. read more Contact Agent View Phone No. Share Feedback Agent Delhi Homes 100+ Buyers Served': 'New Friends Colony',\n",
       " 'Taj Enclave, Khairatabad': 'other',\n",
       " 'Tara Apartment, Alaknanda': 'Alaknanda',\n",
       " 'Tara Apartment, Alaknanda carpet area 1400 sqft status Ready to Move floor 2 out of 3 floors transaction Resale furnishing Furnished facing North - East overlooking Garden/Park society Tara Apartment car parking 1 Covered, 1 Open bathroom 3 balcony 4 ownership Freehold Near Alaknanda Main Market, Jamia Humderd University & Batra hospital. A very good 3 bhk flat for sale in rwa Tara Apartment, delhi south. It is a superb property and offers an excellent view. The flat is unfurnished. It promises a comfortable stay. It is feng shuivaastu compliant, which is considered to bring positive energy. The appeal of the flat has been increased with the availability of a pipedGa. Indeed, the society too has multiple facilities for enjoyment, such as club housecommunity center and fitness centregym etc. It also has rain water harvesting system. It has a super builtUp area of 180 sq. Yards. Other f read more Contact Agent View Phone No. Share Feedback Agent Sulabh Estate': 'Alaknanda',\n",
       " 'The Amaryllis, Karol Bagh': 'Karol Bagh',\n",
       " 'The Elite Spire, Dwarka Sector 21': 'other',\n",
       " 'The Leela Sky Villas, Patel Nagar': 'Patel Nagar',\n",
       " 'Uttam Nagar': 'Uttam Nagar',\n",
       " 'Uttam Nagar Floors, Uttam Nagar': 'Uttam Nagar',\n",
       " 'Uttam Nagar West': 'Uttam Nagar',\n",
       " 'Uttam Nagar carpet area 550 sqft status Ready to Move transaction New Property furnishing Semi-Furnished facing East overlooking Main Road bathroom 2 balcony 1 ownership Freehold Newly Constructed Property Newly Constructed Property East Facing Property 2bhk fully furnished flats available for sale at uttam nagar, the flat is fully loaded, one singal wall texture in all bedrooms, modular kitchen, LED pannel in drawing room, wardrobes in bedroom read more Contact Agent View Phone No. Share Feedback Pranita Developers Pvt. Ltd. Certified Agent Trusted by Users Genuine Listings 100+ Buyers Served': 'Uttam Nagar',\n",
       " 'Vasant Kunj': 'Vasant Kunj',\n",
       " 'Vasant Kunj Sector A': 'Vasant Kunj',\n",
       " 'Vasant Kunj Sector B': 'Vasant Kunj',\n",
       " 'Vasant Kunj Sector C': 'Vasant Kunj',\n",
       " 'Vasant Kunj Sector D': 'Vasant Kunj',\n",
       " 'Vasant Vihar Builder Floor, Vasant Vihar': 'other',\n",
       " 'Vasundhara Enclave': 'Vasundhara',\n",
       " 'Vijay Enclave, Mahavir Enclave': 'Mahavir',\n",
       " 'Vijay Vihar, Rohini': 'other',\n",
       " 'Vikram Vihar, Lajpat Nagar': 'Lajpat Nagar',\n",
       " 'Vinoba Puri, Lajpat Nagar': 'Lajpat Nagar',\n",
       " 'Virat Residency, Dwarka Mor': 'other',\n",
       " 'Vishwas Nagar, Shahdara': 'Shahdara',\n",
       " 'Yamuna Apartment, Alaknanda': 'Alaknanda',\n",
       " 'Yamuna Vihar, Shahdara': 'Shahdara',\n",
       " 'Zakir Nagar, New Friends Colony': 'New Friends Colony',\n",
       " 'mind. The space is airy, is well located and can be easily customized as per the needs. Prime facilities are easily accessible from this place with Government Girls Senior Secondary School No 2 (0 km ). Other key neighbourhood are B Block Market (0 km ). read more Contact Owner View Phone No. Share Feedback Owner vinod kumar': 'other'}"
      ]
     },
     "execution_count": 59,
     "metadata": {},
     "output_type": "execute_result"
    }
   ],
   "source": [
    "dictionary = df_location.new_cat.to_dict()\n",
    "dictionary"
   ]
  },
  {
   "cell_type": "code",
   "execution_count": 60,
   "id": "instructional-collector",
   "metadata": {},
   "outputs": [],
   "source": [
    "data_new['Locality_encode']= data['Locality'].map(dictionary)"
   ]
  },
  {
   "cell_type": "code",
   "execution_count": 61,
   "id": "hybrid-sodium",
   "metadata": {},
   "outputs": [
    {
     "data": {
      "text/plain": [
       "(1259, 13)"
      ]
     },
     "execution_count": 61,
     "metadata": {},
     "output_type": "execute_result"
    }
   ],
   "source": [
    "data_new.shape"
   ]
  },
  {
   "cell_type": "code",
   "execution_count": 62,
   "id": "limited-giving",
   "metadata": {},
   "outputs": [
    {
     "data": {
      "text/plain": [
       "Index(['Area', 'BHK', 'Locality', 'Price', 'Bathroom_median', 'Parking_median',\n",
       "       'Per_Sqft_median', 'Status_Ready_to_move', 'Transaction_Resale',\n",
       "       'Type_freq_Builder_Floor', 'Furnishing_freq_Semi-Furnished',\n",
       "       'Furnishing_freq_Unfurnished', 'Locality_encode'],\n",
       "      dtype='object')"
      ]
     },
     "execution_count": 62,
     "metadata": {},
     "output_type": "execute_result"
    }
   ],
   "source": [
    "data_new.columns"
   ]
  },
  {
   "cell_type": "code",
   "execution_count": 63,
   "id": "diagnostic-curtis",
   "metadata": {},
   "outputs": [
    {
     "data": {
      "text/html": [
       "<div>\n",
       "<style scoped>\n",
       "    .dataframe tbody tr th:only-of-type {\n",
       "        vertical-align: middle;\n",
       "    }\n",
       "\n",
       "    .dataframe tbody tr th {\n",
       "        vertical-align: top;\n",
       "    }\n",
       "\n",
       "    .dataframe thead th {\n",
       "        text-align: right;\n",
       "    }\n",
       "</style>\n",
       "<table border=\"1\" class=\"dataframe\">\n",
       "  <thead>\n",
       "    <tr style=\"text-align: right;\">\n",
       "      <th></th>\n",
       "      <th>Locality</th>\n",
       "      <th>Locality_encode</th>\n",
       "    </tr>\n",
       "  </thead>\n",
       "  <tbody>\n",
       "    <tr>\n",
       "      <th>0</th>\n",
       "      <td>Rohini Sector 25</td>\n",
       "      <td>Rohini Sector</td>\n",
       "    </tr>\n",
       "    <tr>\n",
       "      <th>1</th>\n",
       "      <td>J R Designers Floors, Rohini Sector 24</td>\n",
       "      <td>Rohini Sector</td>\n",
       "    </tr>\n",
       "    <tr>\n",
       "      <th>2</th>\n",
       "      <td>Citizen Apartment, Rohini Sector 13</td>\n",
       "      <td>Rohini Sector</td>\n",
       "    </tr>\n",
       "    <tr>\n",
       "      <th>3</th>\n",
       "      <td>Rohini Sector 24</td>\n",
       "      <td>Rohini Sector</td>\n",
       "    </tr>\n",
       "    <tr>\n",
       "      <th>4</th>\n",
       "      <td>Rohini Sector 24 carpet area 650 sqft status R...</td>\n",
       "      <td>Rohini Sector</td>\n",
       "    </tr>\n",
       "    <tr>\n",
       "      <th>...</th>\n",
       "      <td>...</td>\n",
       "      <td>...</td>\n",
       "    </tr>\n",
       "    <tr>\n",
       "      <th>1254</th>\n",
       "      <td>Chittaranjan Park</td>\n",
       "      <td>Chittaranjan Park</td>\n",
       "    </tr>\n",
       "    <tr>\n",
       "      <th>1255</th>\n",
       "      <td>Chittaranjan Park</td>\n",
       "      <td>Chittaranjan Park</td>\n",
       "    </tr>\n",
       "    <tr>\n",
       "      <th>1256</th>\n",
       "      <td>Chittaranjan Park</td>\n",
       "      <td>Chittaranjan Park</td>\n",
       "    </tr>\n",
       "    <tr>\n",
       "      <th>1257</th>\n",
       "      <td>Chittaranjan Park Block A</td>\n",
       "      <td>Chittaranjan Park</td>\n",
       "    </tr>\n",
       "    <tr>\n",
       "      <th>1258</th>\n",
       "      <td>Chittaranjan Park</td>\n",
       "      <td>Chittaranjan Park</td>\n",
       "    </tr>\n",
       "  </tbody>\n",
       "</table>\n",
       "<p>1259 rows × 2 columns</p>\n",
       "</div>"
      ],
      "text/plain": [
       "                                               Locality    Locality_encode\n",
       "0                                      Rohini Sector 25      Rohini Sector\n",
       "1                J R Designers Floors, Rohini Sector 24      Rohini Sector\n",
       "2                   Citizen Apartment, Rohini Sector 13      Rohini Sector\n",
       "3                                      Rohini Sector 24      Rohini Sector\n",
       "4     Rohini Sector 24 carpet area 650 sqft status R...      Rohini Sector\n",
       "...                                                 ...                ...\n",
       "1254                                  Chittaranjan Park  Chittaranjan Park\n",
       "1255                                  Chittaranjan Park  Chittaranjan Park\n",
       "1256                                  Chittaranjan Park  Chittaranjan Park\n",
       "1257                          Chittaranjan Park Block A  Chittaranjan Park\n",
       "1258                                  Chittaranjan Park  Chittaranjan Park\n",
       "\n",
       "[1259 rows x 2 columns]"
      ]
     },
     "execution_count": 63,
     "metadata": {},
     "output_type": "execute_result"
    }
   ],
   "source": [
    "data_new[['Locality','Locality_encode']]"
   ]
  },
  {
   "cell_type": "code",
   "execution_count": 64,
   "id": "eastern-turkey",
   "metadata": {},
   "outputs": [
    {
     "data": {
      "text/plain": [
       "array(['Rohini Sector', 'other', 'Lajpat Nagar', 'Budh Vihar',\n",
       "       'Patel Nagar', 'Uttam Nagar', 'Greater Kailash', 'Okhla',\n",
       "       'Karol Bagh', 'Vasant Kunj', 'New Friends Colony', 'Shahdara',\n",
       "       'Laxmi Nagar', 'Saket', 'Safdarjung', 'Paschim Vihar',\n",
       "       'Commonwealth Games Village', 'Alaknanda', 'Sarita Vihar',\n",
       "       'Sultanpur', 'Chhattarpur', 'Mehrauli', 'Mahavir', 'Narela',\n",
       "       'Malviya Nagar', 'Dilshad Garden', 'Vasundhara', 'Kirti Nagar',\n",
       "       'Sheikh Sarai', 'Punjabi Bagh', 'Kalkaji', 'Hauz Khas',\n",
       "       'Chittaranjan Park'], dtype=object)"
      ]
     },
     "execution_count": 64,
     "metadata": {},
     "output_type": "execute_result"
    }
   ],
   "source": [
    "data_new.Locality_encode.unique()"
   ]
  },
  {
   "cell_type": "code",
   "execution_count": 65,
   "id": "endless-trash",
   "metadata": {},
   "outputs": [],
   "source": [
    "data_new.drop(columns=['Locality'],inplace=True)"
   ]
  },
  {
   "cell_type": "markdown",
   "id": "knowing-queen",
   "metadata": {},
   "source": [
    "#### After handling similar values we want to encode them \n",
    "#### for this we use Mean Encoding (replacing each catagory with its mean Price)"
   ]
  },
  {
   "cell_type": "code",
   "execution_count": 66,
   "id": "informal-bidder",
   "metadata": {},
   "outputs": [
    {
     "data": {
      "text/plain": [
       "Locality_encode\n",
       "Alaknanda                     18007143.0\n",
       "Budh Vihar                     3825000.0\n",
       "Chhattarpur                    8783000.0\n",
       "Chittaranjan Park             26335714.0\n",
       "Commonwealth Games Village    45646667.0\n",
       "Dilshad Garden                 7226000.0\n",
       "Greater Kailash               50513636.0\n",
       "Hauz Khas                     73134615.0\n",
       "Kalkaji                       13361290.0\n",
       "Karol Bagh                    21173125.0\n",
       "Kirti Nagar                   24520000.0\n",
       "Lajpat Nagar                  27556778.0\n",
       "Laxmi Nagar                    5966176.0\n",
       "Mahavir                        4108000.0\n",
       "Malviya Nagar                 33150000.0\n",
       "Mehrauli                       4736667.0\n",
       "Narela                         2429667.0\n",
       "New Friends Colony            72709677.0\n",
       "Okhla                         20601471.0\n",
       "Paschim Vihar                 15759000.0\n",
       "Patel Nagar                   35876389.0\n",
       "Punjabi Bagh                  33103333.0\n",
       "Rohini Sector                  8895972.0\n",
       "Safdarjung                    42411765.0\n",
       "Saket                         34876667.0\n",
       "Sarita Vihar                  14507143.0\n",
       "Shahdara                      11036267.0\n",
       "Sheikh Sarai                  13056667.0\n",
       "Sultanpur                      5711111.0\n",
       "Uttam Nagar                    3472692.0\n",
       "Vasant Kunj                   20433333.0\n",
       "Vasundhara                    11105000.0\n",
       "other                         12942544.0\n",
       "Name: Price, dtype: float64"
      ]
     },
     "execution_count": 66,
     "metadata": {},
     "output_type": "execute_result"
    }
   ],
   "source": [
    "round(data_new.groupby(data_new['Locality_encode'])['Price'].mean())"
   ]
  },
  {
   "cell_type": "code",
   "execution_count": 67,
   "id": "dried-possession",
   "metadata": {},
   "outputs": [
    {
     "data": {
      "text/plain": [
       "{'Alaknanda': 18007143.0,\n",
       " 'Budh Vihar': 3825000.0,\n",
       " 'Chhattarpur': 8783000.0,\n",
       " 'Chittaranjan Park': 26335714.0,\n",
       " 'Commonwealth Games Village': 45646667.0,\n",
       " 'Dilshad Garden': 7226000.0,\n",
       " 'Greater Kailash': 50513636.0,\n",
       " 'Hauz Khas': 73134615.0,\n",
       " 'Kalkaji': 13361290.0,\n",
       " 'Karol Bagh': 21173125.0,\n",
       " 'Kirti Nagar': 24520000.0,\n",
       " 'Lajpat Nagar': 27556778.0,\n",
       " 'Laxmi Nagar': 5966176.0,\n",
       " 'Mahavir': 4108000.0,\n",
       " 'Malviya Nagar': 33150000.0,\n",
       " 'Mehrauli': 4736667.0,\n",
       " 'Narela': 2429667.0,\n",
       " 'New Friends Colony': 72709677.0,\n",
       " 'Okhla': 20601471.0,\n",
       " 'Paschim Vihar': 15759000.0,\n",
       " 'Patel Nagar': 35876389.0,\n",
       " 'Punjabi Bagh': 33103333.0,\n",
       " 'Rohini Sector': 8895972.0,\n",
       " 'Safdarjung': 42411765.0,\n",
       " 'Saket': 34876667.0,\n",
       " 'Sarita Vihar': 14507143.0,\n",
       " 'Shahdara': 11036267.0,\n",
       " 'Sheikh Sarai': 13056667.0,\n",
       " 'Sultanpur': 5711111.0,\n",
       " 'Uttam Nagar': 3472692.0,\n",
       " 'Vasant Kunj': 20433333.0,\n",
       " 'Vasundhara': 11105000.0,\n",
       " 'other': 12942544.0}"
      ]
     },
     "execution_count": 67,
     "metadata": {},
     "output_type": "execute_result"
    }
   ],
   "source": [
    "loc_weights = round(data_new.groupby(data_new['Locality_encode'])['Price'].mean()).to_dict()\n",
    "loc_weights"
   ]
  },
  {
   "cell_type": "code",
   "execution_count": 68,
   "id": "premium-given",
   "metadata": {},
   "outputs": [],
   "source": [
    "data_new['Locality_encoder'] = data_new['Locality_encode'].map(loc_weights)"
   ]
  },
  {
   "cell_type": "code",
   "execution_count": 69,
   "id": "casual-medicare",
   "metadata": {},
   "outputs": [
    {
     "data": {
      "text/html": [
       "<div>\n",
       "<style scoped>\n",
       "    .dataframe tbody tr th:only-of-type {\n",
       "        vertical-align: middle;\n",
       "    }\n",
       "\n",
       "    .dataframe tbody tr th {\n",
       "        vertical-align: top;\n",
       "    }\n",
       "\n",
       "    .dataframe thead th {\n",
       "        text-align: right;\n",
       "    }\n",
       "</style>\n",
       "<table border=\"1\" class=\"dataframe\">\n",
       "  <thead>\n",
       "    <tr style=\"text-align: right;\">\n",
       "      <th></th>\n",
       "      <th>Locality_encoder</th>\n",
       "      <th>Locality_encode</th>\n",
       "    </tr>\n",
       "  </thead>\n",
       "  <tbody>\n",
       "    <tr>\n",
       "      <th>0</th>\n",
       "      <td>8895972.0</td>\n",
       "      <td>Rohini Sector</td>\n",
       "    </tr>\n",
       "    <tr>\n",
       "      <th>1</th>\n",
       "      <td>8895972.0</td>\n",
       "      <td>Rohini Sector</td>\n",
       "    </tr>\n",
       "    <tr>\n",
       "      <th>2</th>\n",
       "      <td>8895972.0</td>\n",
       "      <td>Rohini Sector</td>\n",
       "    </tr>\n",
       "    <tr>\n",
       "      <th>3</th>\n",
       "      <td>8895972.0</td>\n",
       "      <td>Rohini Sector</td>\n",
       "    </tr>\n",
       "    <tr>\n",
       "      <th>4</th>\n",
       "      <td>8895972.0</td>\n",
       "      <td>Rohini Sector</td>\n",
       "    </tr>\n",
       "    <tr>\n",
       "      <th>...</th>\n",
       "      <td>...</td>\n",
       "      <td>...</td>\n",
       "    </tr>\n",
       "    <tr>\n",
       "      <th>1254</th>\n",
       "      <td>26335714.0</td>\n",
       "      <td>Chittaranjan Park</td>\n",
       "    </tr>\n",
       "    <tr>\n",
       "      <th>1255</th>\n",
       "      <td>26335714.0</td>\n",
       "      <td>Chittaranjan Park</td>\n",
       "    </tr>\n",
       "    <tr>\n",
       "      <th>1256</th>\n",
       "      <td>26335714.0</td>\n",
       "      <td>Chittaranjan Park</td>\n",
       "    </tr>\n",
       "    <tr>\n",
       "      <th>1257</th>\n",
       "      <td>26335714.0</td>\n",
       "      <td>Chittaranjan Park</td>\n",
       "    </tr>\n",
       "    <tr>\n",
       "      <th>1258</th>\n",
       "      <td>26335714.0</td>\n",
       "      <td>Chittaranjan Park</td>\n",
       "    </tr>\n",
       "  </tbody>\n",
       "</table>\n",
       "<p>1259 rows × 2 columns</p>\n",
       "</div>"
      ],
      "text/plain": [
       "      Locality_encoder    Locality_encode\n",
       "0            8895972.0      Rohini Sector\n",
       "1            8895972.0      Rohini Sector\n",
       "2            8895972.0      Rohini Sector\n",
       "3            8895972.0      Rohini Sector\n",
       "4            8895972.0      Rohini Sector\n",
       "...                ...                ...\n",
       "1254        26335714.0  Chittaranjan Park\n",
       "1255        26335714.0  Chittaranjan Park\n",
       "1256        26335714.0  Chittaranjan Park\n",
       "1257        26335714.0  Chittaranjan Park\n",
       "1258        26335714.0  Chittaranjan Park\n",
       "\n",
       "[1259 rows x 2 columns]"
      ]
     },
     "execution_count": 69,
     "metadata": {},
     "output_type": "execute_result"
    }
   ],
   "source": [
    "data_new[['Locality_encoder','Locality_encode']]"
   ]
  },
  {
   "cell_type": "code",
   "execution_count": 70,
   "id": "collaborative-latex",
   "metadata": {},
   "outputs": [],
   "source": [
    "data_new.drop('Locality_encode',axis=1,inplace = True)"
   ]
  },
  {
   "cell_type": "code",
   "execution_count": 71,
   "id": "antique-pierre",
   "metadata": {},
   "outputs": [],
   "source": [
    "# we want this data for deployment purpose\n",
    "\n",
    "data_new.to_csv('dataset.csv',index=False)"
   ]
  },
  {
   "cell_type": "markdown",
   "id": "pharmaceutical-ending",
   "metadata": {},
   "source": [
    "## Feature selection"
   ]
  },
  {
   "cell_type": "markdown",
   "id": "animated-functionality",
   "metadata": {},
   "source": [
    "#### Feature Importance"
   ]
  },
  {
   "cell_type": "code",
   "execution_count": 72,
   "id": "indian-visitor",
   "metadata": {},
   "outputs": [],
   "source": [
    "# splitting data in dependent(target) and independent feature\n",
    "\n",
    "X = data_new.drop(axis=1, columns=['Price'])\n",
    "y = data_new['Price']"
   ]
  },
  {
   "cell_type": "code",
   "execution_count": 73,
   "id": "secondary-plymouth",
   "metadata": {},
   "outputs": [
    {
     "data": {
      "text/plain": [
       "(1259, 11)"
      ]
     },
     "execution_count": 73,
     "metadata": {},
     "output_type": "execute_result"
    }
   ],
   "source": [
    "X.shape"
   ]
  },
  {
   "cell_type": "code",
   "execution_count": 74,
   "id": "opened-worcester",
   "metadata": {},
   "outputs": [
    {
     "data": {
      "text/plain": [
       "ExtraTreesRegressor()"
      ]
     },
     "execution_count": 74,
     "metadata": {},
     "output_type": "execute_result"
    }
   ],
   "source": [
    "from sklearn.ensemble import ExtraTreesRegressor\n",
    "\n",
    "model = ExtraTreesRegressor()\n",
    "model.fit(X, y)"
   ]
  },
  {
   "cell_type": "code",
   "execution_count": 75,
   "id": "moving-distinction",
   "metadata": {},
   "outputs": [
    {
     "data": {
      "text/plain": [
       "array([0.23678361, 0.10592996, 0.32686109, 0.02906706, 0.03160411,\n",
       "       0.01799526, 0.0317422 , 0.01249433, 0.00849961, 0.0061204 ,\n",
       "       0.19290238])"
      ]
     },
     "execution_count": 75,
     "metadata": {},
     "output_type": "execute_result"
    }
   ],
   "source": [
    "'''feature importance'''\n",
    "\n",
    "model.feature_importances_"
   ]
  },
  {
   "cell_type": "code",
   "execution_count": 76,
   "id": "fresh-delicious",
   "metadata": {},
   "outputs": [
    {
     "data": {
      "text/html": [
       "<div>\n",
       "<style scoped>\n",
       "    .dataframe tbody tr th:only-of-type {\n",
       "        vertical-align: middle;\n",
       "    }\n",
       "\n",
       "    .dataframe tbody tr th {\n",
       "        vertical-align: top;\n",
       "    }\n",
       "\n",
       "    .dataframe thead th {\n",
       "        text-align: right;\n",
       "    }\n",
       "</style>\n",
       "<table border=\"1\" class=\"dataframe\">\n",
       "  <thead>\n",
       "    <tr style=\"text-align: right;\">\n",
       "      <th></th>\n",
       "      <th>Column</th>\n",
       "      <th>Importance</th>\n",
       "    </tr>\n",
       "  </thead>\n",
       "  <tbody>\n",
       "    <tr>\n",
       "      <th>0</th>\n",
       "      <td>Area</td>\n",
       "      <td>0.236784</td>\n",
       "    </tr>\n",
       "    <tr>\n",
       "      <th>1</th>\n",
       "      <td>BHK</td>\n",
       "      <td>0.105930</td>\n",
       "    </tr>\n",
       "    <tr>\n",
       "      <th>2</th>\n",
       "      <td>Bathroom_median</td>\n",
       "      <td>0.326861</td>\n",
       "    </tr>\n",
       "    <tr>\n",
       "      <th>3</th>\n",
       "      <td>Parking_median</td>\n",
       "      <td>0.029067</td>\n",
       "    </tr>\n",
       "    <tr>\n",
       "      <th>4</th>\n",
       "      <td>Per_Sqft_median</td>\n",
       "      <td>0.031604</td>\n",
       "    </tr>\n",
       "  </tbody>\n",
       "</table>\n",
       "</div>"
      ],
      "text/plain": [
       "            Column  Importance\n",
       "0             Area    0.236784\n",
       "1              BHK    0.105930\n",
       "2  Bathroom_median    0.326861\n",
       "3   Parking_median    0.029067\n",
       "4  Per_Sqft_median    0.031604"
      ]
     },
     "execution_count": 76,
     "metadata": {},
     "output_type": "execute_result"
    }
   ],
   "source": [
    "feature_importance = pd.DataFrame({'Column':X.columns,'Importance':model.feature_importances_})\n",
    "feature_importance.head()"
   ]
  },
  {
   "cell_type": "code",
   "execution_count": 77,
   "id": "statewide-tokyo",
   "metadata": {},
   "outputs": [
    {
     "data": {
      "text/html": [
       "<div>\n",
       "<style scoped>\n",
       "    .dataframe tbody tr th:only-of-type {\n",
       "        vertical-align: middle;\n",
       "    }\n",
       "\n",
       "    .dataframe tbody tr th {\n",
       "        vertical-align: top;\n",
       "    }\n",
       "\n",
       "    .dataframe thead th {\n",
       "        text-align: right;\n",
       "    }\n",
       "</style>\n",
       "<table border=\"1\" class=\"dataframe\">\n",
       "  <thead>\n",
       "    <tr style=\"text-align: right;\">\n",
       "      <th></th>\n",
       "      <th>Column</th>\n",
       "      <th>Importance</th>\n",
       "    </tr>\n",
       "  </thead>\n",
       "  <tbody>\n",
       "    <tr>\n",
       "      <th>2</th>\n",
       "      <td>Bathroom_median</td>\n",
       "      <td>0.326861</td>\n",
       "    </tr>\n",
       "    <tr>\n",
       "      <th>0</th>\n",
       "      <td>Area</td>\n",
       "      <td>0.236784</td>\n",
       "    </tr>\n",
       "    <tr>\n",
       "      <th>10</th>\n",
       "      <td>Locality_encoder</td>\n",
       "      <td>0.192902</td>\n",
       "    </tr>\n",
       "    <tr>\n",
       "      <th>1</th>\n",
       "      <td>BHK</td>\n",
       "      <td>0.105930</td>\n",
       "    </tr>\n",
       "    <tr>\n",
       "      <th>6</th>\n",
       "      <td>Transaction_Resale</td>\n",
       "      <td>0.031742</td>\n",
       "    </tr>\n",
       "    <tr>\n",
       "      <th>4</th>\n",
       "      <td>Per_Sqft_median</td>\n",
       "      <td>0.031604</td>\n",
       "    </tr>\n",
       "    <tr>\n",
       "      <th>3</th>\n",
       "      <td>Parking_median</td>\n",
       "      <td>0.029067</td>\n",
       "    </tr>\n",
       "    <tr>\n",
       "      <th>5</th>\n",
       "      <td>Status_Ready_to_move</td>\n",
       "      <td>0.017995</td>\n",
       "    </tr>\n",
       "    <tr>\n",
       "      <th>7</th>\n",
       "      <td>Type_freq_Builder_Floor</td>\n",
       "      <td>0.012494</td>\n",
       "    </tr>\n",
       "    <tr>\n",
       "      <th>8</th>\n",
       "      <td>Furnishing_freq_Semi-Furnished</td>\n",
       "      <td>0.008500</td>\n",
       "    </tr>\n",
       "    <tr>\n",
       "      <th>9</th>\n",
       "      <td>Furnishing_freq_Unfurnished</td>\n",
       "      <td>0.006120</td>\n",
       "    </tr>\n",
       "  </tbody>\n",
       "</table>\n",
       "</div>"
      ],
      "text/plain": [
       "                            Column  Importance\n",
       "2                  Bathroom_median    0.326861\n",
       "0                             Area    0.236784\n",
       "10                Locality_encoder    0.192902\n",
       "1                              BHK    0.105930\n",
       "6               Transaction_Resale    0.031742\n",
       "4                  Per_Sqft_median    0.031604\n",
       "3                   Parking_median    0.029067\n",
       "5             Status_Ready_to_move    0.017995\n",
       "7          Type_freq_Builder_Floor    0.012494\n",
       "8   Furnishing_freq_Semi-Furnished    0.008500\n",
       "9      Furnishing_freq_Unfurnished    0.006120"
      ]
     },
     "execution_count": 77,
     "metadata": {},
     "output_type": "execute_result"
    }
   ],
   "source": [
    "feature_importance.sort_values('Importance',ascending=False)"
   ]
  },
  {
   "cell_type": "markdown",
   "id": "collective-result",
   "metadata": {},
   "source": [
    "#### Information Gain"
   ]
  },
  {
   "cell_type": "code",
   "execution_count": 78,
   "id": "adjacent-response",
   "metadata": {},
   "outputs": [
    {
     "data": {
      "text/html": [
       "<div>\n",
       "<style scoped>\n",
       "    .dataframe tbody tr th:only-of-type {\n",
       "        vertical-align: middle;\n",
       "    }\n",
       "\n",
       "    .dataframe tbody tr th {\n",
       "        vertical-align: top;\n",
       "    }\n",
       "\n",
       "    .dataframe thead th {\n",
       "        text-align: right;\n",
       "    }\n",
       "</style>\n",
       "<table border=\"1\" class=\"dataframe\">\n",
       "  <thead>\n",
       "    <tr style=\"text-align: right;\">\n",
       "      <th></th>\n",
       "      <th>column</th>\n",
       "      <th>info</th>\n",
       "    </tr>\n",
       "  </thead>\n",
       "  <tbody>\n",
       "    <tr>\n",
       "      <th>0</th>\n",
       "      <td>Area</td>\n",
       "      <td>0.908878</td>\n",
       "    </tr>\n",
       "    <tr>\n",
       "      <th>1</th>\n",
       "      <td>BHK</td>\n",
       "      <td>0.495865</td>\n",
       "    </tr>\n",
       "    <tr>\n",
       "      <th>2</th>\n",
       "      <td>Bathroom_median</td>\n",
       "      <td>0.573892</td>\n",
       "    </tr>\n",
       "    <tr>\n",
       "      <th>3</th>\n",
       "      <td>Parking_median</td>\n",
       "      <td>0.123315</td>\n",
       "    </tr>\n",
       "    <tr>\n",
       "      <th>4</th>\n",
       "      <td>Per_Sqft_median</td>\n",
       "      <td>0.361788</td>\n",
       "    </tr>\n",
       "  </tbody>\n",
       "</table>\n",
       "</div>"
      ],
      "text/plain": [
       "            column      info\n",
       "0             Area  0.908878\n",
       "1              BHK  0.495865\n",
       "2  Bathroom_median  0.573892\n",
       "3   Parking_median  0.123315\n",
       "4  Per_Sqft_median  0.361788"
      ]
     },
     "execution_count": 78,
     "metadata": {},
     "output_type": "execute_result"
    }
   ],
   "source": [
    "'''sklearn library to find highly correlate feature '''\n",
    "\n",
    "from sklearn.feature_selection import mutual_info_regression\n",
    "\n",
    "mutual_info = mutual_info_regression(X,y)\n",
    "\n",
    "mutual_info_df = pd.DataFrame({'column':X.columns,'info':mutual_info})\n",
    "mutual_info_df.head()"
   ]
  },
  {
   "cell_type": "code",
   "execution_count": 79,
   "id": "toxic-friendship",
   "metadata": {},
   "outputs": [
    {
     "data": {
      "text/html": [
       "<div>\n",
       "<style scoped>\n",
       "    .dataframe tbody tr th:only-of-type {\n",
       "        vertical-align: middle;\n",
       "    }\n",
       "\n",
       "    .dataframe tbody tr th {\n",
       "        vertical-align: top;\n",
       "    }\n",
       "\n",
       "    .dataframe thead th {\n",
       "        text-align: right;\n",
       "    }\n",
       "</style>\n",
       "<table border=\"1\" class=\"dataframe\">\n",
       "  <thead>\n",
       "    <tr style=\"text-align: right;\">\n",
       "      <th></th>\n",
       "      <th>column</th>\n",
       "      <th>info</th>\n",
       "    </tr>\n",
       "  </thead>\n",
       "  <tbody>\n",
       "    <tr>\n",
       "      <th>9</th>\n",
       "      <td>Furnishing_freq_Unfurnished</td>\n",
       "      <td>0.022233</td>\n",
       "    </tr>\n",
       "    <tr>\n",
       "      <th>8</th>\n",
       "      <td>Furnishing_freq_Semi-Furnished</td>\n",
       "      <td>0.025709</td>\n",
       "    </tr>\n",
       "    <tr>\n",
       "      <th>5</th>\n",
       "      <td>Status_Ready_to_move</td>\n",
       "      <td>0.058654</td>\n",
       "    </tr>\n",
       "    <tr>\n",
       "      <th>7</th>\n",
       "      <td>Type_freq_Builder_Floor</td>\n",
       "      <td>0.071837</td>\n",
       "    </tr>\n",
       "    <tr>\n",
       "      <th>6</th>\n",
       "      <td>Transaction_Resale</td>\n",
       "      <td>0.109157</td>\n",
       "    </tr>\n",
       "    <tr>\n",
       "      <th>3</th>\n",
       "      <td>Parking_median</td>\n",
       "      <td>0.123315</td>\n",
       "    </tr>\n",
       "    <tr>\n",
       "      <th>4</th>\n",
       "      <td>Per_Sqft_median</td>\n",
       "      <td>0.361788</td>\n",
       "    </tr>\n",
       "    <tr>\n",
       "      <th>1</th>\n",
       "      <td>BHK</td>\n",
       "      <td>0.495865</td>\n",
       "    </tr>\n",
       "    <tr>\n",
       "      <th>2</th>\n",
       "      <td>Bathroom_median</td>\n",
       "      <td>0.573892</td>\n",
       "    </tr>\n",
       "    <tr>\n",
       "      <th>10</th>\n",
       "      <td>Locality_encoder</td>\n",
       "      <td>0.680287</td>\n",
       "    </tr>\n",
       "    <tr>\n",
       "      <th>0</th>\n",
       "      <td>Area</td>\n",
       "      <td>0.908878</td>\n",
       "    </tr>\n",
       "  </tbody>\n",
       "</table>\n",
       "</div>"
      ],
      "text/plain": [
       "                            column      info\n",
       "9      Furnishing_freq_Unfurnished  0.022233\n",
       "8   Furnishing_freq_Semi-Furnished  0.025709\n",
       "5             Status_Ready_to_move  0.058654\n",
       "7          Type_freq_Builder_Floor  0.071837\n",
       "6               Transaction_Resale  0.109157\n",
       "3                   Parking_median  0.123315\n",
       "4                  Per_Sqft_median  0.361788\n",
       "1                              BHK  0.495865\n",
       "2                  Bathroom_median  0.573892\n",
       "10                Locality_encoder  0.680287\n",
       "0                             Area  0.908878"
      ]
     },
     "execution_count": 79,
     "metadata": {},
     "output_type": "execute_result"
    }
   ],
   "source": [
    "mutual_info_df.sort_values('info')"
   ]
  },
  {
   "cell_type": "markdown",
   "id": "official-great",
   "metadata": {},
   "source": [
    "#### Univariate Selection"
   ]
  },
  {
   "cell_type": "code",
   "execution_count": 80,
   "id": "living-boundary",
   "metadata": {},
   "outputs": [
    {
     "data": {
      "text/html": [
       "<div>\n",
       "<style scoped>\n",
       "    .dataframe tbody tr th:only-of-type {\n",
       "        vertical-align: middle;\n",
       "    }\n",
       "\n",
       "    .dataframe tbody tr th {\n",
       "        vertical-align: top;\n",
       "    }\n",
       "\n",
       "    .dataframe thead th {\n",
       "        text-align: right;\n",
       "    }\n",
       "</style>\n",
       "<table border=\"1\" class=\"dataframe\">\n",
       "  <thead>\n",
       "    <tr style=\"text-align: right;\">\n",
       "      <th></th>\n",
       "      <th>column</th>\n",
       "      <th>Scores</th>\n",
       "    </tr>\n",
       "  </thead>\n",
       "  <tbody>\n",
       "    <tr>\n",
       "      <th>0</th>\n",
       "      <td>Area</td>\n",
       "      <td>1.252018e+06</td>\n",
       "    </tr>\n",
       "    <tr>\n",
       "      <th>1</th>\n",
       "      <td>BHK</td>\n",
       "      <td>2.668452e+02</td>\n",
       "    </tr>\n",
       "    <tr>\n",
       "      <th>2</th>\n",
       "      <td>Bathroom_median</td>\n",
       "      <td>4.176804e+02</td>\n",
       "    </tr>\n",
       "    <tr>\n",
       "      <th>3</th>\n",
       "      <td>Parking_median</td>\n",
       "      <td>5.070641e+03</td>\n",
       "    </tr>\n",
       "    <tr>\n",
       "      <th>4</th>\n",
       "      <td>Per_Sqft_median</td>\n",
       "      <td>1.020686e+07</td>\n",
       "    </tr>\n",
       "  </tbody>\n",
       "</table>\n",
       "</div>"
      ],
      "text/plain": [
       "            column        Scores\n",
       "0             Area  1.252018e+06\n",
       "1              BHK  2.668452e+02\n",
       "2  Bathroom_median  4.176804e+02\n",
       "3   Parking_median  5.070641e+03\n",
       "4  Per_Sqft_median  1.020686e+07"
      ]
     },
     "execution_count": 80,
     "metadata": {},
     "output_type": "execute_result"
    }
   ],
   "source": [
    "'''we used sklearn.feature_selection library'''\n",
    "\n",
    "from sklearn.feature_selection import SelectKBest\n",
    "from sklearn.feature_selection import chi2\n",
    "\n",
    "ordered_rank_feature = SelectKBest(score_func=chi2, k=11)      # taking k = 11 beacause there are 11 independent features\n",
    "\n",
    "ordered_rank = ordered_rank_feature.fit(X, y)\n",
    "best_feature = pd.DataFrame({'column':X.columns,'Scores':ordered_rank.scores_})\n",
    "best_feature.head()"
   ]
  },
  {
   "cell_type": "code",
   "execution_count": 81,
   "id": "utility-paste",
   "metadata": {},
   "outputs": [
    {
     "data": {
      "text/html": [
       "<div>\n",
       "<style scoped>\n",
       "    .dataframe tbody tr th:only-of-type {\n",
       "        vertical-align: middle;\n",
       "    }\n",
       "\n",
       "    .dataframe tbody tr th {\n",
       "        vertical-align: top;\n",
       "    }\n",
       "\n",
       "    .dataframe thead th {\n",
       "        text-align: right;\n",
       "    }\n",
       "</style>\n",
       "<table border=\"1\" class=\"dataframe\">\n",
       "  <thead>\n",
       "    <tr style=\"text-align: right;\">\n",
       "      <th></th>\n",
       "      <th>column</th>\n",
       "      <th>Scores</th>\n",
       "    </tr>\n",
       "  </thead>\n",
       "  <tbody>\n",
       "    <tr>\n",
       "      <th>10</th>\n",
       "      <td>Locality_encoder</td>\n",
       "      <td>1.122387e+10</td>\n",
       "    </tr>\n",
       "    <tr>\n",
       "      <th>4</th>\n",
       "      <td>Per_Sqft_median</td>\n",
       "      <td>1.020686e+07</td>\n",
       "    </tr>\n",
       "    <tr>\n",
       "      <th>0</th>\n",
       "      <td>Area</td>\n",
       "      <td>1.252018e+06</td>\n",
       "    </tr>\n",
       "    <tr>\n",
       "      <th>3</th>\n",
       "      <td>Parking_median</td>\n",
       "      <td>5.070641e+03</td>\n",
       "    </tr>\n",
       "    <tr>\n",
       "      <th>2</th>\n",
       "      <td>Bathroom_median</td>\n",
       "      <td>4.176804e+02</td>\n",
       "    </tr>\n",
       "    <tr>\n",
       "      <th>1</th>\n",
       "      <td>BHK</td>\n",
       "      <td>2.668452e+02</td>\n",
       "    </tr>\n",
       "    <tr>\n",
       "      <th>9</th>\n",
       "      <td>Furnishing_freq_Unfurnished</td>\n",
       "      <td>2.581092e+02</td>\n",
       "    </tr>\n",
       "    <tr>\n",
       "      <th>7</th>\n",
       "      <td>Type_freq_Builder_Floor</td>\n",
       "      <td>2.156463e+02</td>\n",
       "    </tr>\n",
       "    <tr>\n",
       "      <th>6</th>\n",
       "      <td>Transaction_Resale</td>\n",
       "      <td>1.734620e+02</td>\n",
       "    </tr>\n",
       "    <tr>\n",
       "      <th>8</th>\n",
       "      <td>Furnishing_freq_Semi-Furnished</td>\n",
       "      <td>1.485231e+02</td>\n",
       "    </tr>\n",
       "    <tr>\n",
       "      <th>5</th>\n",
       "      <td>Status_Ready_to_move</td>\n",
       "      <td>4.064910e+01</td>\n",
       "    </tr>\n",
       "  </tbody>\n",
       "</table>\n",
       "</div>"
      ],
      "text/plain": [
       "                            column        Scores\n",
       "10                Locality_encoder  1.122387e+10\n",
       "4                  Per_Sqft_median  1.020686e+07\n",
       "0                             Area  1.252018e+06\n",
       "3                   Parking_median  5.070641e+03\n",
       "2                  Bathroom_median  4.176804e+02\n",
       "1                              BHK  2.668452e+02\n",
       "9      Furnishing_freq_Unfurnished  2.581092e+02\n",
       "7          Type_freq_Builder_Floor  2.156463e+02\n",
       "6               Transaction_Resale  1.734620e+02\n",
       "8   Furnishing_freq_Semi-Furnished  1.485231e+02\n",
       "5             Status_Ready_to_move  4.064910e+01"
      ]
     },
     "execution_count": 81,
     "metadata": {},
     "output_type": "execute_result"
    }
   ],
   "source": [
    "best_feature.sort_values('Scores',ascending=False)"
   ]
  },
  {
   "cell_type": "markdown",
   "id": "noticed-checklist",
   "metadata": {},
   "source": [
    "#### correlation"
   ]
  },
  {
   "cell_type": "code",
   "execution_count": 82,
   "id": "level-punishment",
   "metadata": {},
   "outputs": [
    {
     "data": {
      "text/html": [
       "<div>\n",
       "<style scoped>\n",
       "    .dataframe tbody tr th:only-of-type {\n",
       "        vertical-align: middle;\n",
       "    }\n",
       "\n",
       "    .dataframe tbody tr th {\n",
       "        vertical-align: top;\n",
       "    }\n",
       "\n",
       "    .dataframe thead th {\n",
       "        text-align: right;\n",
       "    }\n",
       "</style>\n",
       "<table border=\"1\" class=\"dataframe\">\n",
       "  <thead>\n",
       "    <tr style=\"text-align: right;\">\n",
       "      <th></th>\n",
       "      <th>Area</th>\n",
       "      <th>BHK</th>\n",
       "      <th>Bathroom_median</th>\n",
       "      <th>Parking_median</th>\n",
       "      <th>Per_Sqft_median</th>\n",
       "      <th>Status_Ready_to_move</th>\n",
       "      <th>Transaction_Resale</th>\n",
       "      <th>Type_freq_Builder_Floor</th>\n",
       "      <th>Furnishing_freq_Semi-Furnished</th>\n",
       "      <th>Furnishing_freq_Unfurnished</th>\n",
       "      <th>Locality_encoder</th>\n",
       "    </tr>\n",
       "  </thead>\n",
       "  <tbody>\n",
       "    <tr>\n",
       "      <th>Area</th>\n",
       "      <td>1.000000</td>\n",
       "      <td>0.449438</td>\n",
       "      <td>0.534964</td>\n",
       "      <td>-0.008595</td>\n",
       "      <td>0.164069</td>\n",
       "      <td>-0.157769</td>\n",
       "      <td>-0.116283</td>\n",
       "      <td>0.092115</td>\n",
       "      <td>0.072045</td>\n",
       "      <td>-0.041830</td>\n",
       "      <td>0.406169</td>\n",
       "    </tr>\n",
       "    <tr>\n",
       "      <th>BHK</th>\n",
       "      <td>0.449438</td>\n",
       "      <td>1.000000</td>\n",
       "      <td>0.772506</td>\n",
       "      <td>-0.068635</td>\n",
       "      <td>0.164655</td>\n",
       "      <td>-0.120472</td>\n",
       "      <td>-0.137574</td>\n",
       "      <td>0.110784</td>\n",
       "      <td>0.078920</td>\n",
       "      <td>-0.125325</td>\n",
       "      <td>0.388879</td>\n",
       "    </tr>\n",
       "    <tr>\n",
       "      <th>Bathroom_median</th>\n",
       "      <td>0.534964</td>\n",
       "      <td>0.772506</td>\n",
       "      <td>1.000000</td>\n",
       "      <td>-0.030513</td>\n",
       "      <td>0.208411</td>\n",
       "      <td>-0.142970</td>\n",
       "      <td>-0.197450</td>\n",
       "      <td>0.136374</td>\n",
       "      <td>0.104888</td>\n",
       "      <td>-0.076689</td>\n",
       "      <td>0.561024</td>\n",
       "    </tr>\n",
       "    <tr>\n",
       "      <th>Parking_median</th>\n",
       "      <td>-0.008595</td>\n",
       "      <td>-0.068635</td>\n",
       "      <td>-0.030513</td>\n",
       "      <td>1.000000</td>\n",
       "      <td>-0.006080</td>\n",
       "      <td>0.016427</td>\n",
       "      <td>0.033411</td>\n",
       "      <td>-0.073647</td>\n",
       "      <td>-0.048781</td>\n",
       "      <td>0.077911</td>\n",
       "      <td>-0.021824</td>\n",
       "    </tr>\n",
       "    <tr>\n",
       "      <th>Per_Sqft_median</th>\n",
       "      <td>0.164069</td>\n",
       "      <td>0.164655</td>\n",
       "      <td>0.208411</td>\n",
       "      <td>-0.006080</td>\n",
       "      <td>1.000000</td>\n",
       "      <td>-0.023863</td>\n",
       "      <td>-0.034988</td>\n",
       "      <td>0.086681</td>\n",
       "      <td>0.022056</td>\n",
       "      <td>-0.012954</td>\n",
       "      <td>0.358029</td>\n",
       "    </tr>\n",
       "    <tr>\n",
       "      <th>Status_Ready_to_move</th>\n",
       "      <td>-0.157769</td>\n",
       "      <td>-0.120472</td>\n",
       "      <td>-0.142970</td>\n",
       "      <td>0.016427</td>\n",
       "      <td>-0.023863</td>\n",
       "      <td>1.000000</td>\n",
       "      <td>0.259478</td>\n",
       "      <td>0.031425</td>\n",
       "      <td>0.064153</td>\n",
       "      <td>-0.076865</td>\n",
       "      <td>-0.034490</td>\n",
       "    </tr>\n",
       "    <tr>\n",
       "      <th>Transaction_Resale</th>\n",
       "      <td>-0.116283</td>\n",
       "      <td>-0.137574</td>\n",
       "      <td>-0.197450</td>\n",
       "      <td>0.033411</td>\n",
       "      <td>-0.034988</td>\n",
       "      <td>0.259478</td>\n",
       "      <td>1.000000</td>\n",
       "      <td>-0.226707</td>\n",
       "      <td>-0.149597</td>\n",
       "      <td>0.053542</td>\n",
       "      <td>-0.124095</td>\n",
       "    </tr>\n",
       "    <tr>\n",
       "      <th>Type_freq_Builder_Floor</th>\n",
       "      <td>0.092115</td>\n",
       "      <td>0.110784</td>\n",
       "      <td>0.136374</td>\n",
       "      <td>-0.073647</td>\n",
       "      <td>0.086681</td>\n",
       "      <td>0.031425</td>\n",
       "      <td>-0.226707</td>\n",
       "      <td>1.000000</td>\n",
       "      <td>0.105410</td>\n",
       "      <td>-0.052776</td>\n",
       "      <td>0.193758</td>\n",
       "    </tr>\n",
       "    <tr>\n",
       "      <th>Furnishing_freq_Semi-Furnished</th>\n",
       "      <td>0.072045</td>\n",
       "      <td>0.078920</td>\n",
       "      <td>0.104888</td>\n",
       "      <td>-0.048781</td>\n",
       "      <td>0.022056</td>\n",
       "      <td>0.064153</td>\n",
       "      <td>-0.149597</td>\n",
       "      <td>0.105410</td>\n",
       "      <td>1.000000</td>\n",
       "      <td>-0.727357</td>\n",
       "      <td>0.102605</td>\n",
       "    </tr>\n",
       "    <tr>\n",
       "      <th>Furnishing_freq_Unfurnished</th>\n",
       "      <td>-0.041830</td>\n",
       "      <td>-0.125325</td>\n",
       "      <td>-0.076689</td>\n",
       "      <td>0.077911</td>\n",
       "      <td>-0.012954</td>\n",
       "      <td>-0.076865</td>\n",
       "      <td>0.053542</td>\n",
       "      <td>-0.052776</td>\n",
       "      <td>-0.727357</td>\n",
       "      <td>1.000000</td>\n",
       "      <td>-0.007302</td>\n",
       "    </tr>\n",
       "    <tr>\n",
       "      <th>Locality_encoder</th>\n",
       "      <td>0.406169</td>\n",
       "      <td>0.388879</td>\n",
       "      <td>0.561024</td>\n",
       "      <td>-0.021824</td>\n",
       "      <td>0.358029</td>\n",
       "      <td>-0.034490</td>\n",
       "      <td>-0.124095</td>\n",
       "      <td>0.193758</td>\n",
       "      <td>0.102605</td>\n",
       "      <td>-0.007302</td>\n",
       "      <td>1.000000</td>\n",
       "    </tr>\n",
       "  </tbody>\n",
       "</table>\n",
       "</div>"
      ],
      "text/plain": [
       "                                    Area       BHK  Bathroom_median  \\\n",
       "Area                            1.000000  0.449438         0.534964   \n",
       "BHK                             0.449438  1.000000         0.772506   \n",
       "Bathroom_median                 0.534964  0.772506         1.000000   \n",
       "Parking_median                 -0.008595 -0.068635        -0.030513   \n",
       "Per_Sqft_median                 0.164069  0.164655         0.208411   \n",
       "Status_Ready_to_move           -0.157769 -0.120472        -0.142970   \n",
       "Transaction_Resale             -0.116283 -0.137574        -0.197450   \n",
       "Type_freq_Builder_Floor         0.092115  0.110784         0.136374   \n",
       "Furnishing_freq_Semi-Furnished  0.072045  0.078920         0.104888   \n",
       "Furnishing_freq_Unfurnished    -0.041830 -0.125325        -0.076689   \n",
       "Locality_encoder                0.406169  0.388879         0.561024   \n",
       "\n",
       "                                Parking_median  Per_Sqft_median  \\\n",
       "Area                                 -0.008595         0.164069   \n",
       "BHK                                  -0.068635         0.164655   \n",
       "Bathroom_median                      -0.030513         0.208411   \n",
       "Parking_median                        1.000000        -0.006080   \n",
       "Per_Sqft_median                      -0.006080         1.000000   \n",
       "Status_Ready_to_move                  0.016427        -0.023863   \n",
       "Transaction_Resale                    0.033411        -0.034988   \n",
       "Type_freq_Builder_Floor              -0.073647         0.086681   \n",
       "Furnishing_freq_Semi-Furnished       -0.048781         0.022056   \n",
       "Furnishing_freq_Unfurnished           0.077911        -0.012954   \n",
       "Locality_encoder                     -0.021824         0.358029   \n",
       "\n",
       "                                Status_Ready_to_move  Transaction_Resale  \\\n",
       "Area                                       -0.157769           -0.116283   \n",
       "BHK                                        -0.120472           -0.137574   \n",
       "Bathroom_median                            -0.142970           -0.197450   \n",
       "Parking_median                              0.016427            0.033411   \n",
       "Per_Sqft_median                            -0.023863           -0.034988   \n",
       "Status_Ready_to_move                        1.000000            0.259478   \n",
       "Transaction_Resale                          0.259478            1.000000   \n",
       "Type_freq_Builder_Floor                     0.031425           -0.226707   \n",
       "Furnishing_freq_Semi-Furnished              0.064153           -0.149597   \n",
       "Furnishing_freq_Unfurnished                -0.076865            0.053542   \n",
       "Locality_encoder                           -0.034490           -0.124095   \n",
       "\n",
       "                                Type_freq_Builder_Floor  \\\n",
       "Area                                           0.092115   \n",
       "BHK                                            0.110784   \n",
       "Bathroom_median                                0.136374   \n",
       "Parking_median                                -0.073647   \n",
       "Per_Sqft_median                                0.086681   \n",
       "Status_Ready_to_move                           0.031425   \n",
       "Transaction_Resale                            -0.226707   \n",
       "Type_freq_Builder_Floor                        1.000000   \n",
       "Furnishing_freq_Semi-Furnished                 0.105410   \n",
       "Furnishing_freq_Unfurnished                   -0.052776   \n",
       "Locality_encoder                               0.193758   \n",
       "\n",
       "                                Furnishing_freq_Semi-Furnished  \\\n",
       "Area                                                  0.072045   \n",
       "BHK                                                   0.078920   \n",
       "Bathroom_median                                       0.104888   \n",
       "Parking_median                                       -0.048781   \n",
       "Per_Sqft_median                                       0.022056   \n",
       "Status_Ready_to_move                                  0.064153   \n",
       "Transaction_Resale                                   -0.149597   \n",
       "Type_freq_Builder_Floor                               0.105410   \n",
       "Furnishing_freq_Semi-Furnished                        1.000000   \n",
       "Furnishing_freq_Unfurnished                          -0.727357   \n",
       "Locality_encoder                                      0.102605   \n",
       "\n",
       "                                Furnishing_freq_Unfurnished  Locality_encoder  \n",
       "Area                                              -0.041830          0.406169  \n",
       "BHK                                               -0.125325          0.388879  \n",
       "Bathroom_median                                   -0.076689          0.561024  \n",
       "Parking_median                                     0.077911         -0.021824  \n",
       "Per_Sqft_median                                   -0.012954          0.358029  \n",
       "Status_Ready_to_move                              -0.076865         -0.034490  \n",
       "Transaction_Resale                                 0.053542         -0.124095  \n",
       "Type_freq_Builder_Floor                           -0.052776          0.193758  \n",
       "Furnishing_freq_Semi-Furnished                    -0.727357          0.102605  \n",
       "Furnishing_freq_Unfurnished                        1.000000         -0.007302  \n",
       "Locality_encoder                                  -0.007302          1.000000  "
      ]
     },
     "execution_count": 82,
     "metadata": {},
     "output_type": "execute_result"
    }
   ],
   "source": [
    "corr = X.corr()\n",
    "corr"
   ]
  },
  {
   "cell_type": "code",
   "execution_count": 83,
   "id": "decreased-score",
   "metadata": {
    "scrolled": true
   },
   "outputs": [
    {
     "data": {
      "text/plain": [
       "<AxesSubplot:>"
      ]
     },
     "execution_count": 83,
     "metadata": {},
     "output_type": "execute_result"
    },
    {
     "data": {
      "image/png": "[encoded data removed]",
      "text/plain": [
       "<Figure size 1080x1080 with 2 Axes>"
      ]
     },
     "metadata": {
      "needs_background": "light"
     },
     "output_type": "display_data"
    }
   ],
   "source": [
    "plt.figure(figsize=(15,15))\n",
    "sns.heatmap(corr,annot=True)"
   ]
  },
  {
   "cell_type": "markdown",
   "id": "auburn-kingdom",
   "metadata": {},
   "source": [
    "#### All this features are Important"
   ]
  },
  {
   "cell_type": "markdown",
   "id": "incorrect-jones",
   "metadata": {},
   "source": [
    "### Feature Scaling"
   ]
  },
  {
   "cell_type": "code",
   "execution_count": 84,
   "id": "physical-proposal",
   "metadata": {},
   "outputs": [],
   "source": [
    "from sklearn.preprocessing import StandardScaler"
   ]
  },
  {
   "cell_type": "code",
   "execution_count": 85,
   "id": "driven-jaguar",
   "metadata": {},
   "outputs": [],
   "source": [
    "scaler = StandardScaler()"
   ]
  },
  {
   "cell_type": "code",
   "execution_count": 86,
   "id": "static-democracy",
   "metadata": {},
   "outputs": [
    {
     "data": {
      "text/plain": [
       "StandardScaler()"
      ]
     },
     "execution_count": 86,
     "metadata": {},
     "output_type": "execute_result"
    }
   ],
   "source": [
    "scaler.fit(X)"
   ]
  },
  {
   "cell_type": "code",
   "execution_count": 87,
   "id": "normal-enlargement",
   "metadata": {},
   "outputs": [],
   "source": [
    "X_new = scaler.transform(X)"
   ]
  },
  {
   "cell_type": "code",
   "execution_count": 88,
   "id": "equipped-thought",
   "metadata": {},
   "outputs": [],
   "source": [
    "X_new = pd.DataFrame(X_new,columns=X.columns)"
   ]
  },
  {
   "cell_type": "code",
   "execution_count": 89,
   "id": "conventional-tournament",
   "metadata": {},
   "outputs": [
    {
     "data": {
      "text/html": [
       "<div>\n",
       "<style scoped>\n",
       "    .dataframe tbody tr th:only-of-type {\n",
       "        vertical-align: middle;\n",
       "    }\n",
       "\n",
       "    .dataframe tbody tr th {\n",
       "        vertical-align: top;\n",
       "    }\n",
       "\n",
       "    .dataframe thead th {\n",
       "        text-align: right;\n",
       "    }\n",
       "</style>\n",
       "<table border=\"1\" class=\"dataframe\">\n",
       "  <thead>\n",
       "    <tr style=\"text-align: right;\">\n",
       "      <th></th>\n",
       "      <th>Area</th>\n",
       "      <th>BHK</th>\n",
       "      <th>Bathroom_median</th>\n",
       "      <th>Parking_median</th>\n",
       "      <th>Per_Sqft_median</th>\n",
       "      <th>Status_Ready_to_move</th>\n",
       "      <th>Transaction_Resale</th>\n",
       "      <th>Type_freq_Builder_Floor</th>\n",
       "      <th>Furnishing_freq_Semi-Furnished</th>\n",
       "      <th>Furnishing_freq_Unfurnished</th>\n",
       "      <th>Locality_encoder</th>\n",
       "    </tr>\n",
       "  </thead>\n",
       "  <tbody>\n",
       "    <tr>\n",
       "      <th>0</th>\n",
       "      <td>-0.425188</td>\n",
       "      <td>0.213130</td>\n",
       "      <td>-0.533227</td>\n",
       "      <td>-0.147045</td>\n",
       "      <td>-0.186467</td>\n",
       "      <td>0.251684</td>\n",
       "      <td>-1.278238</td>\n",
       "      <td>0.943605</td>\n",
       "      <td>0.875088</td>\n",
       "      <td>-0.636501</td>\n",
       "      <td>-0.742184</td>\n",
       "    </tr>\n",
       "    <tr>\n",
       "      <th>1</th>\n",
       "      <td>-0.457087</td>\n",
       "      <td>-0.835038</td>\n",
       "      <td>-0.533227</td>\n",
       "      <td>-0.147045</td>\n",
       "      <td>-0.428918</td>\n",
       "      <td>0.251684</td>\n",
       "      <td>-1.278238</td>\n",
       "      <td>-1.059765</td>\n",
       "      <td>0.875088</td>\n",
       "      <td>-0.636501</td>\n",
       "      <td>-0.742184</td>\n",
       "    </tr>\n",
       "    <tr>\n",
       "      <th>2</th>\n",
       "      <td>-0.329490</td>\n",
       "      <td>-0.835038</td>\n",
       "      <td>-0.533227</td>\n",
       "      <td>-0.147045</td>\n",
       "      <td>-0.428918</td>\n",
       "      <td>0.251684</td>\n",
       "      <td>0.782327</td>\n",
       "      <td>-1.059765</td>\n",
       "      <td>-1.142743</td>\n",
       "      <td>-0.636501</td>\n",
       "      <td>-0.742184</td>\n",
       "    </tr>\n",
       "    <tr>\n",
       "      <th>3</th>\n",
       "      <td>-0.552785</td>\n",
       "      <td>-0.835038</td>\n",
       "      <td>-0.533227</td>\n",
       "      <td>-0.147045</td>\n",
       "      <td>-0.428918</td>\n",
       "      <td>0.251684</td>\n",
       "      <td>0.782327</td>\n",
       "      <td>0.943605</td>\n",
       "      <td>0.875088</td>\n",
       "      <td>-0.636501</td>\n",
       "      <td>-0.742184</td>\n",
       "    </tr>\n",
       "    <tr>\n",
       "      <th>4</th>\n",
       "      <td>-0.520886</td>\n",
       "      <td>-0.835038</td>\n",
       "      <td>-0.533227</td>\n",
       "      <td>-0.147045</td>\n",
       "      <td>-0.428918</td>\n",
       "      <td>0.251684</td>\n",
       "      <td>-1.278238</td>\n",
       "      <td>0.943605</td>\n",
       "      <td>0.875088</td>\n",
       "      <td>-0.636501</td>\n",
       "      <td>-0.742184</td>\n",
       "    </tr>\n",
       "  </tbody>\n",
       "</table>\n",
       "</div>"
      ],
      "text/plain": [
       "       Area       BHK  Bathroom_median  Parking_median  Per_Sqft_median  \\\n",
       "0 -0.425188  0.213130        -0.533227       -0.147045        -0.186467   \n",
       "1 -0.457087 -0.835038        -0.533227       -0.147045        -0.428918   \n",
       "2 -0.329490 -0.835038        -0.533227       -0.147045        -0.428918   \n",
       "3 -0.552785 -0.835038        -0.533227       -0.147045        -0.428918   \n",
       "4 -0.520886 -0.835038        -0.533227       -0.147045        -0.428918   \n",
       "\n",
       "   Status_Ready_to_move  Transaction_Resale  Type_freq_Builder_Floor  \\\n",
       "0              0.251684           -1.278238                 0.943605   \n",
       "1              0.251684           -1.278238                -1.059765   \n",
       "2              0.251684            0.782327                -1.059765   \n",
       "3              0.251684            0.782327                 0.943605   \n",
       "4              0.251684           -1.278238                 0.943605   \n",
       "\n",
       "   Furnishing_freq_Semi-Furnished  Furnishing_freq_Unfurnished  \\\n",
       "0                        0.875088                    -0.636501   \n",
       "1                        0.875088                    -0.636501   \n",
       "2                       -1.142743                    -0.636501   \n",
       "3                        0.875088                    -0.636501   \n",
       "4                        0.875088                    -0.636501   \n",
       "\n",
       "   Locality_encoder  \n",
       "0         -0.742184  \n",
       "1         -0.742184  \n",
       "2         -0.742184  \n",
       "3         -0.742184  \n",
       "4         -0.742184  "
      ]
     },
     "execution_count": 89,
     "metadata": {},
     "output_type": "execute_result"
    }
   ],
   "source": [
    "X_new.head()"
   ]
  },
  {
   "cell_type": "markdown",
   "id": "solid-indonesia",
   "metadata": {},
   "source": [
    "## Splitting Data"
   ]
  },
  {
   "cell_type": "code",
   "execution_count": 90,
   "id": "exceptional-european",
   "metadata": {},
   "outputs": [],
   "source": [
    "from sklearn.model_selection import train_test_split\n",
    "\n",
    "X_train, X_test, y_train, y_test = train_test_split(X_new, y, test_size=0.2, random_state=42)"
   ]
  },
  {
   "cell_type": "code",
   "execution_count": 91,
   "id": "incident-malta",
   "metadata": {},
   "outputs": [
    {
     "data": {
      "text/plain": [
       "(1007, 11)"
      ]
     },
     "execution_count": 91,
     "metadata": {},
     "output_type": "execute_result"
    }
   ],
   "source": [
    "X_train.shape"
   ]
  },
  {
   "cell_type": "code",
   "execution_count": 92,
   "id": "sensitive-think",
   "metadata": {},
   "outputs": [
    {
     "data": {
      "text/plain": [
       "(252, 11)"
      ]
     },
     "execution_count": 92,
     "metadata": {},
     "output_type": "execute_result"
    }
   ],
   "source": [
    "X_test.shape"
   ]
  },
  {
   "cell_type": "markdown",
   "id": "registered-acting",
   "metadata": {},
   "source": [
    "## Model Selection"
   ]
  },
  {
   "cell_type": "code",
   "execution_count": 93,
   "id": "initial-exchange",
   "metadata": {},
   "outputs": [
    {
     "data": {
      "text/plain": [
       "LinearRegression()"
      ]
     },
     "execution_count": 93,
     "metadata": {},
     "output_type": "execute_result"
    }
   ],
   "source": [
    "# Linear Regresssion\n",
    "\n",
    "from sklearn.linear_model import LinearRegression\n",
    "\n",
    "model_linear = LinearRegression()\n",
    "model_linear.fit(X_train,y_train)"
   ]
  },
  {
   "cell_type": "code",
   "execution_count": 94,
   "id": "silent-substance",
   "metadata": {},
   "outputs": [],
   "source": [
    "from sklearn.model_selection import cross_val_score"
   ]
  },
  {
   "cell_type": "code",
   "execution_count": 95,
   "id": "aggregate-peace",
   "metadata": {},
   "outputs": [
    {
     "data": {
      "text/plain": [
       "array([0.59509793, 0.64610308, 0.65740582, 0.60701958, 0.75825729])"
      ]
     },
     "execution_count": 95,
     "metadata": {},
     "output_type": "execute_result"
    }
   ],
   "source": [
    "scores = cross_val_score(model_linear,X_train,y_train, cv=5, scoring ='r2')\n",
    "scores"
   ]
  },
  {
   "cell_type": "code",
   "execution_count": 96,
   "id": "allied-communications",
   "metadata": {},
   "outputs": [
    {
     "data": {
      "text/plain": [
       "0.652776739376961"
      ]
     },
     "execution_count": 96,
     "metadata": {},
     "output_type": "execute_result"
    }
   ],
   "source": [
    "scores.mean()"
   ]
  },
  {
   "cell_type": "markdown",
   "id": "operating-principal",
   "metadata": {},
   "source": [
    "---"
   ]
  },
  {
   "cell_type": "code",
   "execution_count": 97,
   "id": "fleet-honey",
   "metadata": {},
   "outputs": [
    {
     "data": {
      "text/plain": [
       "DecisionTreeRegressor()"
      ]
     },
     "execution_count": 97,
     "metadata": {},
     "output_type": "execute_result"
    }
   ],
   "source": [
    "# Decision tree regressor\n",
    "\n",
    "from sklearn.tree import DecisionTreeRegressor \n",
    "\n",
    "model_tree = DecisionTreeRegressor()\n",
    "model_tree.fit(X_train,y_train)"
   ]
  },
  {
   "cell_type": "code",
   "execution_count": 98,
   "id": "incredible-trial",
   "metadata": {},
   "outputs": [
    {
     "data": {
      "text/plain": [
       "array([0.66351817, 0.81467585, 0.88208936, 0.77335163, 0.77523922])"
      ]
     },
     "execution_count": 98,
     "metadata": {},
     "output_type": "execute_result"
    }
   ],
   "source": [
    "scores = cross_val_score(model_tree,X_train,y_train, cv=5, scoring ='r2')\n",
    "scores"
   ]
  },
  {
   "cell_type": "code",
   "execution_count": 99,
   "id": "eastern-stack",
   "metadata": {},
   "outputs": [
    {
     "data": {
      "text/plain": [
       "0.7817748451284412"
      ]
     },
     "execution_count": 99,
     "metadata": {},
     "output_type": "execute_result"
    }
   ],
   "source": [
    "scores.mean()"
   ]
  },
  {
   "cell_type": "markdown",
   "id": "healthy-bermuda",
   "metadata": {},
   "source": [
    "---"
   ]
  },
  {
   "cell_type": "code",
   "execution_count": 100,
   "id": "revolutionary-laser",
   "metadata": {},
   "outputs": [
    {
     "data": {
      "text/plain": [
       "RandomForestRegressor()"
      ]
     },
     "execution_count": 100,
     "metadata": {},
     "output_type": "execute_result"
    }
   ],
   "source": [
    "# Random Forest\n",
    "\n",
    "from sklearn.ensemble import RandomForestRegressor \n",
    "\n",
    "model_rf = RandomForestRegressor()\n",
    "model_rf.fit(X_train,y_train)"
   ]
  },
  {
   "cell_type": "code",
   "execution_count": 101,
   "id": "happy-mountain",
   "metadata": {},
   "outputs": [
    {
     "data": {
      "text/plain": [
       "array([0.66702884, 0.85124154, 0.89812546, 0.77662427, 0.90131114])"
      ]
     },
     "execution_count": 101,
     "metadata": {},
     "output_type": "execute_result"
    }
   ],
   "source": [
    "scores = cross_val_score(model_rf,X_train,y_train, cv=5, scoring ='r2')\n",
    "scores"
   ]
  },
  {
   "cell_type": "code",
   "execution_count": 102,
   "id": "fundamental-occasion",
   "metadata": {},
   "outputs": [
    {
     "data": {
      "text/plain": [
       "0.8188662489439397"
      ]
     },
     "execution_count": 102,
     "metadata": {},
     "output_type": "execute_result"
    }
   ],
   "source": [
    "scores.mean()"
   ]
  },
  {
   "cell_type": "markdown",
   "id": "sustained-typing",
   "metadata": {},
   "source": [
    "---"
   ]
  },
  {
   "cell_type": "code",
   "execution_count": 103,
   "id": "manual-shanghai",
   "metadata": {},
   "outputs": [
    {
     "data": {
      "text/plain": [
       "GradientBoostingRegressor(n_estimators=200, random_state=42)"
      ]
     },
     "execution_count": 103,
     "metadata": {},
     "output_type": "execute_result"
    }
   ],
   "source": [
    "# GBM\n",
    "\n",
    "from sklearn.ensemble import GradientBoostingRegressor\n",
    "model_gbm = GradientBoostingRegressor(n_estimators=200,random_state=42)\n",
    "\n",
    "model_gbm.fit(X_train,y_train)"
   ]
  },
  {
   "cell_type": "code",
   "execution_count": 104,
   "id": "crazy-racing",
   "metadata": {},
   "outputs": [
    {
     "data": {
      "text/plain": [
       "array([0.73281854, 0.85447645, 0.88647579, 0.81823264, 0.86716296])"
      ]
     },
     "execution_count": 104,
     "metadata": {},
     "output_type": "execute_result"
    }
   ],
   "source": [
    "scores = cross_val_score(model_gbm,X_train,y_train, cv=5, scoring ='r2')\n",
    "scores"
   ]
  },
  {
   "cell_type": "code",
   "execution_count": 105,
   "id": "widespread-confusion",
   "metadata": {},
   "outputs": [
    {
     "data": {
      "text/plain": [
       "0.8318332744768743"
      ]
     },
     "execution_count": 105,
     "metadata": {},
     "output_type": "execute_result"
    }
   ],
   "source": [
    "scores.mean()"
   ]
  },
  {
   "cell_type": "markdown",
   "id": "coral-diameter",
   "metadata": {},
   "source": [
    "___"
   ]
  },
  {
   "cell_type": "code",
   "execution_count": 106,
   "id": "liberal-destiny",
   "metadata": {},
   "outputs": [
    {
     "data": {
      "text/plain": [
       "XGBRegressor(base_score=0.5, booster='gbtree', colsample_bylevel=1,\n",
       "             colsample_bynode=1, colsample_bytree=1, gamma=0, gpu_id=-1,\n",
       "             importance_type='gain', interaction_constraints='',\n",
       "             learning_rate=0.300000012, max_delta_step=0, max_depth=6,\n",
       "             min_child_weight=1, missing=nan, monotone_constraints='()',\n",
       "             n_estimators=300, n_jobs=4, num_parallel_tree=1, random_state=42,\n",
       "             reg_alpha=0, reg_lambda=1, scale_pos_weight=1, subsample=1,\n",
       "             tree_method='exact', validate_parameters=1, verbosity=None)"
      ]
     },
     "execution_count": 106,
     "metadata": {},
     "output_type": "execute_result"
    }
   ],
   "source": [
    "# XGBOOST\n",
    "\n",
    "from xgboost import XGBRegressor\n",
    "model_xg = XGBRegressor(n_estimators=300,random_state=42)\n",
    "\n",
    "model_xg.fit(X_train,y_train)"
   ]
  },
  {
   "cell_type": "code",
   "execution_count": 107,
   "id": "optional-latvia",
   "metadata": {},
   "outputs": [
    {
     "data": {
      "text/plain": [
       "array([0.6726794 , 0.86444605, 0.87747899, 0.79092738, 0.89261493])"
      ]
     },
     "execution_count": 107,
     "metadata": {},
     "output_type": "execute_result"
    }
   ],
   "source": [
    "scores = cross_val_score(model_xg,X_train,y_train,scoring='r2',cv=5)\n",
    "scores"
   ]
  },
  {
   "cell_type": "code",
   "execution_count": 108,
   "id": "laden-bacon",
   "metadata": {},
   "outputs": [
    {
     "data": {
      "text/plain": [
       "0.8196293510516984"
      ]
     },
     "execution_count": 108,
     "metadata": {},
     "output_type": "execute_result"
    }
   ],
   "source": [
    "scores.mean()"
   ]
  },
  {
   "cell_type": "markdown",
   "id": "applied-slovak",
   "metadata": {},
   "source": [
    "---"
   ]
  },
  {
   "cell_type": "code",
   "execution_count": 109,
   "id": "communist-produce",
   "metadata": {},
   "outputs": [
    {
     "data": {
      "text/plain": [
       "LGBMRegressor(n_estimators=400, random_state=42)"
      ]
     },
     "execution_count": 109,
     "metadata": {},
     "output_type": "execute_result"
    }
   ],
   "source": [
    "# LightGBM\n",
    "\n",
    "from lightgbm import LGBMRegressor\n",
    "model_lg = LGBMRegressor(n_estimators=400,random_state=42)\n",
    "\n",
    "model_lg.fit(X_train,y_train)"
   ]
  },
  {
   "cell_type": "code",
   "execution_count": 110,
   "id": "reflected-saying",
   "metadata": {},
   "outputs": [
    {
     "data": {
      "text/plain": [
       "array([0.69635453, 0.85882495, 0.85398685, 0.75535743, 0.85985183])"
      ]
     },
     "execution_count": 110,
     "metadata": {},
     "output_type": "execute_result"
    }
   ],
   "source": [
    "scores = cross_val_score(model_lg,X_train,y_train,scoring='r2',cv=5)\n",
    "scores"
   ]
  },
  {
   "cell_type": "code",
   "execution_count": 111,
   "id": "optional-canon",
   "metadata": {},
   "outputs": [
    {
     "data": {
      "text/plain": [
       "0.8048751192227801"
      ]
     },
     "execution_count": 111,
     "metadata": {},
     "output_type": "execute_result"
    }
   ],
   "source": [
    "scores.mean()"
   ]
  },
  {
   "cell_type": "markdown",
   "id": "parliamentary-spread",
   "metadata": {},
   "source": [
    "---"
   ]
  },
  {
   "cell_type": "markdown",
   "id": "proprietary-hunter",
   "metadata": {},
   "source": [
    "## Hyperparameter tuning on Random Forest, GBM and XGBOOST"
   ]
  },
  {
   "cell_type": "code",
   "execution_count": 112,
   "id": "personal-milan",
   "metadata": {},
   "outputs": [],
   "source": [
    "# Random Forest\n",
    "\n",
    "\n",
    "n_estimators = [int(x) for x in np.linspace(start = 200, stop = 2000, num = 10)]\n",
    "max_features = ['auto', 'sqrt']\n",
    "max_depth = [int(x) for x in np.linspace(10, 110, num = 11)]\n",
    "max_depth.append(None)\n",
    "min_samples_split = [2, 5, 10]\n",
    "min_samples_leaf = [1, 2, 4]\n",
    "bootstrap = [True, False]\n",
    "\n",
    "random_grid = {'n_estimators': n_estimators,\n",
    "               'max_features': max_features,\n",
    "               'max_depth': max_depth,\n",
    "               'min_samples_split': min_samples_split,\n",
    "               'min_samples_leaf': min_samples_leaf,\n",
    "               'bootstrap': bootstrap}\n",
    "\n"
   ]
  },
  {
   "cell_type": "code",
   "execution_count": 113,
   "id": "solved-worthy",
   "metadata": {},
   "outputs": [],
   "source": [
    "from sklearn.model_selection import RandomizedSearchCV\n",
    "\n",
    "model_rf = RandomForestRegressor()\n",
    "\n",
    "rf_random = RandomizedSearchCV(estimator = model_rf, param_distributions = random_grid, cv = 5, verbose=2, random_state=42, n_jobs = -1)"
   ]
  },
  {
   "cell_type": "code",
   "execution_count": 114,
   "id": "affected-controversy",
   "metadata": {},
   "outputs": [
    {
     "name": "stdout",
     "output_type": "stream",
     "text": [
      "Fitting 5 folds for each of 10 candidates, totalling 50 fits\n"
     ]
    },
    {
     "data": {
      "text/plain": [
       "RandomizedSearchCV(cv=5, estimator=RandomForestRegressor(), n_jobs=-1,\n",
       "                   param_distributions={'bootstrap': [True, False],\n",
       "                                        'max_depth': [10, 20, 30, 40, 50, 60,\n",
       "                                                      70, 80, 90, 100, 110,\n",
       "                                                      None],\n",
       "                                        'max_features': ['auto', 'sqrt'],\n",
       "                                        'min_samples_leaf': [1, 2, 4],\n",
       "                                        'min_samples_split': [2, 5, 10],\n",
       "                                        'n_estimators': [200, 400, 600, 800,\n",
       "                                                         1000, 1200, 1400, 1600,\n",
       "                                                         1800, 2000]},\n",
       "                   random_state=42, verbose=2)"
      ]
     },
     "execution_count": 114,
     "metadata": {},
     "output_type": "execute_result"
    }
   ],
   "source": [
    "rf_random.fit(X_train,y_train)"
   ]
  },
  {
   "cell_type": "code",
   "execution_count": 115,
   "id": "julian-impression",
   "metadata": {},
   "outputs": [
    {
     "data": {
      "text/plain": [
       "{'n_estimators': 1400,\n",
       " 'min_samples_split': 5,\n",
       " 'min_samples_leaf': 1,\n",
       " 'max_features': 'sqrt',\n",
       " 'max_depth': 30,\n",
       " 'bootstrap': True}"
      ]
     },
     "execution_count": 115,
     "metadata": {},
     "output_type": "execute_result"
    }
   ],
   "source": [
    "rf_random.best_params_"
   ]
  },
  {
   "cell_type": "code",
   "execution_count": 116,
   "id": "exotic-orientation",
   "metadata": {},
   "outputs": [
    {
     "data": {
      "text/plain": [
       "RandomForestRegressor(max_depth=30, max_features='sqrt', min_samples_split=5,\n",
       "                      n_estimators=1400)"
      ]
     },
     "execution_count": 116,
     "metadata": {},
     "output_type": "execute_result"
    }
   ],
   "source": [
    "rf_random.best_estimator_"
   ]
  },
  {
   "cell_type": "code",
   "execution_count": 117,
   "id": "miniature-substance",
   "metadata": {},
   "outputs": [
    {
     "data": {
      "text/plain": [
       "array([0.81116064, 0.85610782, 0.85626155, 0.75977049, 0.89360399])"
      ]
     },
     "execution_count": 117,
     "metadata": {},
     "output_type": "execute_result"
    }
   ],
   "source": [
    "scores = cross_val_score(rf_random.best_estimator_,X_train,y_train,scoring='r2',cv=5)\n",
    "scores"
   ]
  },
  {
   "cell_type": "code",
   "execution_count": 118,
   "id": "efficient-element",
   "metadata": {},
   "outputs": [
    {
     "data": {
      "text/plain": [
       "0.835380897067273"
      ]
     },
     "execution_count": 118,
     "metadata": {},
     "output_type": "execute_result"
    }
   ],
   "source": [
    "scores.mean()"
   ]
  },
  {
   "cell_type": "markdown",
   "id": "compound-principal",
   "metadata": {},
   "source": [
    "---"
   ]
  },
  {
   "cell_type": "code",
   "execution_count": 120,
   "id": "interpreted-treatment",
   "metadata": {},
   "outputs": [],
   "source": [
    "#  GBM\n",
    "\n",
    "n_estimators = [int(x) for x in np.linspace(start = 200, stop = 2000, num = 10)]\n",
    "max_features = ['auto', 'sqrt']\n",
    "max_depth = [int(x) for x in np.linspace(10, 110, num = 11)]\n",
    "max_depth.append(None)\n",
    "max_leaf_nodes = [2, 5, 10]\n",
    "min_samples_leaf = [1, 2, 4]\n",
    "min_samples_split = [2, 5, 10]\n",
    "bootstrap = [True, False]\n",
    "learning_rate = [0.05,0.10,0.15,0.20,0.25,0.30]\n",
    "\n",
    "random_grid = {'n_estimators': n_estimators,\n",
    "               'max_depth': max_depth,\n",
    "               'learning_rate' : learning_rate,}\n"
   ]
  },
  {
   "cell_type": "code",
   "execution_count": 121,
   "id": "adaptive-relations",
   "metadata": {},
   "outputs": [],
   "source": [
    "model_GBM = XGBRegressor()\n",
    "\n",
    "rcv_GBM = RandomizedSearchCV(estimator = model_GBM, param_distributions = random_grid, cv = 5, verbose=2, random_state=42, n_jobs = -1)"
   ]
  },
  {
   "cell_type": "code",
   "execution_count": 122,
   "id": "effective-expression",
   "metadata": {},
   "outputs": [
    {
     "data": {
      "text/plain": [
       "dict_keys(['objective', 'base_score', 'booster', 'colsample_bylevel', 'colsample_bynode', 'colsample_bytree', 'gamma', 'gpu_id', 'importance_type', 'interaction_constraints', 'learning_rate', 'max_delta_step', 'max_depth', 'min_child_weight', 'missing', 'monotone_constraints', 'n_estimators', 'n_jobs', 'num_parallel_tree', 'random_state', 'reg_alpha', 'reg_lambda', 'scale_pos_weight', 'subsample', 'tree_method', 'validate_parameters', 'verbosity'])"
      ]
     },
     "execution_count": 122,
     "metadata": {},
     "output_type": "execute_result"
    }
   ],
   "source": [
    "model_GBM.get_params().keys()"
   ]
  },
  {
   "cell_type": "code",
   "execution_count": 123,
   "id": "juvenile-tractor",
   "metadata": {},
   "outputs": [
    {
     "name": "stdout",
     "output_type": "stream",
     "text": [
      "Fitting 5 folds for each of 10 candidates, totalling 50 fits\n"
     ]
    },
    {
     "data": {
      "text/plain": [
       "RandomizedSearchCV(cv=5,\n",
       "                   estimator=XGBRegressor(base_score=None, booster=None,\n",
       "                                          colsample_bylevel=None,\n",
       "                                          colsample_bynode=None,\n",
       "                                          colsample_bytree=None, gamma=None,\n",
       "                                          gpu_id=None, importance_type='gain',\n",
       "                                          interaction_constraints=None,\n",
       "                                          learning_rate=None,\n",
       "                                          max_delta_step=None, max_depth=None,\n",
       "                                          min_child_weight=None, missing=nan,\n",
       "                                          monotone_constraints=None,\n",
       "                                          n_estimators=100, n...\n",
       "                                          random_state=None, reg_alpha=None,\n",
       "                                          reg_lambda=None,\n",
       "                                          scale_pos_weight=None, subsample=None,\n",
       "                                          tree_method=None,\n",
       "                                          validate_parameters=None,\n",
       "                                          verbosity=None),\n",
       "                   n_jobs=-1,\n",
       "                   param_distributions={'learning_rate': [0.05, 0.1, 0.15, 0.2,\n",
       "                                                          0.25, 0.3],\n",
       "                                        'max_depth': [10, 20, 30, 40, 50, 60,\n",
       "                                                      70, 80, 90, 100, 110,\n",
       "                                                      None],\n",
       "                                        'n_estimators': [200, 400, 600, 800,\n",
       "                                                         1000, 1200, 1400, 1600,\n",
       "                                                         1800, 2000]},\n",
       "                   random_state=42, verbose=2)"
      ]
     },
     "execution_count": 123,
     "metadata": {},
     "output_type": "execute_result"
    }
   ],
   "source": [
    "rcv_GBM.fit(X_train,y_train)"
   ]
  },
  {
   "cell_type": "code",
   "execution_count": 124,
   "id": "falling-reynolds",
   "metadata": {},
   "outputs": [
    {
     "data": {
      "text/plain": [
       "{'n_estimators': 200, 'max_depth': 40, 'learning_rate': 0.2}"
      ]
     },
     "execution_count": 124,
     "metadata": {},
     "output_type": "execute_result"
    }
   ],
   "source": [
    "rcv_GBM.best_params_"
   ]
  },
  {
   "cell_type": "code",
   "execution_count": 125,
   "id": "celtic-crowd",
   "metadata": {},
   "outputs": [
    {
     "data": {
      "text/plain": [
       "XGBRegressor(base_score=0.5, booster='gbtree', colsample_bylevel=1,\n",
       "             colsample_bynode=1, colsample_bytree=1, gamma=0, gpu_id=-1,\n",
       "             importance_type='gain', interaction_constraints='',\n",
       "             learning_rate=0.2, max_delta_step=0, max_depth=40,\n",
       "             min_child_weight=1, missing=nan, monotone_constraints='()',\n",
       "             n_estimators=200, n_jobs=4, num_parallel_tree=1, random_state=0,\n",
       "             reg_alpha=0, reg_lambda=1, scale_pos_weight=1, subsample=1,\n",
       "             tree_method='exact', validate_parameters=1, verbosity=None)"
      ]
     },
     "execution_count": 125,
     "metadata": {},
     "output_type": "execute_result"
    }
   ],
   "source": [
    "rcv_GBM.best_estimator_"
   ]
  },
  {
   "cell_type": "code",
   "execution_count": 126,
   "id": "removed-laser",
   "metadata": {},
   "outputs": [
    {
     "data": {
      "text/plain": [
       "array([0.7645509 , 0.85508882, 0.89285788, 0.80599959, 0.88618237])"
      ]
     },
     "execution_count": 126,
     "metadata": {},
     "output_type": "execute_result"
    }
   ],
   "source": [
    "scores = cross_val_score(rcv_GBM.best_estimator_,X_train,y_train,scoring='r2',cv=5)\n",
    "scores"
   ]
  },
  {
   "cell_type": "code",
   "execution_count": 127,
   "id": "figured-vitamin",
   "metadata": {},
   "outputs": [
    {
     "data": {
      "text/plain": [
       "0.8409359098240745"
      ]
     },
     "execution_count": 127,
     "metadata": {},
     "output_type": "execute_result"
    }
   ],
   "source": [
    "scores.mean()"
   ]
  },
  {
   "cell_type": "markdown",
   "id": "devoted-precipitation",
   "metadata": {},
   "source": [
    "---"
   ]
  },
  {
   "cell_type": "code",
   "execution_count": 128,
   "id": "deluxe-thanksgiving",
   "metadata": {},
   "outputs": [],
   "source": [
    "# XGBOOST\n",
    "\n",
    "model_xg = XGBRegressor()\n",
    "\n",
    "random_grid = {\"learning_rate\"    : [0.05, 0.10, 0.15, 0.20, 0.25, 0.30 ] ,\n",
    "          \"max_depth\"        : [ 3, 4, 5, 6, 8, 10, 12, 15],\n",
    "         \"min_child_weight\" : [ 1, 3, 5, 7 ],\n",
    "         \"gamma\"            : [ 0.0, 0.1, 0.2 , 0.3, 0.4 ],\n",
    "         \"colsample_bytree\" : [ 0.3, 0.4, 0.5 , 0.7 ] }"
   ]
  },
  {
   "cell_type": "code",
   "execution_count": 129,
   "id": "democratic-discussion",
   "metadata": {},
   "outputs": [],
   "source": [
    "f_xgb = RandomizedSearchCV(estimator = model_xg, param_distributions = random_grid, cv = 5, verbose=2, random_state=42, n_jobs = -1)"
   ]
  },
  {
   "cell_type": "code",
   "execution_count": 130,
   "id": "pursuant-measurement",
   "metadata": {},
   "outputs": [
    {
     "name": "stdout",
     "output_type": "stream",
     "text": [
      "Fitting 5 folds for each of 10 candidates, totalling 50 fits\n"
     ]
    },
    {
     "data": {
      "text/plain": [
       "RandomizedSearchCV(cv=5,\n",
       "                   estimator=XGBRegressor(base_score=None, booster=None,\n",
       "                                          colsample_bylevel=None,\n",
       "                                          colsample_bynode=None,\n",
       "                                          colsample_bytree=None, gamma=None,\n",
       "                                          gpu_id=None, importance_type='gain',\n",
       "                                          interaction_constraints=None,\n",
       "                                          learning_rate=None,\n",
       "                                          max_delta_step=None, max_depth=None,\n",
       "                                          min_child_weight=None, missing=nan,\n",
       "                                          monotone_constraints=None,\n",
       "                                          n_estimators=100, n...\n",
       "                                          random_state=None, reg_alpha=None,\n",
       "                                          reg_lambda=None,\n",
       "                                          scale_pos_weight=None, subsample=None,\n",
       "                                          tree_method=None,\n",
       "                                          validate_parameters=None,\n",
       "                                          verbosity=None),\n",
       "                   n_jobs=-1,\n",
       "                   param_distributions={'colsample_bytree': [0.3, 0.4, 0.5,\n",
       "                                                             0.7],\n",
       "                                        'gamma': [0.0, 0.1, 0.2, 0.3, 0.4],\n",
       "                                        'learning_rate': [0.05, 0.1, 0.15, 0.2,\n",
       "                                                          0.25, 0.3],\n",
       "                                        'max_depth': [3, 4, 5, 6, 8, 10, 12,\n",
       "                                                      15],\n",
       "                                        'min_child_weight': [1, 3, 5, 7]},\n",
       "                   random_state=42, verbose=2)"
      ]
     },
     "execution_count": 130,
     "metadata": {},
     "output_type": "execute_result"
    }
   ],
   "source": [
    "f_xgb.fit(X_train,y_train)\n"
   ]
  },
  {
   "cell_type": "code",
   "execution_count": 131,
   "id": "liked-branch",
   "metadata": {},
   "outputs": [
    {
     "data": {
      "text/plain": [
       "XGBRegressor(base_score=0.5, booster='gbtree', colsample_bylevel=1,\n",
       "             colsample_bynode=1, colsample_bytree=0.5, gamma=0.1, gpu_id=-1,\n",
       "             importance_type='gain', interaction_constraints='',\n",
       "             learning_rate=0.1, max_delta_step=0, max_depth=12,\n",
       "             min_child_weight=3, missing=nan, monotone_constraints='()',\n",
       "             n_estimators=100, n_jobs=4, num_parallel_tree=1, random_state=0,\n",
       "             reg_alpha=0, reg_lambda=1, scale_pos_weight=1, subsample=1,\n",
       "             tree_method='exact', validate_parameters=1, verbosity=None)"
      ]
     },
     "execution_count": 131,
     "metadata": {},
     "output_type": "execute_result"
    }
   ],
   "source": [
    "f_xgb.best_estimator_"
   ]
  },
  {
   "cell_type": "code",
   "execution_count": 132,
   "id": "loaded-member",
   "metadata": {},
   "outputs": [
    {
     "data": {
      "text/plain": [
       "{'min_child_weight': 3,\n",
       " 'max_depth': 12,\n",
       " 'learning_rate': 0.1,\n",
       " 'gamma': 0.1,\n",
       " 'colsample_bytree': 0.5}"
      ]
     },
     "execution_count": 132,
     "metadata": {},
     "output_type": "execute_result"
    }
   ],
   "source": [
    "f_xgb.best_params_"
   ]
  },
  {
   "cell_type": "code",
   "execution_count": 133,
   "id": "stylish-bhutan",
   "metadata": {},
   "outputs": [
    {
     "data": {
      "text/plain": [
       "array([0.78060721, 0.86779843, 0.90822083, 0.81105555, 0.87452207])"
      ]
     },
     "execution_count": 133,
     "metadata": {},
     "output_type": "execute_result"
    }
   ],
   "source": [
    "scores = cross_val_score(f_xgb.best_estimator_,X_train,y_train,scoring='r2',cv=5)\n",
    "scores"
   ]
  },
  {
   "cell_type": "code",
   "execution_count": 134,
   "id": "fitting-aquatic",
   "metadata": {},
   "outputs": [
    {
     "data": {
      "text/plain": [
       "0.8484408187891166"
      ]
     },
     "execution_count": 134,
     "metadata": {},
     "output_type": "execute_result"
    }
   ],
   "source": [
    "scores.mean()"
   ]
  },
  {
   "cell_type": "markdown",
   "id": "cognitive-wiring",
   "metadata": {},
   "source": [
    "### Here , XGBoost model have heighest accuracy so we will use it for final deployment"
   ]
  },
  {
   "cell_type": "code",
   "execution_count": 135,
   "id": "animated-hamilton",
   "metadata": {},
   "outputs": [],
   "source": [
    "y_pred = f_xgb.best_estimator_.predict(X_test)"
   ]
  },
  {
   "cell_type": "code",
   "execution_count": 136,
   "id": "judicial-china",
   "metadata": {},
   "outputs": [
    {
     "data": {
      "text/plain": [
       "111724501009185.02"
      ]
     },
     "execution_count": 136,
     "metadata": {},
     "output_type": "execute_result"
    }
   ],
   "source": [
    "from sklearn.metrics import mean_squared_error\n",
    "\n",
    "MSE = mean_squared_error(y_test, y_pred)\n",
    "MSE"
   ]
  },
  {
   "cell_type": "code",
   "execution_count": 137,
   "id": "diagnostic-samoa",
   "metadata": {},
   "outputs": [
    {
     "data": {
      "text/plain": [
       "10569981.126245448"
      ]
     },
     "execution_count": 137,
     "metadata": {},
     "output_type": "execute_result"
    }
   ],
   "source": [
    "np.sqrt(MSE)"
   ]
  },
  {
   "cell_type": "code",
   "execution_count": 138,
   "id": "eleven-calculator",
   "metadata": {},
   "outputs": [
    {
     "data": {
      "text/plain": [
       "0.8522632299760878"
      ]
     },
     "execution_count": 138,
     "metadata": {},
     "output_type": "execute_result"
    }
   ],
   "source": [
    "f_xgb.best_estimator_.score(X_test,y_test)"
   ]
  },
  {
   "cell_type": "code",
   "execution_count": 139,
   "id": "ecological-control",
   "metadata": {},
   "outputs": [
    {
     "name": "stdout",
     "output_type": "stream",
     "text": [
      "Mean absolute error = 5341925.83\n",
      "Mean squared error = 111724501009185.02\n",
      "Median absolute error = 2110785.0\n",
      "Explain variance score = 0.85\n",
      "R2 score = 0.85\n"
     ]
    }
   ],
   "source": [
    "import sklearn.metrics as sm\n",
    "print(\"Mean absolute error =\", round(sm.mean_absolute_error(y_test, y_pred), 2)) \n",
    "print(\"Mean squared error =\", round(sm.mean_squared_error(y_test, y_pred), 2)) \n",
    "print(\"Median absolute error =\", round(sm.median_absolute_error(y_test, y_pred), 2)) \n",
    "print(\"Explain variance score =\", round(sm.explained_variance_score(y_test, y_pred), 2)) \n",
    "print(\"R2 score =\", round(sm.r2_score(y_test, y_pred), 2))"
   ]
  },
  {
   "cell_type": "code",
   "execution_count": 143,
   "id": "supported-ticket",
   "metadata": {},
   "outputs": [],
   "source": [
    "#we choose XGBRegressor() for deployement\n",
    "\n",
    "import pickle\n",
    "\n",
    "file =  open('model_XGB.pkl','wb')\n",
    "\n",
    "pickle.dump(f_xgb.best_estimator_,file)\n",
    "file.close()"
   ]
  },
  {
   "cell_type": "code",
   "execution_count": null,
   "id": "oriented-diagram",
   "metadata": {},
   "outputs": [],
   "source": []
  }
 ],
 "metadata": {
  "kernelspec": {
   "display_name": "Python 3",
   "language": "python",
   "name": "python3"
  },
  "language_info": {
   "codemirror_mode": {
    "name": "ipython",
    "version": 3
   },
   "file_extension": ".py",
   "mimetype": "text/x-python",
   "name": "python",
   "nbconvert_exporter": "python",
   "pygments_lexer": "ipython3",
   "version": "3.8.5"
  }
 },
 "nbformat": 4,
 "nbformat_minor": 5
}
